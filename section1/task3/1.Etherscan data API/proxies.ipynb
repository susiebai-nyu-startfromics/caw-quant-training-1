{
 "metadata": {
  "language_info": {
   "codemirror_mode": {
    "name": "ipython",
    "version": 3
   },
   "file_extension": ".py",
   "mimetype": "text/x-python",
   "name": "python",
   "nbconvert_exporter": "python",
   "pygments_lexer": "ipython3",
   "version": "3.7.7-final"
  },
  "orig_nbformat": 2,
  "kernelspec": {
   "name": "python_defaultSpec_1600060817421",
   "display_name": "Python 3.7.7 64-bit ('cryptoalgowheel': conda)"
  }
 },
 "nbformat": 4,
 "nbformat_minor": 2,
 "cells": [
  {
   "cell_type": "code",
   "execution_count": 1,
   "metadata": {},
   "outputs": [],
   "source": [
    "# ***Important: still, need to install \"py-etherscan-api\" package/module from PyPI first!\n",
    "\n",
    "# first, activate cryptoalgowheel conda environment\n",
    "# then: /anaconda3/envs/cryptoalgowheel/bin/pip install py-etherscan-api\n"
   ]
  },
  {
   "cell_type": "code",
   "execution_count": 2,
   "metadata": {},
   "outputs": [],
   "source": [
    "%load_ext autoreload\n",
    "%autoreload 2\n",
    "from etherscan.proxies import Proxies\n",
    "import json\n",
    "import pandas as pd\n",
    "import numpy as np\n",
    "from datetime import datetime"
   ]
  },
  {
   "cell_type": "code",
   "execution_count": 3,
   "metadata": {
    "tags": []
   },
   "outputs": [
    {
     "output_type": "stream",
     "name": "stdout",
     "text": "MDGE4ZAZAQ4VXY2VCSC4GNB9H26TVKTN7R\n"
    }
   ],
   "source": [
    "with open(\"/Users/baixiao/Desktop/caw-quant-training/section1/task3/api_key.json\", mode='r') as key_file:\n",
    "    key = json.loads(key_file.read())['key']\n",
    "print(key)"
   ]
  },
  {
   "cell_type": "code",
   "execution_count": 4,
   "metadata": {},
   "outputs": [],
   "source": [
    "##### OOP:\n",
    "class Proxies_usage:\n",
    "    def __init__(self, key):\n",
    "        self.api_key = key\n",
    "        self.api = Proxies(api_key=key)\n",
    "\n",
    "    #### get information about a block by block number (and save the result in a JSON file)\n",
    "    def block_info_by_number(self, block_number):\n",
    "        block = self.api.get_block_by_number(block_number)\n",
    "        with open(\"./block_info_by_number.json\", \"w\") as json_file:\n",
    "            json.dump(block, json_file)\n",
    "    \n",
    "    #### get the number of transactions in a block matching the given block number\n",
    "    def block_trans_count_by_number(self, block_number):\n",
    "        tx_count = self.api.get_block_transaction_count_by_number(block_number = block_number)\n",
    "        return int(tx_count, 16)\n",
    "\n",
    "    #### get the number of most recent block\n",
    "    def most_recent_block(self):\n",
    "        block = self.api.get_most_recent_block()\n",
    "        return int(block, 16)\n",
    "    \n",
    "    #### get information about a transaction by block number and transaction index position (and save to a csv file)\n",
    "    def trans_info_by_number_index(self, block_number, index):\n",
    "        transaction = self.api.get_transaction_by_blocknumber_index(block_number=block_number, index=index)\n",
    "        transaction = pd.DataFrame(transaction, index=[0])\n",
    "        transaction.to_csv(\"./transaction_info_by_number_index.csv\", index=False)\n",
    "\n",
    "    #### get the informationa bout a transaction by transaction hash (and save to a csv file)\n",
    "    def trans_info_by_hash(self, hash):\n",
    "        transaction = self.api.get_transaction_by_hash(tx_hash = hash)\n",
    "        transaction = pd.DataFrame(transaction, index=[0])\n",
    "        transaction.to_csv(\"./transaction_info_by_hash.csv\", index=False)\n",
    "\n",
    "    #### get the number of transactions sent from an address\n",
    "    def trans_count_from_addr(self, address):\n",
    "        count = self.api.get_transaction_count(address)\n",
    "        return int(count, 16)\n",
    "\n",
    "    #### get (display) the receipt of a transaction by transaction hash\n",
    "    def trans_receipt_by_hash(self, hash):\n",
    "        receipt = self.api.get_transaction_receipt(hash)\n",
    "        receipt = pd.DataFrame.from_dict(receipt, orient=\"index\")\n",
    "        display(receipt)\n",
    "\n",
    "    #### get information about a uncle by block number\n",
    "    def uncle_by_number_index(self, block_number, index = \"0x0\"):\n",
    "        uncles = self.api.get_uncle_by_blocknumber_index(block_number=block_number, index=index)\n",
    "        return uncles[\"uncles\"]\n"
   ]
  },
  {
   "cell_type": "code",
   "execution_count": 5,
   "metadata": {
    "tags": []
   },
   "outputs": [
    {
     "output_type": "stream",
     "name": "stdout",
     "text": "transaction count: 3\nmost recent block: 10858539\ntransaction count: 0\nThis is the transaction receipt below:\n"
    },
    {
     "output_type": "display_data",
     "data": {
      "text/plain": "                                                                   0\nblockHash          0x9353b82737a63d679c1ca3f7ed27ffd8b4eca1b6f38c...\nblockNumber                                                 0x580a4c\ncontractAddress                                                 None\ncumulativeGasUsed                                           0x79effd\nfrom                      0x59a5208b32e627891c389ebafc644145224006e8\ngasUsed                                                       0x5208\nlogs                                                              []\nlogsBloom          0x00000000000000000000000000000000000000000000...\nstatus                                                           0x1\nto                        0xccf32d8c6d15f21e2df61cb53436a939c0dca93a\ntransactionHash    0xb03d4625fd433ad05f036abdc895a1837a7d838ed39f...\ntransactionIndex                                                0xb9",
      "text/html": "<div>\n<style scoped>\n    .dataframe tbody tr th:only-of-type {\n        vertical-align: middle;\n    }\n\n    .dataframe tbody tr th {\n        vertical-align: top;\n    }\n\n    .dataframe thead th {\n        text-align: right;\n    }\n</style>\n<table border=\"1\" class=\"dataframe\">\n  <thead>\n    <tr style=\"text-align: right;\">\n      <th></th>\n      <th>0</th>\n    </tr>\n  </thead>\n  <tbody>\n    <tr>\n      <th>blockHash</th>\n      <td>0x9353b82737a63d679c1ca3f7ed27ffd8b4eca1b6f38c...</td>\n    </tr>\n    <tr>\n      <th>blockNumber</th>\n      <td>0x580a4c</td>\n    </tr>\n    <tr>\n      <th>contractAddress</th>\n      <td>None</td>\n    </tr>\n    <tr>\n      <th>cumulativeGasUsed</th>\n      <td>0x79effd</td>\n    </tr>\n    <tr>\n      <th>from</th>\n      <td>0x59a5208b32e627891c389ebafc644145224006e8</td>\n    </tr>\n    <tr>\n      <th>gasUsed</th>\n      <td>0x5208</td>\n    </tr>\n    <tr>\n      <th>logs</th>\n      <td>[]</td>\n    </tr>\n    <tr>\n      <th>logsBloom</th>\n      <td>0x00000000000000000000000000000000000000000000...</td>\n    </tr>\n    <tr>\n      <th>status</th>\n      <td>0x1</td>\n    </tr>\n    <tr>\n      <th>to</th>\n      <td>0xccf32d8c6d15f21e2df61cb53436a939c0dca93a</td>\n    </tr>\n    <tr>\n      <th>transactionHash</th>\n      <td>0xb03d4625fd433ad05f036abdc895a1837a7d838ed39f...</td>\n    </tr>\n    <tr>\n      <th>transactionIndex</th>\n      <td>0xb9</td>\n    </tr>\n  </tbody>\n</table>\n</div>"
     },
     "metadata": {}
    },
    {
     "output_type": "stream",
     "name": "stdout",
     "text": "Uncles: []\n"
    }
   ],
   "source": [
    "proxies = Proxies_usage(key)\n",
    "proxies.block_info_by_number(5747732)\n",
    "#print(\"transaction count:\", proxies.block_trans_count_by_number(\"0x10FB78\"))\n",
    "print(\"transaction count:\", proxies.block_trans_count_by_number(\"0x10FB78\"))\n",
    "print(\"most recent block:\", proxies.most_recent_block())\n",
    "proxies.trans_info_by_number_index(block_number = '0x57b2cc', index = '0x2')\n",
    "proxies.trans_info_by_hash('0x1e2910a262b1008d0616a0beb24c1a491d78771baa54a33e66065e03b1f46bc1')\n",
    "print(\"transaction count:\", proxies.trans_count_from_addr('0x6E2446aCfcec11CC4a60f36aFA061a9ba81aF7e0'))\n",
    "print(\"This is the transaction receipt below:\")\n",
    "proxies.trans_receipt_by_hash('0xb03d4625fd433ad05f036abdc895a1837a7d838ed39f970db69e7d832e41205d')\n",
    "print(\"Uncles:\", proxies.uncle_by_number_index(block_number = \"0x210A9B\"))\n"
   ]
  },
  {
   "cell_type": "code",
   "execution_count": null,
   "metadata": {},
   "outputs": [],
   "source": []
  }
 ]
}