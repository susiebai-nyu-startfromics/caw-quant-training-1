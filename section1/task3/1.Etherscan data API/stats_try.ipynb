{
 "metadata": {
  "language_info": {
   "codemirror_mode": {
    "name": "ipython",
    "version": 3
   },
   "file_extension": ".py",
   "mimetype": "text/x-python",
   "name": "python",
   "nbconvert_exporter": "python",
   "pygments_lexer": "ipython3",
   "version": "3.7.7-final"
  },
  "orig_nbformat": 2,
  "kernelspec": {
   "name": "python_defaultSpec_1600077752518",
   "display_name": "Python 3.7.7 64-bit ('cryptoalgowheel': conda)"
  }
 },
 "nbformat": 4,
 "nbformat_minor": 2,
 "cells": [
  {
   "cell_type": "code",
   "execution_count": 1,
   "metadata": {},
   "outputs": [],
   "source": [
    "# ***Important: still, need to install \"py-etherscan-api\" package/module from PyPI first!\n",
    "\n",
    "# first, activate cryptoalgowheel conda environment\n",
    "# then: /anaconda3/envs/cryptoalgowheel/bin/pip install py-etherscan-api\n"
   ]
  },
  {
   "cell_type": "code",
   "execution_count": 2,
   "metadata": {},
   "outputs": [],
   "source": [
    "%load_ext autoreload\n",
    "%autoreload 2\n",
    "import etherscan.stats as stats\n",
    "import json\n",
    "import pandas as pd\n",
    "import numpy as np\n",
    "from datetime import datetime\n"
   ]
  },
  {
   "cell_type": "code",
   "execution_count": 3,
   "metadata": {
    "tags": []
   },
   "outputs": [
    {
     "output_type": "stream",
     "name": "stdout",
     "text": "MDGE4ZAZAQ4VXY2VCSC4GNB9H26TVKTN7R\n"
    }
   ],
   "source": [
    "with open(\"/Users/baixiao/Desktop/caw-quant-training/section1/task3/api_key.json\", mode='r') as key_file:\n",
    "    key = json.loads(key_file.read())['key']\n",
    "print(key)"
   ]
  },
  {
   "cell_type": "code",
   "execution_count": 4,
   "metadata": {},
   "outputs": [],
   "source": [
    "api = stats.Stats(api_key=key)"
   ]
  },
  {
   "source": [
    "#### get ETHER last price"
   ],
   "cell_type": "markdown",
   "metadata": {}
  },
  {
   "cell_type": "code",
   "execution_count": 5,
   "metadata": {},
   "outputs": [
    {
     "output_type": "execute_result",
     "data": {
      "text/plain": "{'ethbtc': '0.03527',\n 'ethbtc_timestamp': '1600078777',\n 'ethusd': '366.45',\n 'ethusd_timestamp': '1600078773'}"
     },
     "metadata": {},
     "execution_count": 5
    }
   ],
   "source": [
    "last_price = api.get_ether_last_price()\n",
    "last_price"
   ]
  },
  {
   "cell_type": "code",
   "execution_count": 6,
   "metadata": {},
   "outputs": [],
   "source": [
    "last_price = pd.DataFrame(last_price, index=[0])\n",
    "last_price.ethbtc_timestamp = last_price.ethbtc_timestamp.astype(\"int\").apply(lambda d: datetime.utcfromtimestamp(d).strftime(\"%Y/%m/%d %H:%M:%S UTC\"))\n",
    "last_price.ethusd_timestamp = last_price.ethusd_timestamp.astype(\"int\").apply(lambda d: datetime.utcfromtimestamp(d).strftime(\"%Y/%m/%d %H:%M:%S UTC\"))\n",
    "last_price.rename(columns={'ethbtc_timestamp': 'ethbtc_time', 'ethusd_timestamp': 'ethusd_time'}, inplace=True)\n",
    "last_price = last_price[[\"ethbtc_time\", \"ethbtc\", \"ethusd_time\", \"ethusd\"]]\n",
    "last_price.to_csv(\"./ethereum_last_price.csv\", index=False)"
   ]
  },
  {
   "source": [
    "#### get total supply of ETHER (in Wei)"
   ],
   "cell_type": "markdown",
   "metadata": {}
  },
  {
   "cell_type": "code",
   "execution_count": 8,
   "metadata": {},
   "outputs": [
    {
     "output_type": "execute_result",
     "data": {
      "text/plain": "'112597169561500000000000000'"
     },
     "metadata": {},
     "execution_count": 8
    }
   ],
   "source": [
    "api.get_total_ether_supply()"
   ]
  },
  {
   "cell_type": "code",
   "execution_count": null,
   "metadata": {},
   "outputs": [],
   "source": []
  }
 ]
}