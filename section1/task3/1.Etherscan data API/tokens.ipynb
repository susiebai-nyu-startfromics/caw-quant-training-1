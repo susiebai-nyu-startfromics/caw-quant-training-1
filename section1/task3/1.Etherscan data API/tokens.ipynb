{
 "metadata": {
  "language_info": {
   "codemirror_mode": {
    "name": "ipython",
    "version": 3
   },
   "file_extension": ".py",
   "mimetype": "text/x-python",
   "name": "python",
   "nbconvert_exporter": "python",
   "pygments_lexer": "ipython3",
   "version": "3.7.7-final"
  },
  "orig_nbformat": 2,
  "kernelspec": {
   "name": "python_defaultSpec_1600113573659",
   "display_name": "Python 3.7.7 64-bit ('cryptoalgowheel': conda)"
  }
 },
 "nbformat": 4,
 "nbformat_minor": 2,
 "cells": [
  {
   "cell_type": "code",
   "execution_count": 1,
   "metadata": {},
   "outputs": [],
   "source": [
    "# ***Important: still, need to install \"py-etherscan-api\" package/module from PyPI first!\n",
    "\n",
    "# first, activate cryptoalgowheel conda environment\n",
    "# then: /anaconda3/envs/cryptoalgowheel/bin/pip install py-etherscan-api"
   ]
  },
  {
   "cell_type": "code",
   "execution_count": 3,
   "metadata": {
    "tags": []
   },
   "outputs": [
    {
     "output_type": "stream",
     "name": "stdout",
     "text": "The autoreload extension is already loaded. To reload it, use:\n  %reload_ext autoreload\n"
    }
   ],
   "source": [
    "%load_ext autoreload\n",
    "%autoreload 2\n",
    "import etherscan.tokens as tokens\n",
    "import json\n",
    "import pandas as pd\n",
    "import numpy as np"
   ]
  },
  {
   "cell_type": "code",
   "execution_count": 4,
   "metadata": {
    "tags": []
   },
   "outputs": [
    {
     "output_type": "stream",
     "name": "stdout",
     "text": "MDGE4ZAZAQ4VXY2VCSC4GNB9H26TVKTN7R\n"
    }
   ],
   "source": [
    "with open(\"/Users/baixiao/Desktop/caw-quant-training/section1/task3/api_key.json\", mode='r') as key_file:\n",
    "    key = json.loads(key_file.read())['key']\n",
    "print(key)\n",
    "\n",
    "#setting up the ERC20 token contract address (can be found by searching Etherscan.io for the coin wanted) here:\n",
    "contract_address = '0x57d90b64a1a57749b0f932f1a3395792e12e7055'"
   ]
  },
  {
   "source": [
    "#### get ERC20-Token Account Balance for an address given the token contract address"
   ],
   "cell_type": "markdown",
   "metadata": {}
  },
  {
   "cell_type": "code",
   "execution_count": 6,
   "metadata": {
    "tags": []
   },
   "outputs": [
    {
     "output_type": "stream",
     "name": "stdout",
     "text": "135499\n"
    }
   ],
   "source": [
    "def ERC20token_account_bal(key, contract_address, address):\n",
    "    api = tokens.Tokens(contract_address = contract_address, api_key=key)\n",
    "    print(api.get_token_balance(address = address))\n",
    "\n",
    "ERC20token_account_bal(key, contract_address, '0xe04f27eb70e025b78871a2ad7eabe85e61212761')"
   ]
  },
  {
   "source": [
    "#### get ERC20-Token Total Supply given the token contract address"
   ],
   "cell_type": "markdown",
   "metadata": {}
  },
  {
   "cell_type": "code",
   "execution_count": 8,
   "metadata": {
    "tags": []
   },
   "outputs": [
    {
     "output_type": "stream",
     "name": "stdout",
     "text": "21265524714464\n"
    }
   ],
   "source": [
    "def ERC20token_total_supply(key, contract_adddress):\n",
    "    api = tokens.Tokens(contract_address = contract_address, api_key=key)\n",
    "    print(api.get_total_supply())\n",
    "\n",
    "ERC20token_total_supply(key, contract_address)"
   ]
  },
  {
   "cell_type": "code",
   "execution_count": null,
   "metadata": {},
   "outputs": [],
   "source": []
  }
 ]
}