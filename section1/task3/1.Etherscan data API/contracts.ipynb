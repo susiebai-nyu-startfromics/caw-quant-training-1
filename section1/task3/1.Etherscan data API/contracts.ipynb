{
 "metadata": {
  "language_info": {
   "codemirror_mode": {
    "name": "ipython",
    "version": 3
   },
   "file_extension": ".py",
   "mimetype": "text/x-python",
   "name": "python",
   "nbconvert_exporter": "python",
   "pygments_lexer": "ipython3",
   "version": "3.7.7-final"
  },
  "orig_nbformat": 2,
  "kernelspec": {
   "name": "python_defaultSpec_1600052362634",
   "display_name": "Python 3.7.7 64-bit ('cryptoalgowheel': conda)"
  }
 },
 "nbformat": 4,
 "nbformat_minor": 2,
 "cells": [
  {
   "cell_type": "code",
   "execution_count": 1,
   "metadata": {},
   "outputs": [],
   "source": [
    "# ***Important: still, need to install \"py-etherscan-api\" package/module from PyPI first!\n",
    "\n",
    "# first, activate cryptoalgowheel conda environment\n",
    "# then: /anaconda3/envs/cryptoalgowheel/bin/pip install py-etherscan-api"
   ]
  },
  {
   "cell_type": "code",
   "execution_count": 2,
   "metadata": {},
   "outputs": [],
   "source": [
    "%load_ext autoreload\n",
    "%autoreload 2\n",
    "import etherscan.contracts as contracts\n",
    "import json\n",
    "import pandas as pd\n",
    "import numpy as np"
   ]
  },
  {
   "source": [
    "#### get contract ABI (and save the JSON formatted result in a csv file)"
   ],
   "cell_type": "markdown",
   "metadata": {}
  },
  {
   "cell_type": "code",
   "execution_count": 3,
   "metadata": {
    "tags": []
   },
   "outputs": [
    {
     "output_type": "stream",
     "name": "stdout",
     "text": "MDGE4ZAZAQ4VXY2VCSC4GNB9H26TVKTN7R\n"
    }
   ],
   "source": [
    "with open(\"/Users/baixiao/Desktop/caw-quant-training/section1/task3/api_key.json\", mode='r') as key_file:\n",
    "    key = json.loads(key_file.read())['key']\n",
    "print(key)\n",
    "\n",
    "address = '0xfb6916095ca1df60bb79ce92ce3ea74c37c5d359'"
   ]
  },
  {
   "cell_type": "code",
   "execution_count": 4,
   "metadata": {},
   "outputs": [],
   "source": [
    "def get_contract_abi(address, key):\n",
    "    api = contracts.Contract(address=address, api_key=key)\n",
    "    abi = json.loads(api.get_abi())\n",
    "    abi = pd.DataFrame(abi)\n",
    "    abi.to_csv(\"./contract_abi.csv\", index=False)\n",
    "\n",
    "get_contract_abi(address, key)    #can pass in other address and key"
   ]
  },
  {
   "source": [
    "#### get and save contract source code (in Solidity language)"
   ],
   "cell_type": "markdown",
   "metadata": {}
  },
  {
   "cell_type": "code",
   "execution_count": 5,
   "metadata": {},
   "outputs": [],
   "source": [
    "def get_contract_sourcecode(address, key):\n",
    "    api = contracts.Contract(address=address, api_key=key)\n",
    "    sourcecode = api.get_sourcecode()\n",
    "    outF = open(\"./contract_source_code.sol\", \"w\")\n",
    "    outF.write(sourcecode[0]['SourceCode'])\n",
    "    outF.close()\n",
    "\n",
    "get_contract_sourcecode(address, key)"
   ]
  },
  {
   "cell_type": "code",
   "execution_count": null,
   "metadata": {},
   "outputs": [],
   "source": []
  }
 ]
}