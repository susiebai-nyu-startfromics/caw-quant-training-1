{
 "metadata": {
  "language_info": {
   "codemirror_mode": {
    "name": "ipython",
    "version": 3
   },
   "file_extension": ".py",
   "mimetype": "text/x-python",
   "name": "python",
   "nbconvert_exporter": "python",
   "pygments_lexer": "ipython3",
   "version": "3.7.7-final"
  },
  "orig_nbformat": 2,
  "kernelspec": {
   "name": "python_defaultSpec_1600053638856",
   "display_name": "Python 3.7.7 64-bit ('cryptoalgowheel': conda)"
  }
 },
 "nbformat": 4,
 "nbformat_minor": 2,
 "cells": [
  {
   "cell_type": "code",
   "execution_count": 1,
   "metadata": {},
   "outputs": [],
   "source": [
    "# ***Important: still, need to install \"py-etherscan-api\" package/module from PyPI first!\n",
    "\n",
    "# first, activate cryptoalgowheel conda environment\n",
    "# then: /anaconda3/envs/cryptoalgowheel/bin/pip install py-etherscan-api\n"
   ]
  },
  {
   "cell_type": "code",
   "execution_count": 2,
   "metadata": {
    "tags": []
   },
   "outputs": [],
   "source": [
    "%load_ext autoreload\n",
    "%autoreload 2\n",
    "from etherscan.proxies import Proxies\n",
    "import json\n",
    "import pandas as pd\n",
    "import numpy as np\n",
    "from datetime import datetime\n"
   ]
  },
  {
   "cell_type": "code",
   "execution_count": 3,
   "metadata": {
    "tags": []
   },
   "outputs": [
    {
     "output_type": "stream",
     "name": "stdout",
     "text": "MDGE4ZAZAQ4VXY2VCSC4GNB9H26TVKTN7R\n"
    }
   ],
   "source": [
    "with open(\"/Users/baixiao/Desktop/caw-quant-training/section1/task3/api_key.json\", mode='r') as key_file:\n",
    "    key = json.loads(key_file.read())['key']\n",
    "print(key)\n",
    "\n",
    "api = Proxies(api_key=key)"
   ]
  },
  {
   "source": [
    "### Notice that this version of package does not have \"gas_price\", \"get_code\", \"get_storage_at\" methods yet!"
   ],
   "cell_type": "markdown",
   "metadata": {}
  },
  {
   "source": [
    "#### get block information by number"
   ],
   "cell_type": "markdown",
   "metadata": {}
  },
  {
   "cell_type": "code",
   "execution_count": 4,
   "metadata": {
    "tags": []
   },
   "outputs": [
    {
     "output_type": "stream",
     "name": "stdout",
     "text": "<class 'dict'>\n"
    },
    {
     "output_type": "execute_result",
     "data": {
      "text/plain": "'0x57b414'"
     },
     "metadata": {},
     "execution_count": 4
    }
   ],
   "source": [
    "block = api.get_block_by_number(5747732)\n",
    "print(type(block))     \n",
    "block[\"number\"]"
   ]
  },
  {
   "cell_type": "code",
   "execution_count": 5,
   "metadata": {},
   "outputs": [
    {
     "output_type": "execute_result",
     "data": {
      "text/plain": "dict_keys(['difficulty', 'extraData', 'gasLimit', 'gasUsed', 'hash', 'logsBloom', 'miner', 'mixHash', 'nonce', 'number', 'parentHash', 'receiptsRoot', 'sha3Uncles', 'size', 'stateRoot', 'timestamp', 'totalDifficulty', 'transactions', 'transactionsRoot', 'uncles'])"
     },
     "metadata": {},
     "execution_count": 5
    }
   ],
   "source": [
    "block.keys()"
   ]
  },
  {
   "cell_type": "code",
   "execution_count": 6,
   "metadata": {},
   "outputs": [
    {
     "output_type": "execute_result",
     "data": {
      "text/plain": " '0x37c32',\n   'to': '0x2a0c0dbecc7e4d658f48e01e3fa353f44050c208',\n   'transactionIndex': '0x58',\n   'value': '0x0',\n   'v': '0x1c',\n   'r': '0x1e405bb78cbfe2c645a2bc71e37d70af623b8ae352170314ff7810d377a46033',\n   's': '0x231063090175b4f1d56008ada0c549b675c921aedb265dee583f71b28092fa9b'},\n  {'blockHash': '0x30e469ed23c4132a02b84fcba2d821bde7d18a37e2ada5e034e7125a6a2d2a2e',\n   'blockNumber': '0x57b414',\n   'from': '0xa7a7899d944fe658c4b0a1803bab2f490bd3849e',\n   'gas': '0x33450',\n   'gasPrice': '0x3f5476a00',\n   'hash': '0x66dd3633b7bd9619a0f7d4c09c9ba324036c73ae879e067556a20bd6b42b9bd7',\n   'input': '0xef343588000000000000000000000000000000000000000000000003005939399faa910a000000000000000000000000000000000000000000034e7daaa01ea80dc6a0da000000000000000000000000000000000000000000000000000000000002e6300000000000000000000000000000000000000000000000000000000000000087000000000000000000000000000000000000000000000000d02ab486cedbffff000000000000000000000000000000000000000000000000000000000000118500000000000000000000000000000000000000000000000000038d7ea4c680000000000000000000000000000000000000000000000000000007ca37fdc70aaa0000000000000000000000000000000000000000000000000000000000000000000000000000000000000000a15c7ebe1f07caf6bff097d8a589fb8ac49ae5b30000000000000000000000004627ba63bd3d82d6add05a8ff7514d9a0e02612d000000000000000000000000b0af40faf122ad68f01ccb7bd1abcabd220bb876000000000000000000000000000000000000000000000000000000000000001b000000000000000000000000000000000000000000000000000000000000001b93cd8da15ee9c6c139757caf89d9916b9b454802054191f008ee40d53f8b41ca11ec7d6ff1e85d4790d08c0330f7e46b5b47f41433a631a452eb3960ab1543b206555d493579e5ef8277f0c1ad3034f3804779b7eee50749a8d809e870e11d5a1ae546a0ec0bfc05a575731f00fe7439a2c050cde4ab447d1daa8e2b3b4403dd',\n   'nonce': '0x37c33',\n   'to': '0x2a0c0dbecc7e4d658f48e01e3fa353f44050c208',\n   'transactionIndex': '0x59',\n   'value': '0x0',\n   'v': '0x1c',\n   'r': '0xa39d101121fbc7d3c808882947975d06a68acf0c7a495717ba4bd791e3824b9a',\n   's': '0x205cf18a57de2a76f8a02b4d1dfab183017a34566ca408a7b54ef6465dfefda5'},\n  {'blockHash': '0x30e469ed23c4132a02b84fcba2d821bde7d18a37e2ada5e034e7125a6a2d2a2e',\n   'blockNumber': '0x57b414',\n   'from': '0xa7a7899d944fe658c4b0a1803bab2f490bd3849e',\n   'gas': '0x64190',\n   'gasPrice': '0x3f5476a00',\n   'hash': '0x317175cc63677faa0101e032e48ae8372cf421efd53eaa79c18d33e6085de4c1',\n   'input': '0x2295115b0000000000000000000000000000000000000000000000000000000000000000000000000000000000000000000000000000000000000000008e1bc9bf040000000000000000000000000000db7a7e799c94e441e4e4858354bcc2286a2664c0000000000000000000000000000000000000000000000000000000000000002d000000000000000000000000000000000000000000000000000000000000001c8d61dcd42caecd2977282c8258d630b3c2131ab9a68d803d3d91f33fc1993d0d45eaef26dca80503041b059a4efa2d7aa92dceb3e09bc38e24c2b4a820a1fac80000000000000000000000000000000000000000000000000096fd865af44000',\n   'nonce': '0x37c34',\n   'to': '0x2a0c0dbecc7e4d658f48e01e3fa353f44050c208',\n   'transactionIndex': '0x5a',\n   'value': '0x0',\n   'v': '0x1c',\n   'r': '0x761e28f5ee771156391ec14fbe7f464397d1dbb6bc8aef0a5f5acc101fba16be',\n   's': '0x756b72c39ed09ee83722d0f9293808689d566add4d07bfb1d1b46d8d9791e509'},\n  {'blockHash': '0x30e469ed23c4132a02b84fcba2d821bde7d18a37e2ada5e034e7125a6a2d2a2e',\n   'blockNumber': '0x57b414',\n   'from': '0xa7a7899d944fe658c4b0a1803bab2f490bd3849e',\n   'gas': '0x64190',\n   'gasPrice': '0x3f5476a00',\n   'hash': '0xa66fe39bc6ea19ec12c35f36f941b2fc977585c60d22af524d141b60e1c1d8eb',\n   'input': '0x2295115b000000000000000000000000a15c7ebe1f07caf6bff097d8a589fb8ac49ae5b300000000000000000000000000000000000000000000e4d5ba709a8de7f12928000000000000000000000000b0af40faf122ad68f01ccb7bd1abcabd220bb8760000000000000000000000000000000000000000000000000000000000001186000000000000000000000000000000000000000000000000000000000000001cb49c7c53f562c3d5e37916922589c066d1a74fdb1e68e8c4d58a86a4874d76573590603b8fc2ec8685e735f099fed39c84da35fe387f72fdbc8c04dbb60f1d1200000000000000000000000000000000000000000000000000006745ac5a69ec',\n   'nonce': '0x37c35',\n   'to': '0x2a0c0dbecc7e4d658f48e01e3fa353f44050c208',\n   'transactionIndex': '0x5b',\n   'value': '0x0',\n   'v': '0x1b',\n   'r': '0x6638da1ab995e4b351cfea4099003dafc475c3f41d949edf1e1c8119c3aeb252',\n   's': '0x4758a55f46fb9a0931f906e76411375aac6f170cc505b96986dda6354d01fa75'},\n  {'blockHash': '0x30e469ed23c4132a02b84fcba2d821bde7d18a37e2ada5e034e7125a6a2d2a2e',\n   'blockNumber': '0x57b414',\n   'from': '0xa7a7899d944fe658c4b0a1803bab2f490bd3849e',\n   'gas': '0x33450',\n   'gasPrice': '0x3f5476a00',\n   'hash': '0xe0e41daaa679f546be932b126c1cc65e27654a03a9843121aa15fa6bb2b82cbb',\n   'input': '0xef3435880000000000000000000000000000000000000000000000006124fee993bc000000000000000000000000000000000000000000000000000005bb454fd43c8000000000000000000000000000000000000000000000000000000000000002e63000000000000000000000000000000000000000000000000000000000000012e60000000000000000000000000000000000000000000000006124fee993bc0000000000000000000000000000000000000000000000000000000000000000308b00000000000000000000000000000000000000000000000000038d7ea4c68000000000000000000000000000000000000000000000000000001ff74009ce027a000000000000000000000000697b2658eb4085445625d6aeece29bd117c58c620000000000000000000000000000000000000000000000000000000000000000000000000000000000000000fe4e9fa005bb62dddfffc9582bd3457173f18f90000000000000000000000000948af1c7a15793cf4db41e4990ec2a7e08a260e5000000000000000000000000000000000000000000000000000000000000001b000000000000000000000000000000000000000000000000000000000000001bf2a008939445e0898e599e4d1ee77214b99691f0ce1fe6409c162e77fafb0d3e5c64d5242b151c8de47563bfbf8e9a3a606806bb1462f32a8e1f3991466feea297b597b58d9c192113b53928f0205a20b100ab2656ec3e1796676024eeb5b11c01a5281b7971ab25adfc3a2931bd1bd38d50999c7dce6ddb959378f92fb1f9e9',\n   'nonce': '0x37c36',\n   'to': '0x2a0c0dbecc7e4d658f48e01e3fa353f44050c208',\n   'transactionIndex': '0x5c',\n   'value': '0x0',\n   'v': '0x1c',\n   'r': '0x8abff2343b9c5c00ab037200d9f94688ac150187555cc27f4d0bda9839419dac',\n   's': '0x3a48b3d7cfbbe4da09f3329d95a16f71f69f4f20e81877e5bff75a5d4374fdb5'},\n  {'blockHash': '0x30e469ed23c4132a02b84fcba2d821bde7d18a37e2ada5e034e7125a6a2d2a2e',\n   'blockNumber': '0x57b414',\n   'from': '0xa7a7899d944fe658c4b0a1803bab2f490bd3849e',\n   'gas': '0x33450',\n   'gasPrice': '0x3f5476a00',\n   'hash': '0xbd78d179da699cce9035842060453955027e0a2f6813251de64d359b6d7ab696',\n   'input': '0xef34358800000000000000000000000000000000000000000000000015df2290eb395100000000000000000000000000000000000000000000000000000000003cffa689000000000000000000000000000000000000000000000000000000000002e630000000000000000000000000000000000000000000000000000000000000001000000000000000000000000000000000000000000000000007c081f072142b00000000000000000000000000000000000000000000000000000000000000002900000000000000000000000000000000000000000000000000038d7ea4c6800000000000000000000000000000000000000000000000000000197c7c6a46c45c0000000000000000000000000000000000000000000000000000000000000000000000000000000000000000d0929d411954c47438dc1d871dd6081f5c5e149c000000000000000000000000b1ba322e2afb665daa797d600ae31b998c202d90000000000000000000000000ac4984d936f2f6950530a68a1a5126de800812b5000000000000000000000000000000000000000000000000000000000000001c000000000000000000000000000000000000000000000000000000000000001b410ca602077a5db3b0179adf1e8eaa87b7bd69fc0583841bbf14a3e590f762ab0a5017d6bec30d7843b3b9859e3791ffc6b8bfd70324df01b7e0c10fd8c5fe61238333d1d13a6aba764ab515e5cfad40cde261969bc44839057b9d2d7ac0fbf96dc965835ab1a3113bc30630908eb9dda0df3d680b57bfcb8deef8535f66bed6',\n   'nonce': '0x37c37',\n   'to': '0x2a0c0dbecc7e4d658f48e01e3fa353f44050c208',\n   'transactionIndex': '0x5d',\n   'value': '0x0',\n   'v': '0x1b',\n   'r': '0xf08dd760df339655e0d27829765268d563ffe1cd012c67d4ce3f995debaaee9b',\n   's': '0xc80588afd7da3091655d36f28bdbec9e72ddcf40e2f1e49e345308683343a22'},\n  {'blockHash': '0x30e469ed23c4132a02b84fcba2d821bde7d18a37e2ada5e034e7125a6a2d2a2e',\n   'blockNumber': '0x57b414',\n   'from': '0xa7a7899d944fe658c4b0a1803bab2f490bd3849e',\n   'gas': '0x33450',\n   'gasPrice': '0x3f5476a00',\n   'hash': '0x2e13a8628ddb62866c2d78f92bab42634a1fd0b61ff3abb700b260907a92d806',\n   'input': '0xef3435880000000000000000000000000000000000000000000000ac71e530973608000000000000000000000000000000000000000000000000000012c4588be3e27b00000000000000000000000000000000000000000000000000000000000000271000000000000000000000000000000000000000000000000000000002af250dbd00000000000000000000000000000000000000000000000a093f3d0ea06d6800000000000000000000000000000000000000000000000000000000000000003d00000000000000000000000000000000000000000000000000038d7ea4c680000000000000000000000000000000000000000000000000000089901055ada364000000000000000000000000b1eef147028e9f480dbc5ccaa3277d417d1b85f00000000000000000000000000000000000000000000000000000000000000000000000000000000000000000fb1099322e2d0cc5ef996d893732e93855388e7a000000000000000000000000db3e56575db7ecd610ab4168ec9b5e7f5c2d2d64000000000000000000000000000000000000000000000000000000000000001c000000000000000000000000000000000000000000000000000000000000001b16c3017222707c4ed1658334fa6f4be0beaeccfaf06e65ab158ad45ac404275a6367b64e21e029a487633431eb385d23309154cf6c4d3dd30d88f8619ce772db3c29b6fe0c30be17d05c5f4519b63c1e1ba100c89b18254af9cf742a0f9f2c4b43d718d5f904900a3385ee249f9ebf9f938a2d2f8231cfa4e612a845c71dc961',\n   'nonce': '0x37c38',\n   'to': '0x2a0c0dbecc7e4d658f48e01e3fa353f44050c208',\n   'transactionIndex': '0x5e',\n   'value': '0x0',\n   'v': '0x1b',\n   'r': '0x88277837afef21d8ec761ea19600c31fde39faa1203d98752d31cea86ae8992c',\n   's': '0x2cd905009aea29222e8e4309df3cb9d4e3f2b38a654374b7a4a5bfefa3dd44c2'},\n  {'blockHash': '0x30e469ed23c4132a02b84fcba2d821bde7d18a37e2ada5e034e7125a6a2d2a2e',\n   'blockNumber': '0x57b414',\n   'from': '0xa7a7899d944fe658c4b0a1803bab2f490bd3849e',\n   'gas': '0x33450',\n   'gasPrice': '0x3f5476a00',\n   'hash': '0xb37059fbd8449381cba0a0248f4701a8ad88da76283631b35b24c6b0e79598ea',\n   'input': '0xef343588000000000000000000000000000000000000000000001dd641e3731e5e0000000000000000000000000000000000000000000000000000001b0fcaa37e6bdf00000000000000000000000000000000000000000000000000000000000000271000000000000000000000000000000000000000000000000000000002af250d9c000000000000000000000000000000000000000000000445a755297eff8942be000000000000000000000000000000000000000000000000000000000000009400000000000000000000000000000000000000000000000000038d7ea4c68000000000000000000000000000000000000000000000000000002be111d5083576000000000000000000000000a15c7ebe1f07caf6bff097d8a589fb8ac49ae5b30000000000000000000000000000000000000000000000000000000000000000000000000000000000000000e518168db1967b913964e89c1c1a46b371db7fc3000000000000000000000000406cd9b0b56f3d9c9c70ca542f0968ddfbf93c4b000000000000000000000000000000000000000000000000000000000000001b000000000000000000000000000000000000000000000000000000000000001cb0bfdf28deb587740657a4d6f62ee483d05e84e4c690d32725bfd56e962fbc176ce753538ece17d06e00f463f66b286f00a6e717e9d163e8a028e92661a954f1e9001fb924c94521102dcef8f1ee2dc4da12fc0f24ecb8b1f9505475af4d967d5c894e0a581010a7341d7385c1f7ea821d0638ea8426c98dba5806d97e8ddae6',\n   'nonce': '0x37c39',\n   'to': '0x2a0c0dbecc7e4d658f48e01e3fa353f44050c208',\n   'transactionIndex': '0x5f',\n   'value': '0x0',\n   'v': '0x1b',\n   'r': '0x78c205452119cf40c032913f9bc0be0e79bff18bae9067cbfc4f603b61a3883a',\n   's': '0x7ad6bf3671b001950e14a1959f4328899aca3c25bdd347667de07a0ab2644266'},\n  {'blockHash': '0x30e469ed23c4132a02b84fcba2d821bde7d18a37e2ada5e034e7125a6a2d2a2e',\n   'blockNumber': '0x57b414',\n   'from': '0xa7a7899d944fe658c4b0a1803bab2f490bd3849e',\n   'gas': '0x64190',\n   'gasPrice': '0x3f5476a00',\n   'hash': '0x858b7f995d48bb04ee404572f72bf76e099da980138eaf207185ee7742a0adee',\n   'input': '0x2295115b000000000000000000000000a15c7ebe1f07caf6bff097d8a589fb8ac49ae5b300000000000000000000000000000000000000000000078af8b2b31e0f21c1d000000000000000000000000065ce4a04989df10bb8031d2647c9fea9e8c5300b0000000000000000000000000000000000000000000000000000000000000009000000000000000000000000000000000000000000000000000000000000001ba97cf6281e1207e80a22782b31a783a02a963063e4b2942660cfbcc83fef82b77415d3135e7ec53f39c788e7ef43e2f509887e38e5ef800fe83a4a3a5db96ebc000000000000000000000000000000000000000000000000000c3d230bf96cd5',\n   'nonce': '0x37c3a',\n   'to': '0x2a0c0dbecc7e4d658f48e01e3fa353f44050c208',\n   'transactionIndex': '0x60',\n   'value': '0x0',\n   'v': '0x1b',\n   'r': '0xcb0e1bfc573cf2d23d974b6c12b03b61e934b485a8475142131e86ca91e4dde9',\n   's': '0x3ef622a898cdcbaf1be90bae33eada50e04c3f593c30a7c57f59cce5f66f1b3e'},\n  {'blockHash': '0x30e469ed23c4132a02b84fcba2d821bde7d18a37e2ada5e034e7125a6a2d2a2e',\n   'blockNumber': '0x57b414',\n   'from': '0xa7a7899d944fe658c4b0a1803bab2f490bd3849e',\n   'gas': '0x64190',\n   'gasPrice': '0x3f5476a00',\n   'hash': '0x22363167c03451e47e95cd6ea9443c0e6ccf810aed4266990d0f6021de2b037b',\n   'input': '0x2295115b0000000000000000000000000000000000000000000000000000000000000000000000000000000000000000000000000000000000000000130337bdce49000000000000000000000000000017564e99209efcacf222afdb89d11fda4b0cb4a20000000000000000000000000000000000000000000000000000000000000006000000000000000000000000000000000000000000000000000000000000001b541d26cb591de143e73e13f3e0ac36cb93ff2d5a86ac060e52416b1110d372944db742a9ca4d636a255a98989605f75b568c82a50e9d1b01bcf770f26c9cabd700000000000000000000000000000000000000000000000000046891eff82eb7',\n   'nonce': '0x37c3b',\n   'to': '0x2a0c0dbecc7e4d658f48e01e3fa353f44050c208',\n   'transactionIndex': '0x61',\n   'value': '0x0',\n   'v': '0x1b',\n   'r': '0x1820ef45731d7edfab38ae3b30547482713e91c01f6250069886b249818a7556',\n   's': '0x4497af0acd81b1b67f75833c9c05b42ad20554524a7b5c16c04a6e82e76e0d70'},\n  {'blockHash': '0x30e469ed23c4132a02b84fcba2d821bde7d18a37e2ada5e034e7125a6a2d2a2e',\n   'blockNumber': '0x57b414',\n   'from': '0xa7a7899d944fe658c4b0a1803bab2f490bd3849e',\n   'gas': '0x64190',\n   'gasPrice': '0x3f5476a00',\n   'hash': '0x982a2a6e8bbffe4a473d15ffda8f156340afe21f8149b4694456bee6dad59c84',\n   'input': '0x2295115b000000000000000000000000d780ae2bf04cd96e577d3d014762f831d97129d000000000000000000000000000000000000000000000012931737f662763660a00000000000000000000000016a961730aecefd0aa22967bd4ae9c88eabe890e0000000000000000000000000000000000000000000000000000000000000091000000000000000000000000000000000000000000000000000000000000001bbfbc88c0e40c2787c71aec3b88a90b448c8db5cfb817937876374c166a0303a349ee7803a6040ed2d3814e7a17a78406369c40c67cfcabe595099f3d3c09ab5600000000000000000000000000000000000000000000000000048d70f4fb2e47',\n   'nonce': '0x37c3c',\n   'to': '0x2a0c0dbecc7e4d658f48e01e3fa353f44050c208',\n   'transactionIndex': '0x62',\n   'value': '0x0',\n   'v': '0x1b',\n   'r': '0x7ab647fdea4807fadc412eba475d4ac061f6f28f8a147b3bfc437da9f96a14f5',\n   's': '0x5fc5c16c623ad1930308dbf451aaefebdb4e979287ec3ecfe96ce79ba0c5e824'},\n  {'blockHash': '0x30e469ed23c4132a02b84fcba2d821bde7d18a37e2ada5e034e7125a6a2d2a2e',\n   'blockNumber': '0x57b414',\n   'from': '0xa7a7899d944fe658c4b0a1803bab2f490bd3849e',\n   'gas': '0x33450',\n   'gasPrice': '0x3f5476a00',\n   'hash': '0x6cda9585dd081b8c72764bcff44861bc7dabef464cad16ce30bf54976ca32e31',\n   'input': '0xef34358800000000000000000000000000000000000000000000000005ceab2724b5c0000000000000000000000000000000000000000000000000006124fee993bc0000000000000000000000000000000000000000000000000000000000000002e630000000000000000000000000000000000000000000000000000000000000308d00000000000000000000000000000000000000000000000005ceab2724b5c00000000000000000000000000000000000000000000000000000000000000012e700000000000000000000000000000000000000000000000000038d7ea4c68000000000000000000000000000000000000000000000000000001fa435d4ef818c0000000000000000000000000000000000000000000000000000000000000000000000000000000000000000697b2658eb4085445625d6aeece29bd117c58c62000000000000000000000000948af1c7a15793cf4db41e4990ec2a7e08a260e5000000000000000000000000fe4e9fa005bb62dddfffc9582bd3457173f18f90000000000000000000000000000000000000000000000000000000000000001c000000000000000000000000000000000000000000000000000000000000001c1919008c26a4878f365ecbcb5c43c36595c77c32e19298910bff2397ef11d3d64f261cd1235dbf708b7e4696b496ddc0e2f082bccd35367884e5d894cc25675d5156ad7ce9ec985cc2ed94f77a159db458ccd42b8933322851deafcf8c2f683d4e43695cd66a0e87776b36968067ea24878eed9bd5db6e0e6a9736bc83396b2e',\n   'nonce': '0x37c3d',\n   'to': '0x2a0c0dbecc7e4d658f48e01e3fa353f44050c208',\n   'transactionIndex': '0x63',\n   'value': '0x0',\n   'v': '0x1b',\n   'r': '0x3d47db676c715c2c59e3348cfaa727241c5924740e58ce7d382be799b76584a',\n   's': '0x4d3c41853b9123b1a2dc8cfdae1e5d7595c26fa2b10f83d945addf33503ea506'},\n  {'blockHash': '0x30e469ed23c4132a02b84fcba2d821bde7d18a37e2ada5e034e7125a6a2d2a2e',\n   'blockNumber': '0x57b414',\n   'from': '0xa7a7899d944fe658c4b0a1803bab2f490bd3849e',\n   'gas': '0x33450',\n   'gasPrice': '0x3f5476a00',\n   'hash': '0x9b1ed8ea933da726ff33bfab1d481c63d14493e6bc73b97efebcd3db78718321',\n   'input': '0xef34358800000000000000000000000000000000000000000000000000000000001e848000000000000000000000000000000000000000000000000005dddc42bd440b00000000000000000000000000000000000000000000000000000000000002e6300000000000000000000000000000000000000000000000000000000000005dd800000000000000000000000000000000000000000000000000000000001e8480000000000000000000000000000000000000000000000000000000000000003300000000000000000000000000000000000000000000000000038d7ea4c68000000000000000000000000000000000000000000000000000001f64ac7115d342000000000000000000000000e469c4473af82217b30cf17b10bcdb6c8c796e750000000000000000000000000000000000000000000000000000000000000000000000000000000000000000e5796908f6654cf038d9b31f41dafcdc8bb4267b0000000000000000000000009b7c107cd2022a6225db3c826a7590fae051f7ae000000000000000000000000000000000000000000000000000000000000001c000000000000000000000000000000000000000000000000000000000000001bf86bdd772eb912b704efec48046d69533b7b4cb400bc5af68fe59516c7b0c98b4f112c98650b977c006b7b8f05dfdcbe29215ececa5e96b9e20fc9b83104cdd66ee8c95b267a9ea988b19cfe11394909bf5beaaa36d9a1747ddb63e2082263f66e0e5aec4b71e84a31c94f35a56a38f7430247b8eb03caed1dbccf64da751e51',\n   'nonce': '0x37c3e',\n   'to': '0x2a0c0dbecc7e4d658f48e01e3fa353f44050c208',\n   'transactionIndex': '0x64',\n   'value': '0x0',\n   'v': '0x1c',\n   'r': '0x1957bdf74348d065c38e298052f6c3bd440b7b2e9b7a4823ac435efc0cc7b3d3',\n   's': '0x3921d4128cc046e3c9fac95827982c00abcabc2fa59dd5ce66c988c1ea924b0c'},\n  {'blockHash': '0x30e469ed23c4132a02b84fcba2d821bde7d18a37e2ada5e034e7125a6a2d2a2e',\n   'blockNumber': '0x57b414',\n   'from': '0x758930814eb714c5660aff3788ad000bbb13e940',\n   'gas': '0x88b8',\n   'gasPrice': '0x354f14580',\n   'hash': '0x1bb9697e194ca0aa017b3d2386098cde9e205ef96d0e4e17725bb87b824e926c',\n   'input': '0xf7654176',\n   'nonce': '0x2c',\n   'to': '0xfa52274dd61e1643d2205169732f29114bc240b3',\n   'transactionIndex': '0x65',\n   'value': '0xb7307efb93cf28',\n   'v': '0x1c',\n   'r': '0xe3be22e0df2a1751b22d1474632c3e11c79b753fb20cdc8826438b31dd3e0ef3',\n   's': '0x1bd9a0329c7be0bb7bc3bf40ed251a5f1a98159544944ff8b2c97dcd6ee5e498'},\n  {'blockHash': '0x30e469ed23c4132a02b84fcba2d821bde7d18a37e2ada5e034e7125a6a2d2a2e',\n   'blockNumber': '0x57b414',\n   'from': '0x8bcaff4e9de5896cd8c84a2634b5996c84b6f79c',\n   'gas': '0xcd14',\n   'gasPrice': '0x3515dbe80',\n   'hash': '0x54a61ee7d5716c7de49a4ad17dc0fb17e8da9db921dd8a06b1bc716362c8c7d5',\n   'input': '0xa9059cbb00000000000000000000000022369ab40714e1af1de6d39303805d1610586adc0000000000000000000000000000000000000000000000000000000000000001',\n   'nonce': '0x403',\n   'to': '0x48f775efbe4f5ece6e0df2f7b5932df56823b990',\n   'transactionIndex': '0x66',\n   'value': '0x0',\n   'v': '0x1b',\n   'r': '0x151b62c5ce6ea73c4eea884c6b7a3e611734dbc3cf426ad1f350c19d5127aabd',\n   's': '0x4d78643d439e6c214c4d46eb43d6c4ac6e59ab72f8360f7ace07e1f28b606ee1'}],\n 'transactionsRoot': '0x19d74b52bb2cdf50d507ac9f1fb2cbf83ea6d26ae4e4be6f7a8195c046317967',\n 'uncles': []}"
     },
     "metadata": {},
     "execution_count": 6
    }
   ],
   "source": [
    "block         #this is actually in JSON like format (a dictionary with 20 fields(keys), where \"transactions\" key gives a list of dicts(JSON similar to DataFrame))"
   ]
  },
  {
   "cell_type": "code",
   "execution_count": 7,
   "metadata": {},
   "outputs": [],
   "source": [
    "with open(\"./block_info_by_number.json\", \"w\") as json_file:\n",
    "    json.dump(block, json_file)"
   ]
  },
  {
   "source": [
    "#### get the number of transactions in a block from a block matching the given block number"
   ],
   "cell_type": "markdown",
   "metadata": {}
  },
  {
   "cell_type": "code",
   "execution_count": 8,
   "metadata": {},
   "outputs": [
    {
     "output_type": "execute_result",
     "data": {
      "text/plain": "'0x3'"
     },
     "metadata": {},
     "execution_count": 8
    }
   ],
   "source": [
    "tx_count = api.get_block_transaction_count_by_number(block_number=\"0x10FB78\")\n",
    "tx_count"
   ]
  },
  {
   "cell_type": "code",
   "execution_count": 9,
   "metadata": {},
   "outputs": [
    {
     "output_type": "execute_result",
     "data": {
      "text/plain": "3"
     },
     "metadata": {},
     "execution_count": 9
    }
   ],
   "source": [
    "int(tx_count, 16)"
   ]
  },
  {
   "source": [
    "#### get the number of most recent block"
   ],
   "cell_type": "markdown",
   "metadata": {}
  },
  {
   "cell_type": "code",
   "execution_count": 10,
   "metadata": {},
   "outputs": [
    {
     "output_type": "execute_result",
     "data": {
      "text/plain": "'0xa5afb2'"
     },
     "metadata": {},
     "execution_count": 10
    }
   ],
   "source": [
    "block = api.get_most_recent_block()\n",
    "block"
   ]
  },
  {
   "cell_type": "code",
   "execution_count": 11,
   "metadata": {},
   "outputs": [
    {
     "output_type": "execute_result",
     "data": {
      "text/plain": "10858418"
     },
     "metadata": {},
     "execution_count": 11
    }
   ],
   "source": [
    "int(block, 16)"
   ]
  },
  {
   "source": [
    "#### get information about a transaction by block number and transaction index position"
   ],
   "cell_type": "markdown",
   "metadata": {}
  },
  {
   "cell_type": "code",
   "execution_count": 12,
   "metadata": {},
   "outputs": [
    {
     "output_type": "execute_result",
     "data": {
      "text/plain": "{'blockHash': '0x41065722452691f3ed994c6b403a895503708fa0fbaed7038bae0e57973ba972',\n 'blockNumber': '0x57b2cc',\n 'from': '0xea674fdde714fd979de3edf0f56aa9716b898ec8',\n 'gas': '0xc350',\n 'gasPrice': '0x3b9aca00',\n 'hash': '0x1459927a053e409411b671179c40b8a5b8dcb192bc0d9ba515e6b0d2a4342a1c',\n 'input': '0x',\n 'nonce': '0xa61c06',\n 'to': '0x8a7a1de84e7cd5e8aca6b1c0eba0b2ae93484011',\n 'transactionIndex': '0x2',\n 'value': '0xb26bb05bb2d42c',\n 'v': '0x25',\n 'r': '0x2aceee31b4e941e7ea02053c77baac72e43210e8090def811a6f0289f8603152',\n 's': '0x6b5c6e7c3b3885ea13a28f6f0cc14c344a450c80c9b3f12e4aef77f1f2d97d36'}"
     },
     "metadata": {},
     "execution_count": 12
    }
   ],
   "source": [
    "transaction = api.get_transaction_by_blocknumber_index(block_number='0x57b2cc', index='0x2')\n",
    "transaction"
   ]
  },
  {
   "cell_type": "code",
   "execution_count": 13,
   "metadata": {},
   "outputs": [
    {
     "output_type": "execute_result",
     "data": {
      "text/plain": "                                           blockHash blockNumber  \\\n0  0x41065722452691f3ed994c6b403a895503708fa0fbae...    0x57b2cc   \n\n                                         from     gas    gasPrice  \\\n0  0xea674fdde714fd979de3edf0f56aa9716b898ec8  0xc350  0x3b9aca00   \n\n                                                hash input     nonce  \\\n0  0x1459927a053e409411b671179c40b8a5b8dcb192bc0d...    0x  0xa61c06   \n\n                                           to transactionIndex  \\\n0  0x8a7a1de84e7cd5e8aca6b1c0eba0b2ae93484011              0x2   \n\n              value     v                                                  r  \\\n0  0xb26bb05bb2d42c  0x25  0x2aceee31b4e941e7ea02053c77baac72e43210e8090d...   \n\n                                                   s  \n0  0x6b5c6e7c3b3885ea13a28f6f0cc14c344a450c80c9b3...  ",
      "text/html": "<div>\n<style scoped>\n    .dataframe tbody tr th:only-of-type {\n        vertical-align: middle;\n    }\n\n    .dataframe tbody tr th {\n        vertical-align: top;\n    }\n\n    .dataframe thead th {\n        text-align: right;\n    }\n</style>\n<table border=\"1\" class=\"dataframe\">\n  <thead>\n    <tr style=\"text-align: right;\">\n      <th></th>\n      <th>blockHash</th>\n      <th>blockNumber</th>\n      <th>from</th>\n      <th>gas</th>\n      <th>gasPrice</th>\n      <th>hash</th>\n      <th>input</th>\n      <th>nonce</th>\n      <th>to</th>\n      <th>transactionIndex</th>\n      <th>value</th>\n      <th>v</th>\n      <th>r</th>\n      <th>s</th>\n    </tr>\n  </thead>\n  <tbody>\n    <tr>\n      <th>0</th>\n      <td>0x41065722452691f3ed994c6b403a895503708fa0fbae...</td>\n      <td>0x57b2cc</td>\n      <td>0xea674fdde714fd979de3edf0f56aa9716b898ec8</td>\n      <td>0xc350</td>\n      <td>0x3b9aca00</td>\n      <td>0x1459927a053e409411b671179c40b8a5b8dcb192bc0d...</td>\n      <td>0x</td>\n      <td>0xa61c06</td>\n      <td>0x8a7a1de84e7cd5e8aca6b1c0eba0b2ae93484011</td>\n      <td>0x2</td>\n      <td>0xb26bb05bb2d42c</td>\n      <td>0x25</td>\n      <td>0x2aceee31b4e941e7ea02053c77baac72e43210e8090d...</td>\n      <td>0x6b5c6e7c3b3885ea13a28f6f0cc14c344a450c80c9b3...</td>\n    </tr>\n  </tbody>\n</table>\n</div>"
     },
     "metadata": {},
     "execution_count": 13
    }
   ],
   "source": [
    "pd.DataFrame(transaction, index=[0])"
   ]
  },
  {
   "source": [
    "#### get the informationa bout a transaction by transaction hash"
   ],
   "cell_type": "markdown",
   "metadata": {}
  },
  {
   "cell_type": "code",
   "execution_count": 16,
   "metadata": {},
   "outputs": [
    {
     "output_type": "execute_result",
     "data": {
      "text/plain": "{'blockHash': '0xf64a12502afc36db3d29931a2148e5d6ddaa883a2a3c968ca2fb293fa9258c68',\n 'blockNumber': '0x70839',\n 'from': '0xc80fb22930b303b55df9b89901889126400add38',\n 'gas': '0x30d40',\n 'gasPrice': '0xba43b7400',\n 'hash': '0x1e2910a262b1008d0616a0beb24c1a491d78771baa54a33e66065e03b1f46bc1',\n 'input': '0xfc36e15b0000000000000000000000000000000000000000000000000000000000000020000000000000000000000000000000000000000000000000000000000000000a4861636b65726e65777300000000000000000000000000000000000000000000',\n 'nonce': '0xa7',\n 'to': '0x03fca6077d38dd99d0ce14ba32078bd2cda72d74',\n 'transactionIndex': '0x0',\n 'value': '0x0',\n 'v': '0x1c',\n 'r': '0xe7ccdba116aa95ae8d9bdd02f619a0cdfc1f60c5740b3899865822a80cd70218',\n 's': '0xf200df1921ea988d16280a0873b69cb782a54e8a596d15e700710c820c8d2a9e'}"
     },
     "metadata": {},
     "execution_count": 16
    }
   ],
   "source": [
    "transaction = api.get_transaction_by_hash(tx_hash = '0x1e2910a262b1008d0616a0beb24c1a491d78771baa54a33e66065e03b1f46bc1')\n",
    "transaction"
   ]
  },
  {
   "cell_type": "code",
   "execution_count": 17,
   "metadata": {},
   "outputs": [
    {
     "output_type": "execute_result",
     "data": {
      "text/plain": "                                           blockHash blockNumber  \\\n0  0xf64a12502afc36db3d29931a2148e5d6ddaa883a2a3c...     0x70839   \n\n                                         from      gas     gasPrice  \\\n0  0xc80fb22930b303b55df9b89901889126400add38  0x30d40  0xba43b7400   \n\n                                                hash  \\\n0  0x1e2910a262b1008d0616a0beb24c1a491d78771baa54...   \n\n                                               input nonce  \\\n0  0xfc36e15b000000000000000000000000000000000000...  0xa7   \n\n                                           to transactionIndex value     v  \\\n0  0x03fca6077d38dd99d0ce14ba32078bd2cda72d74              0x0   0x0  0x1c   \n\n                                                   r  \\\n0  0xe7ccdba116aa95ae8d9bdd02f619a0cdfc1f60c5740b...   \n\n                                                   s  \n0  0xf200df1921ea988d16280a0873b69cb782a54e8a596d...  ",
      "text/html": "<div>\n<style scoped>\n    .dataframe tbody tr th:only-of-type {\n        vertical-align: middle;\n    }\n\n    .dataframe tbody tr th {\n        vertical-align: top;\n    }\n\n    .dataframe thead th {\n        text-align: right;\n    }\n</style>\n<table border=\"1\" class=\"dataframe\">\n  <thead>\n    <tr style=\"text-align: right;\">\n      <th></th>\n      <th>blockHash</th>\n      <th>blockNumber</th>\n      <th>from</th>\n      <th>gas</th>\n      <th>gasPrice</th>\n      <th>hash</th>\n      <th>input</th>\n      <th>nonce</th>\n      <th>to</th>\n      <th>transactionIndex</th>\n      <th>value</th>\n      <th>v</th>\n      <th>r</th>\n      <th>s</th>\n    </tr>\n  </thead>\n  <tbody>\n    <tr>\n      <th>0</th>\n      <td>0xf64a12502afc36db3d29931a2148e5d6ddaa883a2a3c...</td>\n      <td>0x70839</td>\n      <td>0xc80fb22930b303b55df9b89901889126400add38</td>\n      <td>0x30d40</td>\n      <td>0xba43b7400</td>\n      <td>0x1e2910a262b1008d0616a0beb24c1a491d78771baa54...</td>\n      <td>0xfc36e15b000000000000000000000000000000000000...</td>\n      <td>0xa7</td>\n      <td>0x03fca6077d38dd99d0ce14ba32078bd2cda72d74</td>\n      <td>0x0</td>\n      <td>0x0</td>\n      <td>0x1c</td>\n      <td>0xe7ccdba116aa95ae8d9bdd02f619a0cdfc1f60c5740b...</td>\n      <td>0xf200df1921ea988d16280a0873b69cb782a54e8a596d...</td>\n    </tr>\n  </tbody>\n</table>\n</div>"
     },
     "metadata": {},
     "execution_count": 17
    }
   ],
   "source": [
    "pd.DataFrame(transaction, index=[0])"
   ]
  },
  {
   "source": [
    "#### get the number of transactions sent from an address"
   ],
   "cell_type": "markdown",
   "metadata": {}
  },
  {
   "cell_type": "code",
   "execution_count": 18,
   "metadata": {},
   "outputs": [
    {
     "output_type": "execute_result",
     "data": {
      "text/plain": "'0x0'"
     },
     "metadata": {},
     "execution_count": 18
    }
   ],
   "source": [
    "count = api.get_transaction_count('0x6E2446aCfcec11CC4a60f36aFA061a9ba81aF7e0')\n",
    "count"
   ]
  },
  {
   "cell_type": "code",
   "execution_count": 19,
   "metadata": {},
   "outputs": [
    {
     "output_type": "execute_result",
     "data": {
      "text/plain": "0"
     },
     "metadata": {},
     "execution_count": 19
    }
   ],
   "source": [
    "int(count, 16)"
   ]
  },
  {
   "source": [
    "#### get the receipt of a transaction by transaction hash"
   ],
   "cell_type": "markdown",
   "metadata": {}
  },
  {
   "cell_type": "code",
   "execution_count": 35,
   "metadata": {},
   "outputs": [
    {
     "output_type": "execute_result",
     "data": {
      "text/plain": "{'blockHash': '0x9353b82737a63d679c1ca3f7ed27ffd8b4eca1b6f38c300a4c5fdb7517f22199',\n 'blockNumber': '0x580a4c',\n 'contractAddress': None,\n 'cumulativeGasUsed': '0x79effd',\n 'from': '0x59a5208b32e627891c389ebafc644145224006e8',\n 'gasUsed': '0x5208',\n 'logs': [],\n 'logsBloom': '0x00000000000000000000000000000000000000000000000000000000000000000000000000000000000000000000000000000000000000000000000000000000000000000000000000000000000000000000000000000000000000000000000000000000000000000000000000000000000000000000000000000000000000000000000000000000000000000000000000000000000000000000000000000000000000000000000000000000000000000000000000000000000000000000000000000000000000000000000000000000000000000000000000000000000000000000000000000000000000000000000000000000000000000000000000000000',\n 'status': '0x1',\n 'to': '0xccf32d8c6d15f21e2df61cb53436a939c0dca93a',\n 'transactionHash': '0xb03d4625fd433ad05f036abdc895a1837a7d838ed39f970db69e7d832e41205d',\n 'transactionIndex': '0xb9'}"
     },
     "metadata": {},
     "execution_count": 35
    }
   ],
   "source": [
    "receipt = api.get_transaction_receipt('0xb03d4625fd433ad05f036abdc895a1837a7d838ed39f970db69e7d832e41205d')\n",
    "receipt"
   ]
  },
  {
   "cell_type": "code",
   "execution_count": 36,
   "metadata": {},
   "outputs": [],
   "source": [
    "# {k: type(v) for k,v in receipt.items()}"
   ]
  },
  {
   "cell_type": "code",
   "execution_count": 37,
   "metadata": {
    "tags": []
   },
   "outputs": [
    {
     "output_type": "display_data",
     "data": {
      "text/plain": "                                           blockHash blockNumber  \\\n0  0x9353b82737a63d679c1ca3f7ed27ffd8b4eca1b6f38c...    0x580a4c   \n\n  contractAddress cumulativeGasUsed  \\\n0            None          0x79effd   \n\n                                         from gasUsed logs  \\\n0  0x59a5208b32e627891c389ebafc644145224006e8  0x5208   []   \n\n                                           logsBloom status  \\\n0  0x00000000000000000000000000000000000000000000...    0x1   \n\n                                           to  \\\n0  0xccf32d8c6d15f21e2df61cb53436a939c0dca93a   \n\n                                     transactionHash transactionIndex  \n0  0xb03d4625fd433ad05f036abdc895a1837a7d838ed39f...             0xb9  ",
      "text/html": "<div>\n<style scoped>\n    .dataframe tbody tr th:only-of-type {\n        vertical-align: middle;\n    }\n\n    .dataframe tbody tr th {\n        vertical-align: top;\n    }\n\n    .dataframe thead th {\n        text-align: right;\n    }\n</style>\n<table border=\"1\" class=\"dataframe\">\n  <thead>\n    <tr style=\"text-align: right;\">\n      <th></th>\n      <th>blockHash</th>\n      <th>blockNumber</th>\n      <th>contractAddress</th>\n      <th>cumulativeGasUsed</th>\n      <th>from</th>\n      <th>gasUsed</th>\n      <th>logs</th>\n      <th>logsBloom</th>\n      <th>status</th>\n      <th>to</th>\n      <th>transactionHash</th>\n      <th>transactionIndex</th>\n    </tr>\n  </thead>\n  <tbody>\n    <tr>\n      <th>0</th>\n      <td>0x9353b82737a63d679c1ca3f7ed27ffd8b4eca1b6f38c...</td>\n      <td>0x580a4c</td>\n      <td>None</td>\n      <td>0x79effd</td>\n      <td>0x59a5208b32e627891c389ebafc644145224006e8</td>\n      <td>0x5208</td>\n      <td>[]</td>\n      <td>0x00000000000000000000000000000000000000000000...</td>\n      <td>0x1</td>\n      <td>0xccf32d8c6d15f21e2df61cb53436a939c0dca93a</td>\n      <td>0xb03d4625fd433ad05f036abdc895a1837a7d838ed39f...</td>\n      <td>0xb9</td>\n    </tr>\n  </tbody>\n</table>\n</div>"
     },
     "metadata": {}
    }
   ],
   "source": [
    "receipt = pd.DataFrame.from_dict(receipt, orient=\"index\").T    #!* notice that here if still using pd.DataFrame(.., index=[0]), it will get error!!\n",
    "display(receipt)"
   ]
  },
  {
   "source": [
    "#### get information about a uncle by block number"
   ],
   "cell_type": "markdown",
   "metadata": {}
  },
  {
   "cell_type": "code",
   "execution_count": 94,
   "metadata": {},
   "outputs": [
    {
     "output_type": "execute_result",
     "data": {
      "text/plain": "{'difficulty': '0x3db79ff5de86',\n 'extraData': '0x7777772e62772e636f6d',\n 'gasLimit': '0x47e7c4',\n 'gasUsed': '0x14820',\n 'hash': '0x5ad884f542215bbb0b7e2558b2309ce89132e559ee1b001e81b77e702b43d932',\n 'logsBloom': '0x00000000000000000000000000000000000000000000000000000000000000000000000000000000000000000000000000000000000000000000000000000000000000000000000000000000000000000000000000000000000000000000000000000000000000000000000000000000000000000000000000000000000000000000000000000000000000000000000000000000000000000000000000000000000000000000000000000000000000000000000000000000000000000000000000000000000000000000000000000000000000000000000000000000000000000000000000000000000000000000000000000000000000000000000000000000',\n 'miner': '0xbcdfc35b86bedf72f0cda046a3c16829a2ef41d1',\n 'mixHash': '0x8d3e8e65a0803e3c023bafcd373e1d272c4f463ba0116f3e9591a8dc1e5b5018',\n 'nonce': '0x151a6600143aad31',\n 'number': '0x210a99',\n 'parentHash': '0x30fe09876530e366a49b6a3aa64c26cf7cd4348aa32a6ad83564b0ea4b3830ed',\n 'receiptsRoot': '0xf43ffa3981d0c714e1f677082fc15e69f408263f542bb98a2ac47d8d92f540fe',\n 'sha3Uncles': '0x1dcc4de8dec75d7aab85b567b6ccd41ad312451b948a7413f0a142fd40d49347',\n 'size': '0x212',\n 'stateRoot': '0xce52569ccaa08e9030fc0fa5750332f7d2bc111699e3adb6c6927b73b5c56f14',\n 'timestamp': '0x57c515ba',\n 'transactionsRoot': '0x057c513a2722663a43b29d66b49809876289e3c7497b84e3bee52bb7648fba50',\n 'uncles': []}"
     },
     "metadata": {},
     "execution_count": 94
    }
   ],
   "source": [
    "uncles = api.get_uncle_by_blocknumber_index(block_number=\"0x210A9B\", index=\"0x0\")\n",
    "uncles"
   ]
  },
  {
   "cell_type": "code",
   "execution_count": 95,
   "metadata": {},
   "outputs": [
    {
     "output_type": "execute_result",
     "data": {
      "text/plain": "[]"
     },
     "metadata": {},
     "execution_count": 95
    }
   ],
   "source": [
    "uncles[\"uncles\"]"
   ]
  },
  {
   "cell_type": "code",
   "execution_count": null,
   "metadata": {},
   "outputs": [],
   "source": []
  }
 ]
}