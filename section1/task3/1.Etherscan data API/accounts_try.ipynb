{
 "metadata": {
  "language_info": {
   "codemirror_mode": {
    "name": "ipython",
    "version": 3
   },
   "file_extension": ".py",
   "mimetype": "text/x-python",
   "name": "python",
   "nbconvert_exporter": "python",
   "pygments_lexer": "ipython3",
   "version": "3.7.7-final"
  },
  "orig_nbformat": 2,
  "kernelspec": {
   "name": "python_defaultSpec_1600030478265",
   "display_name": "Python 3.7.7 64-bit ('cryptoalgowheel': conda)"
  }
 },
 "nbformat": 4,
 "nbformat_minor": 2,
 "cells": [
  {
   "cell_type": "code",
   "execution_count": 1,
   "metadata": {},
   "outputs": [],
   "source": [
    "# ***Important: still, need to install \"py-etherscan-api\" package/module from PyPI first!\n",
    "\n",
    "# first, activate cryptoalgowheel conda environment\n",
    "# then: /anaconda3/envs/cryptoalgowheel/bin/pip install py-etherscan-api\n"
   ]
  },
  {
   "cell_type": "markdown",
   "metadata": {},
   "source": [
    "## \"accounts\" usages"
   ]
  },
  {
   "cell_type": "code",
   "execution_count": 2,
   "metadata": {
    "tags": []
   },
   "outputs": [],
   "source": [
    "%load_ext autoreload\n",
    "%autoreload 2\n",
    "import etherscan.accounts as accounts\n",
    "import json\n",
    "\n",
    "import pandas as pd\n",
    "import numpy as np\n",
    "from datetime import datetime"
   ]
  },
  {
   "cell_type": "code",
   "execution_count": 3,
   "metadata": {
    "tags": []
   },
   "outputs": [
    {
     "output_type": "stream",
     "name": "stdout",
     "text": "MDGE4ZAZAQ4VXY2VCSC4GNB9H26TVKTN7R\n"
    }
   ],
   "source": [
    "with open(\"/Users/baixiao/Desktop/caw-quant-training/section1/task3/api_key.json\", mode='r') as key_file:\n",
    "    key = json.loads(key_file.read())['key']\n",
    "print(key)\n",
    "\n",
    "address = '0x9dd134d14d1e65f84b706d6f205cd5b1cd03a46b'   #unique address for a transaction\n",
    "api = accounts.Account(address=address, api_key=key)\n"
   ]
  },
  {
   "source": [
    "#### get balance"
   ],
   "cell_type": "markdown",
   "metadata": {}
  },
  {
   "cell_type": "code",
   "execution_count": 4,
   "metadata": {},
   "outputs": [
    {
     "output_type": "execute_result",
     "data": {
      "text/plain": "'18914407547296432155'"
     },
     "metadata": {},
     "execution_count": 4
    }
   ],
   "source": [
    "api.get_balance()"
   ]
  },
  {
   "source": [
    "#### get a list of transactions by address"
   ],
   "cell_type": "markdown",
   "metadata": {}
  },
  {
   "cell_type": "code",
   "execution_count": 5,
   "metadata": {
    "tags": []
   },
   "outputs": [
    {
     "output_type": "stream",
     "name": "stdout",
     "text": "(10, 18)\n"
    },
    {
     "output_type": "execute_result",
     "data": {
      "text/plain": "  blockNumber   timeStamp                                               hash  \\\n0       80055  1439479435  0xcff7bab07a096e4c01dd6a76befb2c0b11ebeec5bbb3...   \n1      313661  1443641229  0x8347079dee0a85c0b643e44e37ec18d423392028c22b...   \n2      477938  1446457828  0x578239b66f3119baa5783136a33f00b3bb71068e77dc...   \n3      477942  1446457892  0x291e0df6d7466081a636a2f9764623365892ba167b97...   \n4      852036  1452860882  0x8f41b9b6b966848cf85cce0e5d2ce3e381fbd5d90a5a...   \n5      852377  1452866973  0xf2d59f05e8b3d85c4dccf4ce3024fb2ac017e65ba77d...   \n6     1027746  1455885900  0xb826ac26b51403a3129eff371416ce0e8bc541706d91...   \n7     1027845  1455887518  0x198ba99c8cff79068ed34b66ac8d2b24b6d2a6feea14...   \n8     1145121  1457898253  0x5c0df4a8704ea223b58d0d50b65db5472bfd8c0322fe...   \n9     1203404  1458750498  0x613ad39823b8e22ce259d4845141f87e0b53c9579760...   \n\n  nonce                                          blockHash transactionIndex  \\\n0     0  0x866595af1d2db58574c6ce73d77a965db53f0ed88271...                2   \n1     1  0xc88c09ae97eb685a52a8d7c3e82cfbf2917deac1a24f...                0   \n2     2  0x27e09b7878e445be37758cc8ca15672cf67ea51675a8...                0   \n3     3  0x7eec9a784f21a63ce07876e535b8a9b7b6d9ef8a3a2b...                8   \n4     4  0x8ff4b0752b37ac49ca24a1d90bfce8ff8da3857e4bf8...                2   \n5     5  0x8d50c06f5f3f502578cb44ce86ab9e5b6ce517571cb2...                0   \n6     6  0xd0dcdb42d3904d40b54f306df90341b112be68983ffe...                0   \n7     7  0x3b2d7511f832a427f378a91e5204e54d2ee6527b0ab4...                0   \n8     8  0x863f7035115b36710d46235c7cab3aa5dc1c1dcc4924...                3   \n9     9  0x78a2a4537ae58e66d991e8ccdbe447078863a60b37cd...                0   \n\n                                         from  \\\n0  0x9dd134d14d1e65f84b706d6f205cd5b1cd03a46b   \n1  0x9dd134d14d1e65f84b706d6f205cd5b1cd03a46b   \n2  0x9dd134d14d1e65f84b706d6f205cd5b1cd03a46b   \n3  0x9dd134d14d1e65f84b706d6f205cd5b1cd03a46b   \n4  0x9dd134d14d1e65f84b706d6f205cd5b1cd03a46b   \n5  0x9dd134d14d1e65f84b706d6f205cd5b1cd03a46b   \n6  0x9dd134d14d1e65f84b706d6f205cd5b1cd03a46b   \n7  0x9dd134d14d1e65f84b706d6f205cd5b1cd03a46b   \n8  0x9dd134d14d1e65f84b706d6f205cd5b1cd03a46b   \n9  0x9dd134d14d1e65f84b706d6f205cd5b1cd03a46b   \n\n                                           to                   value     gas  \\\n0  0xa6bdc31c431b8f97848c9d60cbbe9660dc450eb7    95000000000000000000   90000   \n1  0xa6bdc31c431b8f97848c9d60cbbe9660dc450eb7    10170000000000000000   90000   \n2  0xa6bdc31c431b8f97848c9d60cbbe9660dc450eb7    20000000000000000000   90000   \n3  0xa6bdc31c431b8f97848c9d60cbbe9660dc450eb7    80000000000000000000   90000   \n4  0xa6bdc31c431b8f97848c9d60cbbe9660dc450eb7   500000000000000000000   90000   \n5  0xa6bdc31c431b8f97848c9d60cbbe9660dc450eb7  1331000000000000000000   90000   \n6  0xa6bdc31c431b8f97848c9d60cbbe9660dc450eb7      500000000000000000   90000   \n7  0xa6bdc31c431b8f97848c9d60cbbe9660dc450eb7    45300000000000000000   90000   \n8  0xa6bdc31c431b8f97848c9d60cbbe9660dc450eb7   155000000000000000000  121000   \n9  0xa6bdc31c431b8f97848c9d60cbbe9660dc450eb7   208000000000000000000  121000   \n\n      gasPrice isError txreceipt_status input contractAddress  \\\n0  55098633173       0                     0x                   \n1  50000000000       0                     0x                   \n2  50000000000       0                     0x                   \n3  50000000000       0                     0x                   \n4  50000000000       0                     0x                   \n5  50000000000       0                     0x                   \n6  50000000000       0                     0x                   \n7  50000000000       0                     0x                   \n8  20000000000       0                     0x                   \n9  20000000000       0                     0x                   \n\n  cumulativeGasUsed gasUsed confirmations  \n0             85575   21000      10776866  \n1             21000   21000      10543260  \n2             21000   21000      10378983  \n3            189000   21000      10378979  \n4            228382   21000      10004885  \n5             21000   21000      10004544  \n6             21000   21000       9829175  \n7             21000   21000       9829076  \n8             84000   21000       9711800  \n9             21000   21000       9653517  ",
      "text/html": "<div>\n<style scoped>\n    .dataframe tbody tr th:only-of-type {\n        vertical-align: middle;\n    }\n\n    .dataframe tbody tr th {\n        vertical-align: top;\n    }\n\n    .dataframe thead th {\n        text-align: right;\n    }\n</style>\n<table border=\"1\" class=\"dataframe\">\n  <thead>\n    <tr style=\"text-align: right;\">\n      <th></th>\n      <th>blockNumber</th>\n      <th>timeStamp</th>\n      <th>hash</th>\n      <th>nonce</th>\n      <th>blockHash</th>\n      <th>transactionIndex</th>\n      <th>from</th>\n      <th>to</th>\n      <th>value</th>\n      <th>gas</th>\n      <th>gasPrice</th>\n      <th>isError</th>\n      <th>txreceipt_status</th>\n      <th>input</th>\n      <th>contractAddress</th>\n      <th>cumulativeGasUsed</th>\n      <th>gasUsed</th>\n      <th>confirmations</th>\n    </tr>\n  </thead>\n  <tbody>\n    <tr>\n      <th>0</th>\n      <td>80055</td>\n      <td>1439479435</td>\n      <td>0xcff7bab07a096e4c01dd6a76befb2c0b11ebeec5bbb3...</td>\n      <td>0</td>\n      <td>0x866595af1d2db58574c6ce73d77a965db53f0ed88271...</td>\n      <td>2</td>\n      <td>0x9dd134d14d1e65f84b706d6f205cd5b1cd03a46b</td>\n      <td>0xa6bdc31c431b8f97848c9d60cbbe9660dc450eb7</td>\n      <td>95000000000000000000</td>\n      <td>90000</td>\n      <td>55098633173</td>\n      <td>0</td>\n      <td></td>\n      <td>0x</td>\n      <td></td>\n      <td>85575</td>\n      <td>21000</td>\n      <td>10776866</td>\n    </tr>\n    <tr>\n      <th>1</th>\n      <td>313661</td>\n      <td>1443641229</td>\n      <td>0x8347079dee0a85c0b643e44e37ec18d423392028c22b...</td>\n      <td>1</td>\n      <td>0xc88c09ae97eb685a52a8d7c3e82cfbf2917deac1a24f...</td>\n      <td>0</td>\n      <td>0x9dd134d14d1e65f84b706d6f205cd5b1cd03a46b</td>\n      <td>0xa6bdc31c431b8f97848c9d60cbbe9660dc450eb7</td>\n      <td>10170000000000000000</td>\n      <td>90000</td>\n      <td>50000000000</td>\n      <td>0</td>\n      <td></td>\n      <td>0x</td>\n      <td></td>\n      <td>21000</td>\n      <td>21000</td>\n      <td>10543260</td>\n    </tr>\n    <tr>\n      <th>2</th>\n      <td>477938</td>\n      <td>1446457828</td>\n      <td>0x578239b66f3119baa5783136a33f00b3bb71068e77dc...</td>\n      <td>2</td>\n      <td>0x27e09b7878e445be37758cc8ca15672cf67ea51675a8...</td>\n      <td>0</td>\n      <td>0x9dd134d14d1e65f84b706d6f205cd5b1cd03a46b</td>\n      <td>0xa6bdc31c431b8f97848c9d60cbbe9660dc450eb7</td>\n      <td>20000000000000000000</td>\n      <td>90000</td>\n      <td>50000000000</td>\n      <td>0</td>\n      <td></td>\n      <td>0x</td>\n      <td></td>\n      <td>21000</td>\n      <td>21000</td>\n      <td>10378983</td>\n    </tr>\n    <tr>\n      <th>3</th>\n      <td>477942</td>\n      <td>1446457892</td>\n      <td>0x291e0df6d7466081a636a2f9764623365892ba167b97...</td>\n      <td>3</td>\n      <td>0x7eec9a784f21a63ce07876e535b8a9b7b6d9ef8a3a2b...</td>\n      <td>8</td>\n      <td>0x9dd134d14d1e65f84b706d6f205cd5b1cd03a46b</td>\n      <td>0xa6bdc31c431b8f97848c9d60cbbe9660dc450eb7</td>\n      <td>80000000000000000000</td>\n      <td>90000</td>\n      <td>50000000000</td>\n      <td>0</td>\n      <td></td>\n      <td>0x</td>\n      <td></td>\n      <td>189000</td>\n      <td>21000</td>\n      <td>10378979</td>\n    </tr>\n    <tr>\n      <th>4</th>\n      <td>852036</td>\n      <td>1452860882</td>\n      <td>0x8f41b9b6b966848cf85cce0e5d2ce3e381fbd5d90a5a...</td>\n      <td>4</td>\n      <td>0x8ff4b0752b37ac49ca24a1d90bfce8ff8da3857e4bf8...</td>\n      <td>2</td>\n      <td>0x9dd134d14d1e65f84b706d6f205cd5b1cd03a46b</td>\n      <td>0xa6bdc31c431b8f97848c9d60cbbe9660dc450eb7</td>\n      <td>500000000000000000000</td>\n      <td>90000</td>\n      <td>50000000000</td>\n      <td>0</td>\n      <td></td>\n      <td>0x</td>\n      <td></td>\n      <td>228382</td>\n      <td>21000</td>\n      <td>10004885</td>\n    </tr>\n    <tr>\n      <th>5</th>\n      <td>852377</td>\n      <td>1452866973</td>\n      <td>0xf2d59f05e8b3d85c4dccf4ce3024fb2ac017e65ba77d...</td>\n      <td>5</td>\n      <td>0x8d50c06f5f3f502578cb44ce86ab9e5b6ce517571cb2...</td>\n      <td>0</td>\n      <td>0x9dd134d14d1e65f84b706d6f205cd5b1cd03a46b</td>\n      <td>0xa6bdc31c431b8f97848c9d60cbbe9660dc450eb7</td>\n      <td>1331000000000000000000</td>\n      <td>90000</td>\n      <td>50000000000</td>\n      <td>0</td>\n      <td></td>\n      <td>0x</td>\n      <td></td>\n      <td>21000</td>\n      <td>21000</td>\n      <td>10004544</td>\n    </tr>\n    <tr>\n      <th>6</th>\n      <td>1027746</td>\n      <td>1455885900</td>\n      <td>0xb826ac26b51403a3129eff371416ce0e8bc541706d91...</td>\n      <td>6</td>\n      <td>0xd0dcdb42d3904d40b54f306df90341b112be68983ffe...</td>\n      <td>0</td>\n      <td>0x9dd134d14d1e65f84b706d6f205cd5b1cd03a46b</td>\n      <td>0xa6bdc31c431b8f97848c9d60cbbe9660dc450eb7</td>\n      <td>500000000000000000</td>\n      <td>90000</td>\n      <td>50000000000</td>\n      <td>0</td>\n      <td></td>\n      <td>0x</td>\n      <td></td>\n      <td>21000</td>\n      <td>21000</td>\n      <td>9829175</td>\n    </tr>\n    <tr>\n      <th>7</th>\n      <td>1027845</td>\n      <td>1455887518</td>\n      <td>0x198ba99c8cff79068ed34b66ac8d2b24b6d2a6feea14...</td>\n      <td>7</td>\n      <td>0x3b2d7511f832a427f378a91e5204e54d2ee6527b0ab4...</td>\n      <td>0</td>\n      <td>0x9dd134d14d1e65f84b706d6f205cd5b1cd03a46b</td>\n      <td>0xa6bdc31c431b8f97848c9d60cbbe9660dc450eb7</td>\n      <td>45300000000000000000</td>\n      <td>90000</td>\n      <td>50000000000</td>\n      <td>0</td>\n      <td></td>\n      <td>0x</td>\n      <td></td>\n      <td>21000</td>\n      <td>21000</td>\n      <td>9829076</td>\n    </tr>\n    <tr>\n      <th>8</th>\n      <td>1145121</td>\n      <td>1457898253</td>\n      <td>0x5c0df4a8704ea223b58d0d50b65db5472bfd8c0322fe...</td>\n      <td>8</td>\n      <td>0x863f7035115b36710d46235c7cab3aa5dc1c1dcc4924...</td>\n      <td>3</td>\n      <td>0x9dd134d14d1e65f84b706d6f205cd5b1cd03a46b</td>\n      <td>0xa6bdc31c431b8f97848c9d60cbbe9660dc450eb7</td>\n      <td>155000000000000000000</td>\n      <td>121000</td>\n      <td>20000000000</td>\n      <td>0</td>\n      <td></td>\n      <td>0x</td>\n      <td></td>\n      <td>84000</td>\n      <td>21000</td>\n      <td>9711800</td>\n    </tr>\n    <tr>\n      <th>9</th>\n      <td>1203404</td>\n      <td>1458750498</td>\n      <td>0x613ad39823b8e22ce259d4845141f87e0b53c9579760...</td>\n      <td>9</td>\n      <td>0x78a2a4537ae58e66d991e8ccdbe447078863a60b37cd...</td>\n      <td>0</td>\n      <td>0x9dd134d14d1e65f84b706d6f205cd5b1cd03a46b</td>\n      <td>0xa6bdc31c431b8f97848c9d60cbbe9660dc450eb7</td>\n      <td>208000000000000000000</td>\n      <td>121000</td>\n      <td>20000000000</td>\n      <td>0</td>\n      <td></td>\n      <td>0x</td>\n      <td></td>\n      <td>21000</td>\n      <td>21000</td>\n      <td>9653517</td>\n    </tr>\n  </tbody>\n</table>\n</div>"
     },
     "metadata": {},
     "execution_count": 5
    }
   ],
   "source": [
    "# get transactions by page\n",
    "trans = api.get_transaction_page(page=1, offset=10)     #(get paginated results here) (\"offset\" parameter: max records to return)\n",
    "trans = pd.DataFrame(trans)\n",
    "print(trans.shape)\n",
    "trans"
   ]
  },
  {
   "cell_type": "code",
   "execution_count": 6,
   "metadata": {},
   "outputs": [],
   "source": [
    "trans.timeStamp = trans.timeStamp.astype(\"int\").apply(lambda d: datetime.utcfromtimestamp(d).strftime(\"%Y/%m/%d %H:%M:%S UTC\"))\n",
    "trans.rename({\"timeStamp\":\"time\"}, inplace=True)\n",
    "trans.to_csv(\"./normal_transactions.csv\", index=False)"
   ]
  },
  {
   "cell_type": "code",
   "execution_count": 10,
   "metadata": {
    "tags": []
   },
   "outputs": [
    {
     "output_type": "stream",
     "name": "stdout",
     "text": "page 1 added\n"
    },
    {
     "output_type": "error",
     "ename": "EmptyResponse",
     "evalue": "<Err: No transactions found>",
     "traceback": [
      "\u001b[0;31m---------------------------------------------------------------------------\u001b[0m",
      "\u001b[0;31mEmptyResponse\u001b[0m                             Traceback (most recent call last)",
      "\u001b[0;32m<ipython-input-10-fe6f1b555d26>\u001b[0m in \u001b[0;36m<module>\u001b[0;34m\u001b[0m\n\u001b[0;32m----> 1\u001b[0;31m \u001b[0mapi\u001b[0m\u001b[0;34m.\u001b[0m\u001b[0mget_all_transactions\u001b[0m\u001b[0;34m(\u001b[0m\u001b[0moffset\u001b[0m\u001b[0;34m=\u001b[0m\u001b[0;36m10000\u001b[0m\u001b[0;34m,\u001b[0m \u001b[0msort\u001b[0m\u001b[0;34m=\u001b[0m\u001b[0;34m'asc'\u001b[0m\u001b[0;34m,\u001b[0m \u001b[0minternal\u001b[0m\u001b[0;34m=\u001b[0m\u001b[0;32mTrue\u001b[0m\u001b[0;34m)\u001b[0m\u001b[0;34m\u001b[0m\u001b[0;34m\u001b[0m\u001b[0m\n\u001b[0m",
      "\u001b[0;32m/anaconda3/envs/cryptoalgowheel/lib/python3.7/site-packages/etherscan/accounts.py\u001b[0m in \u001b[0;36mget_all_transactions\u001b[0;34m(self, offset, sort, internal)\u001b[0m\n\u001b[1;32m     90\u001b[0m         \u001b[0;32mwhile\u001b[0m \u001b[0;32mTrue\u001b[0m\u001b[0;34m:\u001b[0m\u001b[0;34m\u001b[0m\u001b[0;34m\u001b[0m\u001b[0m\n\u001b[1;32m     91\u001b[0m             \u001b[0mself\u001b[0m\u001b[0;34m.\u001b[0m\u001b[0mbuild_url\u001b[0m\u001b[0;34m(\u001b[0m\u001b[0;34m)\u001b[0m\u001b[0;34m\u001b[0m\u001b[0;34m\u001b[0m\u001b[0m\n\u001b[0;32m---> 92\u001b[0;31m             \u001b[0mreq\u001b[0m \u001b[0;34m=\u001b[0m \u001b[0mself\u001b[0m\u001b[0;34m.\u001b[0m\u001b[0mconnect\u001b[0m\u001b[0;34m(\u001b[0m\u001b[0;34m)\u001b[0m\u001b[0;34m\u001b[0m\u001b[0;34m\u001b[0m\u001b[0m\n\u001b[0m\u001b[1;32m     93\u001b[0m             \u001b[0;32mif\u001b[0m \u001b[0;34m\"No transactions found\"\u001b[0m \u001b[0;32min\u001b[0m \u001b[0mreq\u001b[0m\u001b[0;34m[\u001b[0m\u001b[0;34m'message'\u001b[0m\u001b[0;34m]\u001b[0m\u001b[0;34m:\u001b[0m\u001b[0;34m\u001b[0m\u001b[0;34m\u001b[0m\u001b[0m\n\u001b[1;32m     94\u001b[0m                 print(\n",
      "\u001b[0;32m/anaconda3/envs/cryptoalgowheel/lib/python3.7/site-packages/etherscan/client.py\u001b[0m in \u001b[0;36mconnect\u001b[0;34m(self)\u001b[0m\n\u001b[1;32m    121\u001b[0m                     \u001b[0;32mreturn\u001b[0m \u001b[0mdata\u001b[0m\u001b[0;34m\u001b[0m\u001b[0;34m\u001b[0m\u001b[0m\n\u001b[1;32m    122\u001b[0m                 \u001b[0;32melse\u001b[0m\u001b[0;34m:\u001b[0m\u001b[0;34m\u001b[0m\u001b[0;34m\u001b[0m\u001b[0m\n\u001b[0;32m--> 123\u001b[0;31m                     \u001b[0;32mraise\u001b[0m \u001b[0mEmptyResponse\u001b[0m\u001b[0;34m(\u001b[0m\u001b[0mdata\u001b[0m\u001b[0;34m.\u001b[0m\u001b[0mget\u001b[0m\u001b[0;34m(\u001b[0m\u001b[0;34m'message'\u001b[0m\u001b[0;34m,\u001b[0m \u001b[0;34m'no message'\u001b[0m\u001b[0;34m)\u001b[0m\u001b[0;34m)\u001b[0m\u001b[0;34m\u001b[0m\u001b[0;34m\u001b[0m\u001b[0m\n\u001b[0m\u001b[1;32m    124\u001b[0m         raise BadRequest(\n\u001b[1;32m    125\u001b[0m             \"Problem with connection, status code: %s\" % req.status_code)\n",
      "\u001b[0;31mEmptyResponse\u001b[0m: <Err: No transactions found>"
     ]
    }
   ],
   "source": [
    "api.get_all_transactions(offset=10000, sort='asc', internal=True)"
   ]
  },
  {
   "cell_type": "code",
   "execution_count": 7,
   "metadata": {
    "tags": []
   },
   "outputs": [
    {
     "output_type": "stream",
     "name": "stdout",
     "text": "page 1 added\nTotal number of transactions: 0\n"
    }
   ],
   "source": [
    "#### get all transactions\n",
    "\"\"\" try:\n",
    "    api.get_all_transactions(offset=10000, sort='asc', internal=True)\n",
    "except:\n",
    "    print(\"Total number of transactions: 0\") \"\"\""
   ]
  },
  {
   "source": [
    "#### collect \"ERC20 Transactions\""
   ],
   "cell_type": "markdown",
   "metadata": {}
  },
  {
   "cell_type": "code",
   "execution_count": 38,
   "metadata": {},
   "outputs": [
    {
     "output_type": "execute_result",
     "data": {
      "text/plain": "   blockNumber   timeStamp                                               hash  \\\n0      4279090  1505536105  0xb33f551d20d39a4e5852b5a26e34e6b4d011f4bf90b6...   \n1      4413692  1508751649  0x7d972823582d6946aca8941976864e56042bbe322ca4...   \n2      4474024  1509593290  0xf515355a0b5c34cb2a155b3df20682aa1a07b5780b09...   \n3      4475350  1509612405  0x7c0efcd8640adad41eb965739628fc527f62d0700207...   \n4      4560386  1510792325  0x655c9724fb58583628ea08d68b03ea55302da327f3aa...   \n5      4634402  1511825084  0xee78484762d52fcb556edeab861e788395c0248441fa...   \n6      4768875  1513824904  0x3a21333845f902340d5e802324b018ea15fbfb941fb1...   \n7      4799591  1514278538  0x6096938c7944b38a2e916ba296cca7676f430b2bf5c2...   \n8      4801594  1514307103  0x9a61ea776934fbb1bedb094359e4f4c9fb741a825688...   \n9      4950877  1516603739  0xde82b3f473cf5fc97770cde9537ffc303692b15e44b7...   \n10     5273357  1521318915  0x519358be63e99e5774e0ff90dca5a134a0bd359a64c0...   \n11     5430304  1523581281  0x01f7aa426df8ee761f07d371e460ffdff08d53e33b41...   \n12     5535764  1525146596  0x7fa190d65ce56443b5bf22eae5c102c80058af177fb5...   \n13     5552531  1525401752  0x58e7b64b79f2bd2dae3b62c06a0ab87e4e90c475abf5...   \n14     5687773  1527456884  0x24e774a1e6664da45533988d1eb0917aec4abd818097...   \n15     5784314  1528932754  0xdcf93a1882c5e065f598436865bba8f1284665af376f...   \n16     5899370  1530637238  0x266002847627c0430a2de3906b695e927f579078b3ac...   \n17     6177120  1534705662  0x3a13dc9b846932c69e0052b70ca6995499e0bb08e5d4...   \n18     6225152  1535405845  0xb418a0c41661d0797def6f3c331700b8adbd3789e1db...   \n19     6283769  1536258503  0xd0328ec39e370a6be841b71da143ca5b64d576fca936...   \n20     6399104  1537910414  0x91f2a591e14db01065a51b1c11da2cddcfcff3544c66...   \n21     6502198  1539361827  0x0a933ad9b8b7c109542203c69da7abd9831de7570dd8...   \n22     7667658  1556612129  0x9b3f867079535715d6cbdd0462a3d830a4ad6d819c08...   \n23     8662149  1570009807  0xa034dc4f62c8937e488ea8d2d5f41a2bc7bdd6fc499d...   \n24     9077770  1575899971  0x1a4bb820bf90220e934ae07e72cb2140eca8477dcfad...   \n\n    nonce                                          blockHash  \\\n0     905  0xd785fbeb9c8aecd2074a8e609dba4941be2f0d7ce263...   \n1     335  0xe26ca1e6399fb141c5be8b41e6c95569696726334f05...   \n2    3178  0x1aaa6291127ffa82f7c46e4ebf5f5e504d2ff60b7394...   \n3    1807  0x9f3edb6ec0b190c5acfe881b6ea1776f273057715e30...   \n4      72  0x960cc60f6add0de340188e72e6c954054e6cdb3a643d...   \n5    1805  0xc18845dee4ed632b8b2ed7bb4547f444f66e4ec9a26c...   \n6     466  0x11f0f65f7e5ae0b6ffaa67dafa7ecd917ed1fd420dee...   \n7     214  0x92f51b439dfefff5195b92911a4150f20b70891b9e1c...   \n8   94707  0x9c4cffa34539de9ed3ff23d3ce60605c788da999dbe8...   \n9     196  0xecc29d77c914386a58ecee786110bb6fe357f90c0f8e...   \n10     81  0x518804b0f1d0fe366bcbc824777a7e0224bcd1f7a941...   \n11   6966  0x5c493a7d12bb4a35ad7aa2a15a4debf0aed2eb84c27d...   \n12      2  0x255a79e2b24f7a3e722b3725fcd6a8a222a6e845cf17...   \n13    232  0x64cd84d3814f89c298039912d9b089dba18dde2839a4...   \n14    651  0xcc81bfb7e7820dbe7ef66356ae3bc0b5597f5126b37a...   \n15     25  0xbaba8d7fc1db02b860ec2cedbcc80a69db169c4aeb1b...   \n16   8280  0x44d4635af9e6e4af4038f2ce3b22a9b963bd1846aad8...   \n17    155  0x40eab3b74225a3c145991237f7a8cf204023a6f7dd82...   \n18   1680  0xf8f29e12185f42790ac0dca8c7a5000e6ac5a05bb58e...   \n19     10  0x630d786cb78626789767485baa3097365c713dc1f3c1...   \n20   5684  0xbe4839e2f7201d1abc27a8673535f14049aea6b67421...   \n21    809  0xdf8318e301655767601107e3cbf853835996bfe60651...   \n22  14745  0x371f141ebcda38f772c70eefe95eed25ebe51cddb0e1...   \n23    909  0x85664b9972bfd64ced2dbdabcbaf540aa7121d5fb860...   \n24    413  0xd51026d559712f6d6d06ba73f4d1bf079f722d652b6d...   \n\n                                          from  \\\n0   0x862cb5b6eeaafb26ebb137e0c3c5d7728800439a   \n1   0xb59fdff77a6175dfa4fe7af4281a52f61611eaa2   \n2   0x5586aec6f58086524753d594cec08c4318314299   \n3   0x354ffa86f138883b880c282000b5005e867e8ee4   \n4   0xae2b80f7f4d285caa658a285233550d19c8e7847   \n5   0x0000000000000000000000000000000000000000   \n6   0x1c19839c88c0cdb4d0b10208833101d75454d7c1   \n7   0xae2b80f7f4d285caa658a285233550d19c8e7847   \n8   0x0000000000000000000000000000000000000000   \n9   0x21d80914081aedb32a0e9a369b4385a400ef4e42   \n10  0x61d80088c69f0874963dcd655de7e0b851ceef61   \n11  0x31a240648e2baf4f9f17225987f6f53fceb1699a   \n12  0x9fe3850dfd1a14e7219f40339ee76774ecdd410a   \n13  0x0000000000000000000000000000000000000000   \n14  0x84d069d3bef6c979bd248d494ab9102c6adb7c0e   \n15  0x0000000000000000000000000000000000000000   \n16  0x9bc39ba2b2a87255b73e06a711f50157e7b16072   \n17  0xbdd2497c1a7d0bcae6143b0ad6509717265f621e   \n18  0x0000000000000000000000000000000000000000   \n19  0x9dd134d14d1e65f84b706d6f205cd5b1cd03a46b   \n20  0x8e306b005773bee6ba6a6e8972bc79d766cc15c8   \n21  0x0000000000000000000000000000000000000000   \n22  0x5ec2dc94a2e53727e37f253783ddff7cb907709d   \n23  0xe5ccfca59acd6a3dea18a97a8d12a1fc5be09b13   \n24  0xc12d1c73ee7dc3615ba4e37e4abfdbddfa38907e   \n\n                               contractAddress  \\\n0   0xd26114cd6ee289accf82350c8d8487fedb8a0c07   \n1   0xab95e915c123fded5bdfb6325e35ef5515f1ea69   \n2   0x0cf0ee63788a0849fe5297f3407f701e122cc023   \n3   0xe769d988ceda1559aee07963e59e62bd730dbba6   \n4   0x519475b31653e46d20cd09f9fdcf3b12bdacb4f5   \n5   0x52903256dd18d85c2dc4a6c999907c9793ea61e3   \n6   0xd037a81b22e7f814bc6f87d50e5bd67d8c329fa2   \n7   0xf97f07c370918a762e2bfb689301d544fbc3b7d7   \n8   0x1234567461d3f8db7496581774bd869c83d51c93   \n9   0xf2eab3a2034d3f6b63734d2e08262040e3ff7b48   \n10  0xf3e014fe81267870624132ef3a646b8e83853a96   \n11  0x31a240648e2baf4f9f17225987f6f53fceb1699a   \n12  0xf230b790e05390fc8295f4d3f60332c93bed42e2   \n13  0xd3ace836e47f7cf4948dffd8ca2937494c52580c   \n14  0x4092678e4e78230f46a1534c0fbc8fa39780892b   \n15  0x7b2f9706cd8473b4f5b7758b0171a9933fc6c4d6   \n16  0xe530441f4f73bdb6dc2fa5af7c3fc5fd551ec838   \n17  0x78fceca5bf5ec79c23effece97ae758665ba4f55   \n18  0xd4de05944572d142fbf70f3f010891a35ac15188   \n19  0x212d95fccdf0366343350f486bda1ceafc0c2d63   \n20  0x58b6a8a3302369daec383334672404ee733ab239   \n21  0xaf47ebbd460f21c2b3262726572ca8812d7143b0   \n22  0x9ab165d795019b6d8b3e971dda91071421305e5a   \n23  0xbddab785b306bcd9fb056da189615cc8ece1d823   \n24  0xc12d1c73ee7dc3615ba4e37e4abfdbddfa38907e   \n\n                                            to                      value  \\\n0   0x9dd134d14d1e65f84b706d6f205cd5b1cd03a46b        1397358616996710101   \n1   0x9dd134d14d1e65f84b706d6f205cd5b1cd03a46b     1341797759367773553400   \n2   0x9dd134d14d1e65f84b706d6f205cd5b1cd03a46b       10305769096293503844   \n3   0x9dd134d14d1e65f84b706d6f205cd5b1cd03a46b          10000000000000000   \n4   0x9dd134d14d1e65f84b706d6f205cd5b1cd03a46b     2649603135526344836060   \n5   0x9dd134d14d1e65f84b706d6f205cd5b1cd03a46b                        777   \n6   0x9dd134d14d1e65f84b706d6f205cd5b1cd03a46b      108652038586735664059   \n7   0x9dd134d14d1e65f84b706d6f205cd5b1cd03a46b        1324801567763172418   \n8   0x9dd134d14d1e65f84b706d6f205cd5b1cd03a46b        1000000000000000000   \n9   0x9dd134d14d1e65f84b706d6f205cd5b1cd03a46b  1019840000000000000000000   \n10  0x9dd134d14d1e65f84b706d6f205cd5b1cd03a46b        7770000000000000000   \n11  0x9dd134d14d1e65f84b706d6f205cd5b1cd03a46b                        777   \n12  0x9dd134d14d1e65f84b706d6f205cd5b1cd03a46b                   41000000   \n13  0x9dd134d14d1e65f84b706d6f205cd5b1cd03a46b     1500000000000000000000   \n14  0x9dd134d14d1e65f84b706d6f205cd5b1cd03a46b        2000000000000000000   \n15  0x9dd134d14d1e65f84b706d6f205cd5b1cd03a46b                        911   \n16  0x9dd134d14d1e65f84b706d6f205cd5b1cd03a46b                     510000   \n17  0x9dd134d14d1e65f84b706d6f205cd5b1cd03a46b        1000000000000000000   \n18  0x9dd134d14d1e65f84b706d6f205cd5b1cd03a46b      365000000000000000000   \n19  0x13f9a51f0cabd17c7e06d6f3ec78a3b575ebc71c      100000000000000000000   \n20  0x9dd134d14d1e65f84b706d6f205cd5b1cd03a46b        2085203642471664555   \n21  0x9dd134d14d1e65f84b706d6f205cd5b1cd03a46b                          5   \n22  0x9dd134d14d1e65f84b706d6f205cd5b1cd03a46b        1000000000000000000   \n23  0x9dd134d14d1e65f84b706d6f205cd5b1cd03a46b       26792095293945616818   \n24  0x9dd134d14d1e65f84b706d6f205cd5b1cd03a46b             88888800000000   \n\n                             tokenName                    tokenSymbol  \\\n0                          OMG Network                            OMG   \n1                                XENON                            XNN   \n2                             DATAcoin                           DATA   \n3                       WisePlat Token                           WISE   \n4                                  VIU                            VIU   \n5                            INS Promo                           INSP   \n6                           EMO tokens                            EMO   \n7                               RAZOOM                            RZM   \n8                             BitClave                            CAT   \n9                                CANDY                          CANDY   \n10                                 VIN                            VIN   \n11  SAFE.AD - 20% DISCOUNT UNTIL 1 MAY                        safe.ad   \n12                              Tronix                            TRX   \n13    Free BOB Tokens - BobsRepair.com                           BOBx   \n14                               OCoin                            OCN   \n15                     An Etheal Promo                          HEALP   \n16                          GSENetwork                            GSE   \n17                       YouDeal Token                             YD   \n18                 Bulleon Promo Token                  BULLEON PROMO   \n19       blockwell.ai KYC Casper Token  blockwell.ai KYC Casper Token   \n20                      Livepeer Token                            LPT   \n21                             Promodl                           PMOD   \n22                              Aurora                            AOA   \n23                              Ebakus                            EBK   \n24                           KickToken                           KICK   \n\n   tokenDecimal transactionIndex      gas     gasPrice  gasUsed  \\\n0            18               47  3020000   4000000000  2900429   \n1            18               50  4712388    500000000  3131179   \n2            18               70  4000000   2000000000  2888161   \n3            18               88    90000   1000000000    52289   \n4            18               46  3300000    100000000  3271548   \n5             0               87  2000000   4000000000  1717731   \n6            18               59  3173822  30000000000  3073822   \n7            18               39  3300000    200000000  3288380   \n8            18               22  6500000   4000000000  6431268   \n9            18               49  3000000  10000000000  1642896   \n10           18               56  2000000   1000999999  1712468   \n11            0              169   300000    300000000   240624   \n12            6               22  1630798   2000000000  1630513   \n13           18               39  4000000   5000000000  3406632   \n14           18               12  3000000   4000000000  2893726   \n15            0               68  1800000   2000000000  1708229   \n16            4              215    60000  65000000000    52686   \n17           18               11  6662113   1500000000  6661813   \n18           18               45  5000000   2000000000  3708041   \n19           18               32  4000000   5000000000  2439639   \n20           18                5   950000   9140000000   758154   \n21            0               52  2000000   8000000000  1700858   \n22           18              114    60000   1000000000    51456   \n23           18               69   699393   1010000000   695083   \n24            8               43  7000000   2000000000  2728018   \n\n   cumulativeGasUsed       input confirmations  \n0            4817846  deprecated       6577801  \n1            4860660  deprecated       6443199  \n2            5026485  deprecated       6382867  \n3            4012258  deprecated       6381541  \n4            5769084  deprecated       6296505  \n5            5380959  deprecated       6222489  \n6            4776760  deprecated       6088016  \n7            6801604  deprecated       6057300  \n8            7351957  deprecated       6055297  \n9            2767067  deprecated       5906014  \n10           4917381  deprecated       5583534  \n11           7886166  deprecated       5426587  \n12           4122670  deprecated       5321127  \n13           6427676  deprecated       5304360  \n14           3626602  deprecated       5169118  \n15           6356731  deprecated       5072577  \n16           6769374  deprecated       4957521  \n17           7713989  deprecated       4679771  \n18           6321313  deprecated       4631739  \n19           4297590  deprecated       4573122  \n20           1391826  deprecated       4457787  \n21           6742992  deprecated       4354693  \n22           5830697  deprecated       3189233  \n23           6221695  deprecated       2194742  \n24           5101505  deprecated       1779121  ",
      "text/html": "<div>\n<style scoped>\n    .dataframe tbody tr th:only-of-type {\n        vertical-align: middle;\n    }\n\n    .dataframe tbody tr th {\n        vertical-align: top;\n    }\n\n    .dataframe thead th {\n        text-align: right;\n    }\n</style>\n<table border=\"1\" class=\"dataframe\">\n  <thead>\n    <tr style=\"text-align: right;\">\n      <th></th>\n      <th>blockNumber</th>\n      <th>timeStamp</th>\n      <th>hash</th>\n      <th>nonce</th>\n      <th>blockHash</th>\n      <th>from</th>\n      <th>contractAddress</th>\n      <th>to</th>\n      <th>value</th>\n      <th>tokenName</th>\n      <th>tokenSymbol</th>\n      <th>tokenDecimal</th>\n      <th>transactionIndex</th>\n      <th>gas</th>\n      <th>gasPrice</th>\n      <th>gasUsed</th>\n      <th>cumulativeGasUsed</th>\n      <th>input</th>\n      <th>confirmations</th>\n    </tr>\n  </thead>\n  <tbody>\n    <tr>\n      <th>0</th>\n      <td>4279090</td>\n      <td>1505536105</td>\n      <td>0xb33f551d20d39a4e5852b5a26e34e6b4d011f4bf90b6...</td>\n      <td>905</td>\n      <td>0xd785fbeb9c8aecd2074a8e609dba4941be2f0d7ce263...</td>\n      <td>0x862cb5b6eeaafb26ebb137e0c3c5d7728800439a</td>\n      <td>0xd26114cd6ee289accf82350c8d8487fedb8a0c07</td>\n      <td>0x9dd134d14d1e65f84b706d6f205cd5b1cd03a46b</td>\n      <td>1397358616996710101</td>\n      <td>OMG Network</td>\n      <td>OMG</td>\n      <td>18</td>\n      <td>47</td>\n      <td>3020000</td>\n      <td>4000000000</td>\n      <td>2900429</td>\n      <td>4817846</td>\n      <td>deprecated</td>\n      <td>6577801</td>\n    </tr>\n    <tr>\n      <th>1</th>\n      <td>4413692</td>\n      <td>1508751649</td>\n      <td>0x7d972823582d6946aca8941976864e56042bbe322ca4...</td>\n      <td>335</td>\n      <td>0xe26ca1e6399fb141c5be8b41e6c95569696726334f05...</td>\n      <td>0xb59fdff77a6175dfa4fe7af4281a52f61611eaa2</td>\n      <td>0xab95e915c123fded5bdfb6325e35ef5515f1ea69</td>\n      <td>0x9dd134d14d1e65f84b706d6f205cd5b1cd03a46b</td>\n      <td>1341797759367773553400</td>\n      <td>XENON</td>\n      <td>XNN</td>\n      <td>18</td>\n      <td>50</td>\n      <td>4712388</td>\n      <td>500000000</td>\n      <td>3131179</td>\n      <td>4860660</td>\n      <td>deprecated</td>\n      <td>6443199</td>\n    </tr>\n    <tr>\n      <th>2</th>\n      <td>4474024</td>\n      <td>1509593290</td>\n      <td>0xf515355a0b5c34cb2a155b3df20682aa1a07b5780b09...</td>\n      <td>3178</td>\n      <td>0x1aaa6291127ffa82f7c46e4ebf5f5e504d2ff60b7394...</td>\n      <td>0x5586aec6f58086524753d594cec08c4318314299</td>\n      <td>0x0cf0ee63788a0849fe5297f3407f701e122cc023</td>\n      <td>0x9dd134d14d1e65f84b706d6f205cd5b1cd03a46b</td>\n      <td>10305769096293503844</td>\n      <td>DATAcoin</td>\n      <td>DATA</td>\n      <td>18</td>\n      <td>70</td>\n      <td>4000000</td>\n      <td>2000000000</td>\n      <td>2888161</td>\n      <td>5026485</td>\n      <td>deprecated</td>\n      <td>6382867</td>\n    </tr>\n    <tr>\n      <th>3</th>\n      <td>4475350</td>\n      <td>1509612405</td>\n      <td>0x7c0efcd8640adad41eb965739628fc527f62d0700207...</td>\n      <td>1807</td>\n      <td>0x9f3edb6ec0b190c5acfe881b6ea1776f273057715e30...</td>\n      <td>0x354ffa86f138883b880c282000b5005e867e8ee4</td>\n      <td>0xe769d988ceda1559aee07963e59e62bd730dbba6</td>\n      <td>0x9dd134d14d1e65f84b706d6f205cd5b1cd03a46b</td>\n      <td>10000000000000000</td>\n      <td>WisePlat Token</td>\n      <td>WISE</td>\n      <td>18</td>\n      <td>88</td>\n      <td>90000</td>\n      <td>1000000000</td>\n      <td>52289</td>\n      <td>4012258</td>\n      <td>deprecated</td>\n      <td>6381541</td>\n    </tr>\n    <tr>\n      <th>4</th>\n      <td>4560386</td>\n      <td>1510792325</td>\n      <td>0x655c9724fb58583628ea08d68b03ea55302da327f3aa...</td>\n      <td>72</td>\n      <td>0x960cc60f6add0de340188e72e6c954054e6cdb3a643d...</td>\n      <td>0xae2b80f7f4d285caa658a285233550d19c8e7847</td>\n      <td>0x519475b31653e46d20cd09f9fdcf3b12bdacb4f5</td>\n      <td>0x9dd134d14d1e65f84b706d6f205cd5b1cd03a46b</td>\n      <td>2649603135526344836060</td>\n      <td>VIU</td>\n      <td>VIU</td>\n      <td>18</td>\n      <td>46</td>\n      <td>3300000</td>\n      <td>100000000</td>\n      <td>3271548</td>\n      <td>5769084</td>\n      <td>deprecated</td>\n      <td>6296505</td>\n    </tr>\n    <tr>\n      <th>5</th>\n      <td>4634402</td>\n      <td>1511825084</td>\n      <td>0xee78484762d52fcb556edeab861e788395c0248441fa...</td>\n      <td>1805</td>\n      <td>0xc18845dee4ed632b8b2ed7bb4547f444f66e4ec9a26c...</td>\n      <td>0x0000000000000000000000000000000000000000</td>\n      <td>0x52903256dd18d85c2dc4a6c999907c9793ea61e3</td>\n      <td>0x9dd134d14d1e65f84b706d6f205cd5b1cd03a46b</td>\n      <td>777</td>\n      <td>INS Promo</td>\n      <td>INSP</td>\n      <td>0</td>\n      <td>87</td>\n      <td>2000000</td>\n      <td>4000000000</td>\n      <td>1717731</td>\n      <td>5380959</td>\n      <td>deprecated</td>\n      <td>6222489</td>\n    </tr>\n    <tr>\n      <th>6</th>\n      <td>4768875</td>\n      <td>1513824904</td>\n      <td>0x3a21333845f902340d5e802324b018ea15fbfb941fb1...</td>\n      <td>466</td>\n      <td>0x11f0f65f7e5ae0b6ffaa67dafa7ecd917ed1fd420dee...</td>\n      <td>0x1c19839c88c0cdb4d0b10208833101d75454d7c1</td>\n      <td>0xd037a81b22e7f814bc6f87d50e5bd67d8c329fa2</td>\n      <td>0x9dd134d14d1e65f84b706d6f205cd5b1cd03a46b</td>\n      <td>108652038586735664059</td>\n      <td>EMO tokens</td>\n      <td>EMO</td>\n      <td>18</td>\n      <td>59</td>\n      <td>3173822</td>\n      <td>30000000000</td>\n      <td>3073822</td>\n      <td>4776760</td>\n      <td>deprecated</td>\n      <td>6088016</td>\n    </tr>\n    <tr>\n      <th>7</th>\n      <td>4799591</td>\n      <td>1514278538</td>\n      <td>0x6096938c7944b38a2e916ba296cca7676f430b2bf5c2...</td>\n      <td>214</td>\n      <td>0x92f51b439dfefff5195b92911a4150f20b70891b9e1c...</td>\n      <td>0xae2b80f7f4d285caa658a285233550d19c8e7847</td>\n      <td>0xf97f07c370918a762e2bfb689301d544fbc3b7d7</td>\n      <td>0x9dd134d14d1e65f84b706d6f205cd5b1cd03a46b</td>\n      <td>1324801567763172418</td>\n      <td>RAZOOM</td>\n      <td>RZM</td>\n      <td>18</td>\n      <td>39</td>\n      <td>3300000</td>\n      <td>200000000</td>\n      <td>3288380</td>\n      <td>6801604</td>\n      <td>deprecated</td>\n      <td>6057300</td>\n    </tr>\n    <tr>\n      <th>8</th>\n      <td>4801594</td>\n      <td>1514307103</td>\n      <td>0x9a61ea776934fbb1bedb094359e4f4c9fb741a825688...</td>\n      <td>94707</td>\n      <td>0x9c4cffa34539de9ed3ff23d3ce60605c788da999dbe8...</td>\n      <td>0x0000000000000000000000000000000000000000</td>\n      <td>0x1234567461d3f8db7496581774bd869c83d51c93</td>\n      <td>0x9dd134d14d1e65f84b706d6f205cd5b1cd03a46b</td>\n      <td>1000000000000000000</td>\n      <td>BitClave</td>\n      <td>CAT</td>\n      <td>18</td>\n      <td>22</td>\n      <td>6500000</td>\n      <td>4000000000</td>\n      <td>6431268</td>\n      <td>7351957</td>\n      <td>deprecated</td>\n      <td>6055297</td>\n    </tr>\n    <tr>\n      <th>9</th>\n      <td>4950877</td>\n      <td>1516603739</td>\n      <td>0xde82b3f473cf5fc97770cde9537ffc303692b15e44b7...</td>\n      <td>196</td>\n      <td>0xecc29d77c914386a58ecee786110bb6fe357f90c0f8e...</td>\n      <td>0x21d80914081aedb32a0e9a369b4385a400ef4e42</td>\n      <td>0xf2eab3a2034d3f6b63734d2e08262040e3ff7b48</td>\n      <td>0x9dd134d14d1e65f84b706d6f205cd5b1cd03a46b</td>\n      <td>1019840000000000000000000</td>\n      <td>CANDY</td>\n      <td>CANDY</td>\n      <td>18</td>\n      <td>49</td>\n      <td>3000000</td>\n      <td>10000000000</td>\n      <td>1642896</td>\n      <td>2767067</td>\n      <td>deprecated</td>\n      <td>5906014</td>\n    </tr>\n    <tr>\n      <th>10</th>\n      <td>5273357</td>\n      <td>1521318915</td>\n      <td>0x519358be63e99e5774e0ff90dca5a134a0bd359a64c0...</td>\n      <td>81</td>\n      <td>0x518804b0f1d0fe366bcbc824777a7e0224bcd1f7a941...</td>\n      <td>0x61d80088c69f0874963dcd655de7e0b851ceef61</td>\n      <td>0xf3e014fe81267870624132ef3a646b8e83853a96</td>\n      <td>0x9dd134d14d1e65f84b706d6f205cd5b1cd03a46b</td>\n      <td>7770000000000000000</td>\n      <td>VIN</td>\n      <td>VIN</td>\n      <td>18</td>\n      <td>56</td>\n      <td>2000000</td>\n      <td>1000999999</td>\n      <td>1712468</td>\n      <td>4917381</td>\n      <td>deprecated</td>\n      <td>5583534</td>\n    </tr>\n    <tr>\n      <th>11</th>\n      <td>5430304</td>\n      <td>1523581281</td>\n      <td>0x01f7aa426df8ee761f07d371e460ffdff08d53e33b41...</td>\n      <td>6966</td>\n      <td>0x5c493a7d12bb4a35ad7aa2a15a4debf0aed2eb84c27d...</td>\n      <td>0x31a240648e2baf4f9f17225987f6f53fceb1699a</td>\n      <td>0x31a240648e2baf4f9f17225987f6f53fceb1699a</td>\n      <td>0x9dd134d14d1e65f84b706d6f205cd5b1cd03a46b</td>\n      <td>777</td>\n      <td>SAFE.AD - 20% DISCOUNT UNTIL 1 MAY</td>\n      <td>safe.ad</td>\n      <td>0</td>\n      <td>169</td>\n      <td>300000</td>\n      <td>300000000</td>\n      <td>240624</td>\n      <td>7886166</td>\n      <td>deprecated</td>\n      <td>5426587</td>\n    </tr>\n    <tr>\n      <th>12</th>\n      <td>5535764</td>\n      <td>1525146596</td>\n      <td>0x7fa190d65ce56443b5bf22eae5c102c80058af177fb5...</td>\n      <td>2</td>\n      <td>0x255a79e2b24f7a3e722b3725fcd6a8a222a6e845cf17...</td>\n      <td>0x9fe3850dfd1a14e7219f40339ee76774ecdd410a</td>\n      <td>0xf230b790e05390fc8295f4d3f60332c93bed42e2</td>\n      <td>0x9dd134d14d1e65f84b706d6f205cd5b1cd03a46b</td>\n      <td>41000000</td>\n      <td>Tronix</td>\n      <td>TRX</td>\n      <td>6</td>\n      <td>22</td>\n      <td>1630798</td>\n      <td>2000000000</td>\n      <td>1630513</td>\n      <td>4122670</td>\n      <td>deprecated</td>\n      <td>5321127</td>\n    </tr>\n    <tr>\n      <th>13</th>\n      <td>5552531</td>\n      <td>1525401752</td>\n      <td>0x58e7b64b79f2bd2dae3b62c06a0ab87e4e90c475abf5...</td>\n      <td>232</td>\n      <td>0x64cd84d3814f89c298039912d9b089dba18dde2839a4...</td>\n      <td>0x0000000000000000000000000000000000000000</td>\n      <td>0xd3ace836e47f7cf4948dffd8ca2937494c52580c</td>\n      <td>0x9dd134d14d1e65f84b706d6f205cd5b1cd03a46b</td>\n      <td>1500000000000000000000</td>\n      <td>Free BOB Tokens - BobsRepair.com</td>\n      <td>BOBx</td>\n      <td>18</td>\n      <td>39</td>\n      <td>4000000</td>\n      <td>5000000000</td>\n      <td>3406632</td>\n      <td>6427676</td>\n      <td>deprecated</td>\n      <td>5304360</td>\n    </tr>\n    <tr>\n      <th>14</th>\n      <td>5687773</td>\n      <td>1527456884</td>\n      <td>0x24e774a1e6664da45533988d1eb0917aec4abd818097...</td>\n      <td>651</td>\n      <td>0xcc81bfb7e7820dbe7ef66356ae3bc0b5597f5126b37a...</td>\n      <td>0x84d069d3bef6c979bd248d494ab9102c6adb7c0e</td>\n      <td>0x4092678e4e78230f46a1534c0fbc8fa39780892b</td>\n      <td>0x9dd134d14d1e65f84b706d6f205cd5b1cd03a46b</td>\n      <td>2000000000000000000</td>\n      <td>OCoin</td>\n      <td>OCN</td>\n      <td>18</td>\n      <td>12</td>\n      <td>3000000</td>\n      <td>4000000000</td>\n      <td>2893726</td>\n      <td>3626602</td>\n      <td>deprecated</td>\n      <td>5169118</td>\n    </tr>\n    <tr>\n      <th>15</th>\n      <td>5784314</td>\n      <td>1528932754</td>\n      <td>0xdcf93a1882c5e065f598436865bba8f1284665af376f...</td>\n      <td>25</td>\n      <td>0xbaba8d7fc1db02b860ec2cedbcc80a69db169c4aeb1b...</td>\n      <td>0x0000000000000000000000000000000000000000</td>\n      <td>0x7b2f9706cd8473b4f5b7758b0171a9933fc6c4d6</td>\n      <td>0x9dd134d14d1e65f84b706d6f205cd5b1cd03a46b</td>\n      <td>911</td>\n      <td>An Etheal Promo</td>\n      <td>HEALP</td>\n      <td>0</td>\n      <td>68</td>\n      <td>1800000</td>\n      <td>2000000000</td>\n      <td>1708229</td>\n      <td>6356731</td>\n      <td>deprecated</td>\n      <td>5072577</td>\n    </tr>\n    <tr>\n      <th>16</th>\n      <td>5899370</td>\n      <td>1530637238</td>\n      <td>0x266002847627c0430a2de3906b695e927f579078b3ac...</td>\n      <td>8280</td>\n      <td>0x44d4635af9e6e4af4038f2ce3b22a9b963bd1846aad8...</td>\n      <td>0x9bc39ba2b2a87255b73e06a711f50157e7b16072</td>\n      <td>0xe530441f4f73bdb6dc2fa5af7c3fc5fd551ec838</td>\n      <td>0x9dd134d14d1e65f84b706d6f205cd5b1cd03a46b</td>\n      <td>510000</td>\n      <td>GSENetwork</td>\n      <td>GSE</td>\n      <td>4</td>\n      <td>215</td>\n      <td>60000</td>\n      <td>65000000000</td>\n      <td>52686</td>\n      <td>6769374</td>\n      <td>deprecated</td>\n      <td>4957521</td>\n    </tr>\n    <tr>\n      <th>17</th>\n      <td>6177120</td>\n      <td>1534705662</td>\n      <td>0x3a13dc9b846932c69e0052b70ca6995499e0bb08e5d4...</td>\n      <td>155</td>\n      <td>0x40eab3b74225a3c145991237f7a8cf204023a6f7dd82...</td>\n      <td>0xbdd2497c1a7d0bcae6143b0ad6509717265f621e</td>\n      <td>0x78fceca5bf5ec79c23effece97ae758665ba4f55</td>\n      <td>0x9dd134d14d1e65f84b706d6f205cd5b1cd03a46b</td>\n      <td>1000000000000000000</td>\n      <td>YouDeal Token</td>\n      <td>YD</td>\n      <td>18</td>\n      <td>11</td>\n      <td>6662113</td>\n      <td>1500000000</td>\n      <td>6661813</td>\n      <td>7713989</td>\n      <td>deprecated</td>\n      <td>4679771</td>\n    </tr>\n    <tr>\n      <th>18</th>\n      <td>6225152</td>\n      <td>1535405845</td>\n      <td>0xb418a0c41661d0797def6f3c331700b8adbd3789e1db...</td>\n      <td>1680</td>\n      <td>0xf8f29e12185f42790ac0dca8c7a5000e6ac5a05bb58e...</td>\n      <td>0x0000000000000000000000000000000000000000</td>\n      <td>0xd4de05944572d142fbf70f3f010891a35ac15188</td>\n      <td>0x9dd134d14d1e65f84b706d6f205cd5b1cd03a46b</td>\n      <td>365000000000000000000</td>\n      <td>Bulleon Promo Token</td>\n      <td>BULLEON PROMO</td>\n      <td>18</td>\n      <td>45</td>\n      <td>5000000</td>\n      <td>2000000000</td>\n      <td>3708041</td>\n      <td>6321313</td>\n      <td>deprecated</td>\n      <td>4631739</td>\n    </tr>\n    <tr>\n      <th>19</th>\n      <td>6283769</td>\n      <td>1536258503</td>\n      <td>0xd0328ec39e370a6be841b71da143ca5b64d576fca936...</td>\n      <td>10</td>\n      <td>0x630d786cb78626789767485baa3097365c713dc1f3c1...</td>\n      <td>0x9dd134d14d1e65f84b706d6f205cd5b1cd03a46b</td>\n      <td>0x212d95fccdf0366343350f486bda1ceafc0c2d63</td>\n      <td>0x13f9a51f0cabd17c7e06d6f3ec78a3b575ebc71c</td>\n      <td>100000000000000000000</td>\n      <td>blockwell.ai KYC Casper Token</td>\n      <td>blockwell.ai KYC Casper Token</td>\n      <td>18</td>\n      <td>32</td>\n      <td>4000000</td>\n      <td>5000000000</td>\n      <td>2439639</td>\n      <td>4297590</td>\n      <td>deprecated</td>\n      <td>4573122</td>\n    </tr>\n    <tr>\n      <th>20</th>\n      <td>6399104</td>\n      <td>1537910414</td>\n      <td>0x91f2a591e14db01065a51b1c11da2cddcfcff3544c66...</td>\n      <td>5684</td>\n      <td>0xbe4839e2f7201d1abc27a8673535f14049aea6b67421...</td>\n      <td>0x8e306b005773bee6ba6a6e8972bc79d766cc15c8</td>\n      <td>0x58b6a8a3302369daec383334672404ee733ab239</td>\n      <td>0x9dd134d14d1e65f84b706d6f205cd5b1cd03a46b</td>\n      <td>2085203642471664555</td>\n      <td>Livepeer Token</td>\n      <td>LPT</td>\n      <td>18</td>\n      <td>5</td>\n      <td>950000</td>\n      <td>9140000000</td>\n      <td>758154</td>\n      <td>1391826</td>\n      <td>deprecated</td>\n      <td>4457787</td>\n    </tr>\n    <tr>\n      <th>21</th>\n      <td>6502198</td>\n      <td>1539361827</td>\n      <td>0x0a933ad9b8b7c109542203c69da7abd9831de7570dd8...</td>\n      <td>809</td>\n      <td>0xdf8318e301655767601107e3cbf853835996bfe60651...</td>\n      <td>0x0000000000000000000000000000000000000000</td>\n      <td>0xaf47ebbd460f21c2b3262726572ca8812d7143b0</td>\n      <td>0x9dd134d14d1e65f84b706d6f205cd5b1cd03a46b</td>\n      <td>5</td>\n      <td>Promodl</td>\n      <td>PMOD</td>\n      <td>0</td>\n      <td>52</td>\n      <td>2000000</td>\n      <td>8000000000</td>\n      <td>1700858</td>\n      <td>6742992</td>\n      <td>deprecated</td>\n      <td>4354693</td>\n    </tr>\n    <tr>\n      <th>22</th>\n      <td>7667658</td>\n      <td>1556612129</td>\n      <td>0x9b3f867079535715d6cbdd0462a3d830a4ad6d819c08...</td>\n      <td>14745</td>\n      <td>0x371f141ebcda38f772c70eefe95eed25ebe51cddb0e1...</td>\n      <td>0x5ec2dc94a2e53727e37f253783ddff7cb907709d</td>\n      <td>0x9ab165d795019b6d8b3e971dda91071421305e5a</td>\n      <td>0x9dd134d14d1e65f84b706d6f205cd5b1cd03a46b</td>\n      <td>1000000000000000000</td>\n      <td>Aurora</td>\n      <td>AOA</td>\n      <td>18</td>\n      <td>114</td>\n      <td>60000</td>\n      <td>1000000000</td>\n      <td>51456</td>\n      <td>5830697</td>\n      <td>deprecated</td>\n      <td>3189233</td>\n    </tr>\n    <tr>\n      <th>23</th>\n      <td>8662149</td>\n      <td>1570009807</td>\n      <td>0xa034dc4f62c8937e488ea8d2d5f41a2bc7bdd6fc499d...</td>\n      <td>909</td>\n      <td>0x85664b9972bfd64ced2dbdabcbaf540aa7121d5fb860...</td>\n      <td>0xe5ccfca59acd6a3dea18a97a8d12a1fc5be09b13</td>\n      <td>0xbddab785b306bcd9fb056da189615cc8ece1d823</td>\n      <td>0x9dd134d14d1e65f84b706d6f205cd5b1cd03a46b</td>\n      <td>26792095293945616818</td>\n      <td>Ebakus</td>\n      <td>EBK</td>\n      <td>18</td>\n      <td>69</td>\n      <td>699393</td>\n      <td>1010000000</td>\n      <td>695083</td>\n      <td>6221695</td>\n      <td>deprecated</td>\n      <td>2194742</td>\n    </tr>\n    <tr>\n      <th>24</th>\n      <td>9077770</td>\n      <td>1575899971</td>\n      <td>0x1a4bb820bf90220e934ae07e72cb2140eca8477dcfad...</td>\n      <td>413</td>\n      <td>0xd51026d559712f6d6d06ba73f4d1bf079f722d652b6d...</td>\n      <td>0xc12d1c73ee7dc3615ba4e37e4abfdbddfa38907e</td>\n      <td>0xc12d1c73ee7dc3615ba4e37e4abfdbddfa38907e</td>\n      <td>0x9dd134d14d1e65f84b706d6f205cd5b1cd03a46b</td>\n      <td>88888800000000</td>\n      <td>KickToken</td>\n      <td>KICK</td>\n      <td>8</td>\n      <td>43</td>\n      <td>7000000</td>\n      <td>2000000000</td>\n      <td>2728018</td>\n      <td>5101505</td>\n      <td>deprecated</td>\n      <td>1779121</td>\n    </tr>\n  </tbody>\n</table>\n</div>"
     },
     "metadata": {},
     "execution_count": 38
    }
   ],
   "source": [
    "ERC20trans = api.get_transaction_page(erc20=True)\n",
    "ERC20trans = pd.DataFrame(ERC20trans)\n",
    "ERC20trans"
   ]
  },
  {
   "cell_type": "code",
   "execution_count": 39,
   "metadata": {},
   "outputs": [],
   "source": [
    "ERC20trans.timeStamp = ERC20trans.timeStamp.astype(\"int\").apply(lambda d: datetime.utcfromtimestamp(d).strftime(\"%Y/%m/%d %H:%M:%S UTC\"))\n",
    "ERC20trans.rename({\"timeStamp\":\"time\"}, inplace=True)\n",
    "ERC20trans.to_csv(\"./ETC20_transactions.csv\", index=False)"
   ]
  },
  {
   "source": [
    "#### get a list of blocks mined by address"
   ],
   "cell_type": "markdown",
   "metadata": {}
  },
  {
   "source": [
    "api.get_blocks_mined_page(page=1, offset=10)"
   ],
   "cell_type": "code",
   "metadata": {},
   "execution_count": 44,
   "outputs": [
    {
     "output_type": "execute_result",
     "data": {
      "text/plain": "[{'blockNumber': '3462296',\n  'timeStamp': '1491118514',\n  'blockReward': '5194770940000000000'},\n {'blockNumber': '2691400',\n  'timeStamp': '1480072029',\n  'blockReward': '5086562212310617100'},\n {'blockNumber': '2687700',\n  'timeStamp': '1480018852',\n  'blockReward': '5003251945421042780'},\n {'blockNumber': '2683816',\n  'timeStamp': '1479962557',\n  'blockReward': '5001383656218938700'},\n {'blockNumber': '2679545',\n  'timeStamp': '1479897472',\n  'blockReward': '5020577105778940320'},\n {'blockNumber': '2672925',\n  'timeStamp': '1479801652',\n  'blockReward': '5036170186197654897'},\n {'blockNumber': '2672392',\n  'timeStamp': '1479793756',\n  'blockReward': '5040843500234248393'},\n {'blockNumber': '2671141',\n  'timeStamp': '1479775525',\n  'blockReward': '5006088055733760000'},\n {'blockNumber': '2664645',\n  'timeStamp': '1479683057',\n  'blockReward': '5008800961000000000'},\n {'blockNumber': '2664477',\n  'timeStamp': '1479680540',\n  'blockReward': '5014109439959925732'}]"
     },
     "metadata": {},
     "execution_count": 44
    }
   ]
  },
  {
   "cell_type": "code",
   "execution_count": 45,
   "metadata": {
    "tags": []
   },
   "outputs": [
    {
     "output_type": "stream",
     "name": "stdout",
     "text": "OK\npage 1 added\n"
    },
    {
     "output_type": "error",
     "ename": "EmptyResponse",
     "evalue": "<Err: No transactions found>",
     "traceback": [
      "\u001b[0;31m---------------------------------------------------------------------------\u001b[0m",
      "\u001b[0;31mEmptyResponse\u001b[0m                             Traceback (most recent call last)",
      "\u001b[0;32m<ipython-input-45-e4793b7371a2>\u001b[0m in \u001b[0;36m<module>\u001b[0;34m\u001b[0m\n\u001b[0;32m----> 1\u001b[0;31m \u001b[0mapi\u001b[0m\u001b[0;34m.\u001b[0m\u001b[0mget_all_blocks_mined\u001b[0m\u001b[0;34m(\u001b[0m\u001b[0;34m)\u001b[0m\u001b[0;34m\u001b[0m\u001b[0;34m\u001b[0m\u001b[0m\n\u001b[0m",
      "\u001b[0;32m/anaconda3/envs/cryptoalgowheel/lib/python3.7/site-packages/etherscan/accounts.py\u001b[0m in \u001b[0;36mget_all_blocks_mined\u001b[0;34m(self, blocktype, offset)\u001b[0m\n\u001b[1;32m    133\u001b[0m         \u001b[0;32mwhile\u001b[0m \u001b[0;32mTrue\u001b[0m\u001b[0;34m:\u001b[0m\u001b[0;34m\u001b[0m\u001b[0;34m\u001b[0m\u001b[0m\n\u001b[1;32m    134\u001b[0m             \u001b[0mself\u001b[0m\u001b[0;34m.\u001b[0m\u001b[0mbuild_url\u001b[0m\u001b[0;34m(\u001b[0m\u001b[0;34m)\u001b[0m\u001b[0;34m\u001b[0m\u001b[0;34m\u001b[0m\u001b[0m\n\u001b[0;32m--> 135\u001b[0;31m             \u001b[0mreq\u001b[0m \u001b[0;34m=\u001b[0m \u001b[0mself\u001b[0m\u001b[0;34m.\u001b[0m\u001b[0mconnect\u001b[0m\u001b[0;34m(\u001b[0m\u001b[0;34m)\u001b[0m\u001b[0;34m\u001b[0m\u001b[0;34m\u001b[0m\u001b[0m\n\u001b[0m\u001b[1;32m    136\u001b[0m             \u001b[0mprint\u001b[0m\u001b[0;34m(\u001b[0m\u001b[0mreq\u001b[0m\u001b[0;34m[\u001b[0m\u001b[0;34m'message'\u001b[0m\u001b[0;34m]\u001b[0m\u001b[0;34m)\u001b[0m\u001b[0;34m\u001b[0m\u001b[0;34m\u001b[0m\u001b[0m\n\u001b[1;32m    137\u001b[0m             \u001b[0;32mif\u001b[0m \u001b[0;34m\"No transactions found\"\u001b[0m \u001b[0;32min\u001b[0m \u001b[0mreq\u001b[0m\u001b[0;34m[\u001b[0m\u001b[0;34m'message'\u001b[0m\u001b[0;34m]\u001b[0m\u001b[0;34m:\u001b[0m\u001b[0;34m\u001b[0m\u001b[0;34m\u001b[0m\u001b[0m\n",
      "\u001b[0;32m/anaconda3/envs/cryptoalgowheel/lib/python3.7/site-packages/etherscan/client.py\u001b[0m in \u001b[0;36mconnect\u001b[0;34m(self)\u001b[0m\n\u001b[1;32m    121\u001b[0m                     \u001b[0;32mreturn\u001b[0m \u001b[0mdata\u001b[0m\u001b[0;34m\u001b[0m\u001b[0;34m\u001b[0m\u001b[0m\n\u001b[1;32m    122\u001b[0m                 \u001b[0;32melse\u001b[0m\u001b[0;34m:\u001b[0m\u001b[0;34m\u001b[0m\u001b[0;34m\u001b[0m\u001b[0m\n\u001b[0;32m--> 123\u001b[0;31m                     \u001b[0;32mraise\u001b[0m \u001b[0mEmptyResponse\u001b[0m\u001b[0;34m(\u001b[0m\u001b[0mdata\u001b[0m\u001b[0;34m.\u001b[0m\u001b[0mget\u001b[0m\u001b[0;34m(\u001b[0m\u001b[0;34m'message'\u001b[0m\u001b[0;34m,\u001b[0m \u001b[0;34m'no message'\u001b[0m\u001b[0;34m)\u001b[0m\u001b[0;34m)\u001b[0m\u001b[0;34m\u001b[0m\u001b[0;34m\u001b[0m\u001b[0m\n\u001b[0m\u001b[1;32m    124\u001b[0m         raise BadRequest(\n\u001b[1;32m    125\u001b[0m             \"Problem with connection, status code: %s\" % req.status_code)\n",
      "\u001b[0;31mEmptyResponse\u001b[0m: <Err: No transactions found>"
     ]
    }
   ],
   "source": [
    "api.get_all_blocks_mined()"
   ]
  },
  {
   "source": [
    "#### api with multiple addresses"
   ],
   "cell_type": "markdown",
   "metadata": {}
  },
  {
   "cell_type": "code",
   "execution_count": 13,
   "metadata": {},
   "outputs": [],
   "source": [
    "addresses = ['0xbb9bc244d798123fde783fcc1c72d3bb8c189413', '0xddbd2b932c763ba5b1b7ae3b362eac3e8d40121a']"
   ]
  },
  {
   "cell_type": "code",
   "execution_count": 14,
   "metadata": {},
   "outputs": [
    {
     "output_type": "execute_result",
     "data": {
      "text/plain": "[{'account': '0xbb9bc244d798123fde783fcc1c72d3bb8c189413',\n  'balance': '43337541073858225984'},\n {'account': '0xddbd2b932c763ba5b1b7ae3b362eac3e8d40121a',\n  'balance': '40891631566070000000000'}]"
     },
     "metadata": {},
     "execution_count": 14
    }
   ],
   "source": [
    "api = accounts.Account(address = addresses, api_key=key)\n",
    "api.get_balance_multiple()"
   ]
  },
  {
   "cell_type": "code",
   "execution_count": null,
   "metadata": {},
   "outputs": [],
   "source": []
  }
 ]
}