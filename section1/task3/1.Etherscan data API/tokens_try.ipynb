{
 "metadata": {
  "language_info": {
   "codemirror_mode": {
    "name": "ipython",
    "version": 3
   },
   "file_extension": ".py",
   "mimetype": "text/x-python",
   "name": "python",
   "nbconvert_exporter": "python",
   "pygments_lexer": "ipython3",
   "version": "3.7.7-final"
  },
  "orig_nbformat": 2,
  "kernelspec": {
   "name": "python_defaultSpec_1600113177624",
   "display_name": "Python 3.7.7 64-bit ('cryptoalgowheel': conda)"
  }
 },
 "nbformat": 4,
 "nbformat_minor": 2,
 "cells": [
  {
   "cell_type": "code",
   "execution_count": 1,
   "metadata": {},
   "outputs": [],
   "source": [
    "# ***Important: still, need to install \"py-etherscan-api\" package/module from PyPI first!\n",
    "\n",
    "# first, activate cryptoalgowheel conda environment\n",
    "# then: /anaconda3/envs/cryptoalgowheel/bin/pip install py-etherscan-api"
   ]
  },
  {
   "cell_type": "code",
   "execution_count": 10,
   "metadata": {
    "tags": []
   },
   "outputs": [
    {
     "output_type": "stream",
     "name": "stdout",
     "text": "The autoreload extension is already loaded. To reload it, use:\n  %reload_ext autoreload\n"
    }
   ],
   "source": [
    "%load_ext autoreload\n",
    "%autoreload 2\n",
    "import etherscan.tokens as tokens\n",
    "import json\n",
    "import pandas as pd\n",
    "import numpy as np\n",
    "from datetime import datetime"
   ]
  },
  {
   "cell_type": "code",
   "execution_count": 13,
   "metadata": {
    "tags": []
   },
   "outputs": [
    {
     "output_type": "stream",
     "name": "stdout",
     "text": "MDGE4ZAZAQ4VXY2VCSC4GNB9H26TVKTN7R\n"
    }
   ],
   "source": [
    "with open(\"/Users/baixiao/Desktop/caw-quant-training/section1/task3/api_key.json\", mode='r') as key_file:\n",
    "    key = json.loads(key_file.read())['key']\n",
    "print(key)\n",
    "\n",
    "#declaring the ERC20 token contract address (can be found by searching Etherscan.io for the coin wanted)\n",
    "contract_address = '0x57d90b64a1a57749b0f932f1a3395792e12e7055'\n",
    "\n",
    "api = tokens.Tokens(contract_address = contract_address, api_key=key)"
   ]
  },
  {
   "source": [
    "#### get token balance of an address"
   ],
   "cell_type": "markdown",
   "metadata": {}
  },
  {
   "cell_type": "code",
   "execution_count": 14,
   "metadata": {},
   "outputs": [
    {
     "output_type": "execute_result",
     "data": {
      "text/plain": "'135499'"
     },
     "metadata": {},
     "execution_count": 14
    }
   ],
   "source": [
    "api.get_token_balance(address = '0xe04f27eb70e025b78871a2ad7eabe85e61212761')"
   ]
  },
  {
   "source": [
    "#### get total supply"
   ],
   "cell_type": "markdown",
   "metadata": {}
  },
  {
   "cell_type": "code",
   "execution_count": 15,
   "metadata": {},
   "outputs": [
    {
     "output_type": "execute_result",
     "data": {
      "text/plain": "'21265524714464'"
     },
     "metadata": {},
     "execution_count": 15
    }
   ],
   "source": [
    "api.get_total_supply()"
   ]
  },
  {
   "cell_type": "code",
   "execution_count": null,
   "metadata": {},
   "outputs": [],
   "source": []
  }
 ]
}