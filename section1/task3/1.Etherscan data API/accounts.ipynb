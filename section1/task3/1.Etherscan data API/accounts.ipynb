{
 "metadata": {
  "language_info": {
   "codemirror_mode": {
    "name": "ipython",
    "version": 3
   },
   "file_extension": ".py",
   "mimetype": "text/x-python",
   "name": "python",
   "nbconvert_exporter": "python",
   "pygments_lexer": "ipython3",
   "version": "3.7.7-final"
  },
  "orig_nbformat": 2,
  "kernelspec": {
   "name": "python_defaultSpec_1600044506988",
   "display_name": "Python 3.7.7 64-bit ('cryptoalgowheel': conda)"
  }
 },
 "nbformat": 4,
 "nbformat_minor": 2,
 "cells": [
  {
   "cell_type": "code",
   "execution_count": 1,
   "metadata": {},
   "outputs": [],
   "source": [
    "# ***Important: still, need to install \"py-etherscan-api\" package/module from PyPI first!\n",
    "\n",
    "# first, activate cryptoalgowheel conda environment\n",
    "# then: /anaconda3/envs/cryptoalgowheel/bin/pip install py-etherscan-api\n"
   ]
  },
  {
   "cell_type": "code",
   "execution_count": 2,
   "metadata": {},
   "outputs": [],
   "source": [
    "%load_ext autoreload\n",
    "%autoreload 2\n",
    "import etherscan.accounts as accounts\n",
    "import json\n",
    "import pandas as pd\n",
    "import numpy as np\n",
    "from datetime import datetime"
   ]
  },
  {
   "source": [
    "### single address"
   ],
   "cell_type": "markdown",
   "metadata": {}
  },
  {
   "cell_type": "code",
   "execution_count": 3,
   "metadata": {
    "tags": []
   },
   "outputs": [
    {
     "output_type": "stream",
     "name": "stdout",
     "text": "MDGE4ZAZAQ4VXY2VCSC4GNB9H26TVKTN7R\n"
    }
   ],
   "source": [
    "with open(\"/Users/baixiao/Desktop/caw-quant-training/section1/task3/api_key.json\", mode='r') as key_file:\n",
    "    key = json.loads(key_file.read())['key']\n",
    "print(key)\n",
    "\n",
    "address = '0x9dd134d14d1e65f84b706d6f205cd5b1cd03a46b'   #unique address for a transaction\n",
    "# api = accounts.Account(address=address, api_key=key)\n"
   ]
  },
  {
   "source": [
    "#### get balance"
   ],
   "cell_type": "markdown",
   "metadata": {}
  },
  {
   "cell_type": "code",
   "execution_count": 4,
   "metadata": {
    "tags": []
   },
   "outputs": [
    {
     "output_type": "stream",
     "name": "stdout",
     "text": "18914407547296432155\n"
    }
   ],
   "source": [
    "def get_bal(address, key):\n",
    "    api = accounts.Account(address=address, api_key=key)\n",
    "    print(api.get_balance())\n",
    "\n",
    "get_bal(address,key)      \n",
    "#get_bal(address='0xbb9bc244d798123fde783fcc1c72d3bb8c189413',key=key)"
   ]
  },
  {
   "source": [
    "#### get a list of transactions by address"
   ],
   "cell_type": "markdown",
   "metadata": {}
  },
  {
   "cell_type": "code",
   "execution_count": 5,
   "metadata": {},
   "outputs": [],
   "source": [
    "def get_trans_page(address, key, page=1, offset=10):\n",
    "    api = accounts.Account(address=address, api_key=key)\n",
    "    trans = api.get_transaction_page(page=page, offset=offset)     #(get paginated results here) (\"offset\" parameter: max records to return)\n",
    "    trans = pd.DataFrame(trans)\n",
    "    trans.timeStamp = trans.timeStamp.astype(\"int\").apply(lambda d: datetime.utcfromtimestamp(d).strftime(\"%Y/%m/%d %H:%M:%S UTC\"))\n",
    "    trans.rename(columns={\"timeStamp\":\"time\"}, inplace=True)\n",
    "    trans.to_csv(\"./normal_transactions.csv\", index=False)\n",
    "\n",
    "get_trans_page(address,key)              #you can pass in different address and key as parameters here"
   ]
  },
  {
   "cell_type": "code",
   "execution_count": 7,
   "metadata": {
    "tags": []
   },
   "outputs": [
    {
     "output_type": "stream",
     "name": "stdout",
     "text": "page 1 added\n"
    },
    {
     "output_type": "error",
     "ename": "EmptyResponse",
     "evalue": "<Err: No transactions found>",
     "traceback": [
      "\u001b[0;31m---------------------------------------------------------------------------\u001b[0m",
      "\u001b[0;31mEmptyResponse\u001b[0m                             Traceback (most recent call last)",
      "\u001b[0;32m<ipython-input-7-24ca1ea4cfa9>\u001b[0m in \u001b[0;36m<module>\u001b[0;34m\u001b[0m\n\u001b[1;32m      3\u001b[0m     \u001b[0mapi\u001b[0m\u001b[0;34m.\u001b[0m\u001b[0mget_all_transactions\u001b[0m\u001b[0;34m(\u001b[0m\u001b[0moffset\u001b[0m\u001b[0;34m=\u001b[0m\u001b[0;36m10000\u001b[0m\u001b[0;34m,\u001b[0m \u001b[0msort\u001b[0m\u001b[0;34m=\u001b[0m\u001b[0;34m'asc'\u001b[0m\u001b[0;34m,\u001b[0m \u001b[0minternal\u001b[0m\u001b[0;34m=\u001b[0m\u001b[0;32mTrue\u001b[0m\u001b[0;34m)\u001b[0m\u001b[0;34m\u001b[0m\u001b[0;34m\u001b[0m\u001b[0m\n\u001b[1;32m      4\u001b[0m \u001b[0;34m\u001b[0m\u001b[0m\n\u001b[0;32m----> 5\u001b[0;31m \u001b[0mget_all_trans\u001b[0m\u001b[0;34m(\u001b[0m\u001b[0maddress\u001b[0m\u001b[0;34m,\u001b[0m\u001b[0mkey\u001b[0m\u001b[0;34m)\u001b[0m             \u001b[0;31m#seemingly \"EmptyResponse\" error from original API\u001b[0m\u001b[0;34m\u001b[0m\u001b[0;34m\u001b[0m\u001b[0m\n\u001b[0m",
      "\u001b[0;32m<ipython-input-7-24ca1ea4cfa9>\u001b[0m in \u001b[0;36mget_all_trans\u001b[0;34m(address, key)\u001b[0m\n\u001b[1;32m      1\u001b[0m \u001b[0;32mdef\u001b[0m \u001b[0mget_all_trans\u001b[0m\u001b[0;34m(\u001b[0m\u001b[0maddress\u001b[0m\u001b[0;34m,\u001b[0m \u001b[0mkey\u001b[0m\u001b[0;34m)\u001b[0m\u001b[0;34m:\u001b[0m\u001b[0;34m\u001b[0m\u001b[0;34m\u001b[0m\u001b[0m\n\u001b[1;32m      2\u001b[0m     \u001b[0mapi\u001b[0m \u001b[0;34m=\u001b[0m \u001b[0maccounts\u001b[0m\u001b[0;34m.\u001b[0m\u001b[0mAccount\u001b[0m\u001b[0;34m(\u001b[0m\u001b[0maddress\u001b[0m\u001b[0;34m=\u001b[0m\u001b[0maddress\u001b[0m\u001b[0;34m,\u001b[0m \u001b[0mapi_key\u001b[0m\u001b[0;34m=\u001b[0m\u001b[0mkey\u001b[0m\u001b[0;34m)\u001b[0m\u001b[0;34m\u001b[0m\u001b[0;34m\u001b[0m\u001b[0m\n\u001b[0;32m----> 3\u001b[0;31m     \u001b[0mapi\u001b[0m\u001b[0;34m.\u001b[0m\u001b[0mget_all_transactions\u001b[0m\u001b[0;34m(\u001b[0m\u001b[0moffset\u001b[0m\u001b[0;34m=\u001b[0m\u001b[0;36m10000\u001b[0m\u001b[0;34m,\u001b[0m \u001b[0msort\u001b[0m\u001b[0;34m=\u001b[0m\u001b[0;34m'asc'\u001b[0m\u001b[0;34m,\u001b[0m \u001b[0minternal\u001b[0m\u001b[0;34m=\u001b[0m\u001b[0;32mTrue\u001b[0m\u001b[0;34m)\u001b[0m\u001b[0;34m\u001b[0m\u001b[0;34m\u001b[0m\u001b[0m\n\u001b[0m\u001b[1;32m      4\u001b[0m \u001b[0;34m\u001b[0m\u001b[0m\n\u001b[1;32m      5\u001b[0m \u001b[0mget_all_trans\u001b[0m\u001b[0;34m(\u001b[0m\u001b[0maddress\u001b[0m\u001b[0;34m,\u001b[0m\u001b[0mkey\u001b[0m\u001b[0;34m)\u001b[0m             \u001b[0;31m#seemingly \"EmptyResponse\" error from original API\u001b[0m\u001b[0;34m\u001b[0m\u001b[0;34m\u001b[0m\u001b[0m\n",
      "\u001b[0;32m/anaconda3/envs/cryptoalgowheel/lib/python3.7/site-packages/etherscan/accounts.py\u001b[0m in \u001b[0;36mget_all_transactions\u001b[0;34m(self, offset, sort, internal)\u001b[0m\n\u001b[1;32m     90\u001b[0m         \u001b[0;32mwhile\u001b[0m \u001b[0;32mTrue\u001b[0m\u001b[0;34m:\u001b[0m\u001b[0;34m\u001b[0m\u001b[0;34m\u001b[0m\u001b[0m\n\u001b[1;32m     91\u001b[0m             \u001b[0mself\u001b[0m\u001b[0;34m.\u001b[0m\u001b[0mbuild_url\u001b[0m\u001b[0;34m(\u001b[0m\u001b[0;34m)\u001b[0m\u001b[0;34m\u001b[0m\u001b[0;34m\u001b[0m\u001b[0m\n\u001b[0;32m---> 92\u001b[0;31m             \u001b[0mreq\u001b[0m \u001b[0;34m=\u001b[0m \u001b[0mself\u001b[0m\u001b[0;34m.\u001b[0m\u001b[0mconnect\u001b[0m\u001b[0;34m(\u001b[0m\u001b[0;34m)\u001b[0m\u001b[0;34m\u001b[0m\u001b[0;34m\u001b[0m\u001b[0m\n\u001b[0m\u001b[1;32m     93\u001b[0m             \u001b[0;32mif\u001b[0m \u001b[0;34m\"No transactions found\"\u001b[0m \u001b[0;32min\u001b[0m \u001b[0mreq\u001b[0m\u001b[0;34m[\u001b[0m\u001b[0;34m'message'\u001b[0m\u001b[0;34m]\u001b[0m\u001b[0;34m:\u001b[0m\u001b[0;34m\u001b[0m\u001b[0;34m\u001b[0m\u001b[0m\n\u001b[1;32m     94\u001b[0m                 print(\n",
      "\u001b[0;32m/anaconda3/envs/cryptoalgowheel/lib/python3.7/site-packages/etherscan/client.py\u001b[0m in \u001b[0;36mconnect\u001b[0;34m(self)\u001b[0m\n\u001b[1;32m    121\u001b[0m                     \u001b[0;32mreturn\u001b[0m \u001b[0mdata\u001b[0m\u001b[0;34m\u001b[0m\u001b[0;34m\u001b[0m\u001b[0m\n\u001b[1;32m    122\u001b[0m                 \u001b[0;32melse\u001b[0m\u001b[0;34m:\u001b[0m\u001b[0;34m\u001b[0m\u001b[0;34m\u001b[0m\u001b[0m\n\u001b[0;32m--> 123\u001b[0;31m                     \u001b[0;32mraise\u001b[0m \u001b[0mEmptyResponse\u001b[0m\u001b[0;34m(\u001b[0m\u001b[0mdata\u001b[0m\u001b[0;34m.\u001b[0m\u001b[0mget\u001b[0m\u001b[0;34m(\u001b[0m\u001b[0;34m'message'\u001b[0m\u001b[0;34m,\u001b[0m \u001b[0;34m'no message'\u001b[0m\u001b[0;34m)\u001b[0m\u001b[0;34m)\u001b[0m\u001b[0;34m\u001b[0m\u001b[0;34m\u001b[0m\u001b[0m\n\u001b[0m\u001b[1;32m    124\u001b[0m         raise BadRequest(\n\u001b[1;32m    125\u001b[0m             \"Problem with connection, status code: %s\" % req.status_code)\n",
      "\u001b[0;31mEmptyResponse\u001b[0m: <Err: No transactions found>"
     ]
    }
   ],
   "source": [
    "#!! Warning: seemingly \"EmptyResponse\" error from original API (in the case of \"no transactions\"?)\n",
    "\n",
    "def get_all_trans(address, key):\n",
    "    api = accounts.Account(address=address, api_key=key)\n",
    "    api.get_all_transactions(offset=10000, sort='asc', internal=True)\n",
    "\n",
    "get_all_trans(address,key)"
   ]
  },
  {
   "source": [
    "#### collect \"ERC20 Transactions\""
   ],
   "cell_type": "markdown",
   "metadata": {}
  },
  {
   "cell_type": "code",
   "execution_count": 8,
   "metadata": {},
   "outputs": [],
   "source": [
    "def get_ERC20_trans(address, key):\n",
    "    api = accounts.Account(address=address, api_key=key)\n",
    "    ERC20trans = api.get_transaction_page(erc20=True)\n",
    "    ERC20trans = pd.DataFrame(ERC20trans)\n",
    "    ERC20trans.timeStamp = ERC20trans.timeStamp.astype(\"int\").apply(lambda d: datetime.utcfromtimestamp(d).strftime(\"%Y/%m/%d %H:%M:%S UTC\"))\n",
    "    ERC20trans.rename(columns={\"timeStamp\":\"time\"}, inplace=True)\n",
    "    ERC20trans.to_csv(\"./ETC20_transactions.csv\", index=False)\n",
    "\n",
    "get_ERC20_trans(address,key)"
   ]
  },
  {
   "source": [
    "#### get a list of blocks mined by address"
   ],
   "cell_type": "markdown",
   "metadata": {}
  },
  {
   "cell_type": "code",
   "execution_count": 9,
   "metadata": {},
   "outputs": [],
   "source": [
    "def get_block_mine_page(address, key):\n",
    "    api = accounts.Account(address=address, api_key=key)\n",
    "    blocks = api.get_blocks_mined_page(page=1, offset=10)\n",
    "    blocks = pd.DataFrame(blocks)\n",
    "    blocks.timeStamp = blocks.timeStamp.astype(\"int\").apply(lambda d: datetime.utcfromtimestamp(d).strftime(\"%Y/%m/%d %H:%M:%S UTC\"))\n",
    "    blocks.rename(columns={\"timeStamp\":\"time\"}, inplace=True)\n",
    "    blocks.to_csv(\"./blocks_mined.csv\", index=False)\n",
    "\n",
    "get_block_mine_page(address,key)"
   ]
  },
  {
   "source": [
    "### multiple addresses"
   ],
   "cell_type": "markdown",
   "metadata": {}
  },
  {
   "cell_type": "code",
   "execution_count": 10,
   "metadata": {},
   "outputs": [],
   "source": [
    "addresses = ['0xbb9bc244d798123fde783fcc1c72d3bb8c189413', '0xddbd2b932c763ba5b1b7ae3b362eac3e8d40121a']"
   ]
  },
  {
   "source": [
    "#### get balanaces of multiple addresses"
   ],
   "cell_type": "markdown",
   "metadata": {}
  },
  {
   "cell_type": "code",
   "execution_count": 11,
   "metadata": {},
   "outputs": [],
   "source": [
    "def get_mul_account_bal(addresses, key):\n",
    "    api = accounts.Account(address=addresses, api_key=key)\n",
    "    mult_bal = pd.DataFrame(api.get_balance_multiple())\n",
    "    mult_bal.to_csv(\"./balances_multiple_account.csv\", index=False)\n",
    "\n",
    "get_mul_account_bal(addresses, key)"
   ]
  },
  {
   "cell_type": "code",
   "execution_count": null,
   "metadata": {},
   "outputs": [],
   "source": []
  }
 ]
}