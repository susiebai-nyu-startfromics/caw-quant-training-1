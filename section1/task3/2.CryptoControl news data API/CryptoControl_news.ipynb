{
 "metadata": {
  "language_info": {
   "codemirror_mode": {
    "name": "ipython",
    "version": 3
   },
   "file_extension": ".py",
   "mimetype": "text/x-python",
   "name": "python",
   "nbconvert_exporter": "python",
   "pygments_lexer": "ipython3",
   "version": "3.7.7-final"
  },
  "orig_nbformat": 2,
  "kernelspec": {
   "name": "python_defaultSpec_1600144270922",
   "display_name": "Python 3.7.7 64-bit ('cryptoalgowheel': conda)"
  }
 },
 "nbformat": 4,
 "nbformat_minor": 2,
 "cells": [
  {
   "cell_type": "code",
   "execution_count": 1,
   "metadata": {},
   "outputs": [],
   "source": [
    "# ***Important: still, need to install \"crypto-news-api\" package from PyPI first!\n",
    "\n",
    "# first, activate cryptoalgowheel conda environment\n",
    "# then: /anaconda3/envs/cryptoalgowheel/bin/pip install crypto-news-api"
   ]
  },
  {
   "cell_type": "code",
   "execution_count": 2,
   "metadata": {},
   "outputs": [],
   "source": [
    "from crypto_news_api import CryptoControlAPI\n",
    "\n",
    "import numpy as np\n",
    "import pandas as pd\n",
    "import json\n",
    "from datetime import datetime"
   ]
  },
  {
   "cell_type": "code",
   "execution_count": 3,
   "metadata": {},
   "outputs": [],
   "source": [
    "api = CryptoControlAPI(\"39b252536476db3482bab04acea666bc\")"
   ]
  },
  {
   "source": [
    "#### get top news (languages can be changed)"
   ],
   "cell_type": "markdown",
   "metadata": {}
  },
  {
   "cell_type": "code",
   "execution_count": 4,
   "metadata": {},
   "outputs": [],
   "source": [
    "def top_news(api, language=\"en\"):\n",
    "    topnews = api.getTopNews(language)\n",
    "    topnews = pd.DataFrame(topnews)\n",
    "    topnews.to_csv(\"./top_news.csv\", index=False)\n",
    "\n",
    "top_news(api)"
   ]
  },
  {
   "source": [
    "#### get latest news (languages can be changed)"
   ],
   "cell_type": "markdown",
   "metadata": {}
  },
  {
   "cell_type": "code",
   "execution_count": 5,
   "metadata": {},
   "outputs": [],
   "source": [
    "def latest_news(api, language=\"en\"):\n",
    "    latest_news = api.getLatestNews(language)\n",
    "    latest_news = pd.DataFrame(latest_news)\n",
    "    latest_news.to_csv(\"./latest_news.csv\", index=False)\n",
    "\n",
    "latest_news(api, \"ru\")"
   ]
  },
  {
   "source": [
    "#### get top news by category for \"en\" news (for \"en\" news currently 6 main categories: \"Analysis\", \"Blockchain\", \"Exchanges\", \"Government\", \"Mining & ICOs\" plus 1 \"general\" categories) (for all other languages than \"en\", all news classified as \"general\", so not focused here)\n"
   ],
   "cell_type": "markdown",
   "metadata": {}
  },
  {
   "cell_type": "code",
   "execution_count": 6,
   "metadata": {},
   "outputs": [],
   "source": [
    "def top_news_by_category(api, language=\"en\"):\n",
    "    topnews_by_cat = api.getTopNewsByCategory(language)\n",
    "    for k,v in topnews_by_cat.items():\n",
    "        current = pd.DataFrame(v)\n",
    "        current.to_csv(\"./top_news_\"+str(k)+\".csv\", index=False)\n",
    "\n",
    "top_news_by_category(api)\n",
    "top_news_by_category(api, \"jp\")"
   ]
  },
  {
   "source": [
    "#### get top news for a specific coin"
   ],
   "cell_type": "markdown",
   "metadata": {}
  },
  {
   "cell_type": "code",
   "execution_count": 7,
   "metadata": {},
   "outputs": [],
   "source": [
    "def top_news_by_coin(api, coin, language=\"en\"):\n",
    "    topnews_coin = api.getTopNewsByCoin(coin, language)\n",
    "    topnews_coin = pd.DataFrame(topnews_coin)\n",
    "    topnews_coin.to_csv(\"./top_news_\"+str(coin)+\".csv\", index=False)\n",
    "\n",
    "top_news_by_coin(api, \"bitcoin\")"
   ]
  },
  {
   "source": [
    "#### get top news for a specific coin"
   ],
   "cell_type": "markdown",
   "metadata": {}
  },
  {
   "cell_type": "code",
   "execution_count": 10,
   "metadata": {},
   "outputs": [],
   "source": [
    "def latest_news_by_coin(api, coin, language=\"en\"):\n",
    "    latest_news_coin = api.getLatestNewsByCoin(coin, language)\n",
    "    latest_news_coin = pd.DataFrame(latest_news_coin)\n",
    "    latest_news_coin.to_csv(\"./latest_news_\"+str(coin)+\".csv\", index=False)\n",
    "\n",
    "latest_news_by_coin(api, \"bitcoin\")"
   ]
  },
  {
   "source": [
    "#### get top reddit posts for a specific coin"
   ],
   "cell_type": "markdown",
   "metadata": {}
  },
  {
   "cell_type": "code",
   "execution_count": 11,
   "metadata": {},
   "outputs": [],
   "source": [
    "def top_reddit_by_coin(api, coin, language=\"en\"):\n",
    "    top_reddit_coin = api.getTopRedditPostsByCoin(coin, language)\n",
    "    top_reddit_coin = pd.DataFrame(top_reddit_coin)\n",
    "    top_reddit_coin.to_csv(\"./top_reddit_\"+str(coin)+\".csv\", index=False)\n",
    "\n",
    "top_reddit_by_coin(api, \"ripple\")"
   ]
  },
  {
   "source": [
    "#### get latest reddit posts for a specific coin"
   ],
   "cell_type": "markdown",
   "metadata": {}
  },
  {
   "cell_type": "code",
   "execution_count": 14,
   "metadata": {},
   "outputs": [],
   "source": [
    "def latest_reddit_by_coin(api, coin, language=\"en\"):\n",
    "    latest_reddit_coin = api.getLatestRedditPostsByCoin(coin, language)\n",
    "    latest_reddit_coin = pd.DataFrame(latest_reddit_coin)\n",
    "    latest_reddit_coin.to_csv(\"./latest_reddit_\"+str(coin)+\".csv\", index=False)\n",
    "\n",
    "latest_reddit_by_coin(api, \"ripple\")"
   ]
  },
  {
   "source": [
    "#### get top tweets for a specific coin"
   ],
   "cell_type": "markdown",
   "metadata": {}
  },
  {
   "cell_type": "code",
   "execution_count": 15,
   "metadata": {},
   "outputs": [],
   "source": [
    "def top_tweets_by_coin(api, coin, language=\"en\"):\n",
    "    top_tweets_coin = api.getTopTweetsByCoin(coin, language)\n",
    "    top_tweets_coin = pd.DataFrame(top_tweets_coin)\n",
    "    top_tweets_coin.to_csv(\"./top_tweets_\"+str(coin)+\".csv\", index=False)\n",
    "\n",
    "top_tweets_by_coin(api, \"eos\")"
   ]
  },
  {
   "source": [
    "#### get latest tweets for a specific coin"
   ],
   "cell_type": "markdown",
   "metadata": {}
  },
  {
   "cell_type": "code",
   "execution_count": 17,
   "metadata": {},
   "outputs": [],
   "source": [
    "def latest_tweets_by_coin(api, coin, language=\"en\"):\n",
    "    latest_tweets_coin = api.getLatestTweetsByCoin(coin, language)\n",
    "    latest_tweets_coin = pd.DataFrame(latest_tweets_coin)\n",
    "    latest_tweets_coin.to_csv(\"./latest_tweets_\"+str(coin)+\".csv\", index=False)\n",
    "\n",
    "latest_tweets_by_coin(api, \"eos\")"
   ]
  },
  {
   "source": [
    "#### get a top combined feed for a specific coin"
   ],
   "cell_type": "markdown",
   "metadata": {}
  },
  {
   "cell_type": "code",
   "execution_count": 19,
   "metadata": {},
   "outputs": [],
   "source": [
    "def top_feed_by_coin(api, coin, language=\"en\"):\n",
    "    top_feed_coin = api.getTopFeedByCoin(coin, language)\n",
    "    top_feed_coin = pd.DataFrame(top_feed_coin)\n",
    "    top_feed_coin.to_csv(\"./top_feed_\"+str(coin)+\".csv\", index=False)\n",
    "\n",
    "top_feed_by_coin(api, \"neo\")"
   ]
  },
  {
   "source": [
    "#### get a latest combined feed for a specific coin"
   ],
   "cell_type": "markdown",
   "metadata": {}
  },
  {
   "cell_type": "code",
   "execution_count": 20,
   "metadata": {},
   "outputs": [],
   "source": [
    "def latest_feed_by_coin(api, coin, language=\"en\"):\n",
    "    latest_feed_coin = api.getLatestFeedByCoin(coin, language)\n",
    "    latest_feed_coin = pd.DataFrame(latest_feed_coin)\n",
    "    latest_feed_coin.to_csv(\"./latest_feed_\"+str(coin)+\".csv\", index=False)\n",
    "\n",
    "latest_feed_by_coin(api, \"neo\")"
   ]
  },
  {
   "source": [
    "#### get top items - reddits/tweets/news_articles (separated) - for a specific coin"
   ],
   "cell_type": "markdown",
   "metadata": {}
  },
  {
   "cell_type": "code",
   "execution_count": 23,
   "metadata": {},
   "outputs": [],
   "source": [
    "def top_items_by_coin(api, coin, language=\"en\"):\n",
    "    top_items_coin = api.getTopItemsByCoin(coin, language)\n",
    "    top_items_coin = pd.DataFrame(top_items_coin)\n",
    "    top_items_coin.to_csv(\"./top_items_\"+str(coin)+\".csv\", index=False)\n",
    "\n",
    "top_items_by_coin(api, \"litecoin\")"
   ]
  },
  {
   "source": [
    "#### get latest items - reddits/tweets/news_articles (separated) - for a specific coin"
   ],
   "cell_type": "markdown",
   "metadata": {}
  },
  {
   "cell_type": "code",
   "execution_count": 24,
   "metadata": {},
   "outputs": [],
   "source": [
    "def latest_items_by_coin(api, coin, language=\"en\"):\n",
    "    latest_items_coin = api.getLatestItemsByCoin(coin, language)\n",
    "    latest_items_coin = pd.DataFrame(latest_items_coin)\n",
    "    latest_items_coin.to_csv(\"./latest_items_\"+str(coin)+\".csv\", index=False)\n",
    "\n",
    "latest_items_by_coin(api, \"litecoin\")"
   ]
  },
  {
   "source": [
    "#### get all details about a specific coin (links, description, subreddits, twitter etc.)"
   ],
   "cell_type": "markdown",
   "metadata": {}
  },
  {
   "cell_type": "code",
   "execution_count": 26,
   "metadata": {
    "tags": []
   },
   "outputs": [
    {
     "output_type": "stream",
     "name": "stdout",
     "text": "Description: Ethereum is a decentralized platform for applications that run exactly as programmed without any chance of fraud, censorship or third-party interference.\nGitrepos: []\nUseful extra links:\n"
    },
    {
     "output_type": "display_data",
     "data": {
      "text/plain": "                        _id     type                    name  \\\n0  5cbb5ea9e9864a16dac61a59   reddit         Ethereum Reddit   \n1  5cbb5ea9e9864a16dac61a58  website           Ethereum Blog   \n2  5cbb5ea9e9864a16dac61a57   reddit      r/ethtrader Reddit   \n3  5cbb5ea9e9864a16dac61a56  twitter  Co-founder of Ethereum   \n4  5cbb5ea9e9864a16dac61a55  twitter        Ethereum Twitter   \n\n                                  link  \n0   https://www.reddit.com/r/ethereum/  \n1           https://blog.ethereum.org/  \n2  https://www.reddit.com/r/ethtrader/  \n3   https://twitter.com/vitalikbuterin  \n4         https://twitter.com/ethereum  ",
      "text/html": "<div>\n<style scoped>\n    .dataframe tbody tr th:only-of-type {\n        vertical-align: middle;\n    }\n\n    .dataframe tbody tr th {\n        vertical-align: top;\n    }\n\n    .dataframe thead th {\n        text-align: right;\n    }\n</style>\n<table border=\"1\" class=\"dataframe\">\n  <thead>\n    <tr style=\"text-align: right;\">\n      <th></th>\n      <th>_id</th>\n      <th>type</th>\n      <th>name</th>\n      <th>link</th>\n    </tr>\n  </thead>\n  <tbody>\n    <tr>\n      <th>0</th>\n      <td>5cbb5ea9e9864a16dac61a59</td>\n      <td>reddit</td>\n      <td>Ethereum Reddit</td>\n      <td>https://www.reddit.com/r/ethereum/</td>\n    </tr>\n    <tr>\n      <th>1</th>\n      <td>5cbb5ea9e9864a16dac61a58</td>\n      <td>website</td>\n      <td>Ethereum Blog</td>\n      <td>https://blog.ethereum.org/</td>\n    </tr>\n    <tr>\n      <th>2</th>\n      <td>5cbb5ea9e9864a16dac61a57</td>\n      <td>reddit</td>\n      <td>r/ethtrader Reddit</td>\n      <td>https://www.reddit.com/r/ethtrader/</td>\n    </tr>\n    <tr>\n      <th>3</th>\n      <td>5cbb5ea9e9864a16dac61a56</td>\n      <td>twitter</td>\n      <td>Co-founder of Ethereum</td>\n      <td>https://twitter.com/vitalikbuterin</td>\n    </tr>\n    <tr>\n      <th>4</th>\n      <td>5cbb5ea9e9864a16dac61a55</td>\n      <td>twitter</td>\n      <td>Ethereum Twitter</td>\n      <td>https://twitter.com/ethereum</td>\n    </tr>\n  </tbody>\n</table>\n</div>"
     },
     "metadata": {}
    },
    {
     "output_type": "stream",
     "name": "stdout",
     "text": "Subreddits: ['ethereum', 'ethtrader']\nTwitterUsernames: ['vitalikbuterin', 'ethereum']\n"
    }
   ],
   "source": [
    "def coin_details(api, coin):\n",
    "    coin_details = api.getCoinDetails(coin)\n",
    "    print(\"Description:\", coin_details[\"description\"])\n",
    "    print(\"Gitrepos:\", coin_details[\"gitrepos\"])\n",
    "    print(\"Useful extra links:\")\n",
    "    display(pd.DataFrame(coin_details[\"links\"]))\n",
    "    print(\"Subreddits:\", coin_details[\"subreddits\"])\n",
    "    print(\"TwitterUsernames:\", coin_details[\"twitterUsernames\"])\n",
    "\n",
    "coin_details(api, \"ethereum\")"
   ]
  },
  {
   "cell_type": "code",
   "execution_count": null,
   "metadata": {},
   "outputs": [],
   "source": []
  }
 ]
}