{
 "metadata": {
  "language_info": {
   "codemirror_mode": {
    "name": "ipython",
    "version": 3
   },
   "file_extension": ".py",
   "mimetype": "text/x-python",
   "name": "python",
   "nbconvert_exporter": "python",
   "pygments_lexer": "ipython3",
   "version": "3.7.7-final"
  },
  "orig_nbformat": 2,
  "kernelspec": {
   "name": "python_defaultSpec_1599415733373",
   "display_name": "Python 3.7.7 64-bit ('cryptoalgowheel': conda)"
  }
 },
 "nbformat": 4,
 "nbformat_minor": 2,
 "cells": [
  {
   "cell_type": "code",
   "execution_count": 1,
   "metadata": {},
   "outputs": [],
   "source": [
    "# ***IMPORTANT!:\n",
    "# first install python-binance package (using \"pip\") into this anaconda environment:\n",
    "\n",
    "# conda activate cryptoalgowheel\n",
    "# /anaconda3/envs/cryptoalgowheel/bin/pip install python-binance"
   ]
  },
  {
   "cell_type": "code",
   "execution_count": 2,
   "metadata": {},
   "outputs": [],
   "source": [
    "import numpy as np\n",
    "import pandas as pd\n",
    "from datetime import datetime\n",
    "from dateutil.tz import tzutc\n",
    "import dateparser   #important datetime-related package used in \"python-binance\" SDK: https://dateparser.readthedocs.io/en/latest/ "
   ]
  },
  {
   "cell_type": "code",
   "execution_count": 3,
   "metadata": {},
   "outputs": [],
   "source": [
    "from binance.client import Client\n",
    "client = Client()"
   ]
  },
  {
   "cell_type": "code",
   "execution_count": 5,
   "metadata": {},
   "outputs": [],
   "source": [
    "# client.get_order_book(symbol=\"BNBBTC\")[\"bids\"]"
   ]
  },
  {
   "cell_type": "code",
   "execution_count": 6,
   "metadata": {},
   "outputs": [
    {
     "output_type": "execute_result",
     "data": {
      "text/plain": ",\n {'symbol': 'WINBNB', 'price': '0.00000479'},\n {'symbol': 'WINBTC', 'price': '0.00000001'},\n {'symbol': 'WINUSDT', 'price': '0.00010970'},\n {'symbol': 'WINUSDC', 'price': '0.00010990'},\n {'symbol': 'COSBNB', 'price': '0.00031900'},\n {'symbol': 'COSBTC', 'price': '0.00000072'},\n {'symbol': 'COSUSDT', 'price': '0.00730000'},\n {'symbol': 'TUSDBTUSD', 'price': '0.99750000'},\n {'symbol': 'NPXSUSDT', 'price': '0.00015120'},\n {'symbol': 'NPXSUSDC', 'price': '0.00017020'},\n {'symbol': 'COCOSBNB', 'price': '0.00001340'},\n {'symbol': 'COCOSBTC', 'price': '0.00000003'},\n {'symbol': 'COCOSUSDT', 'price': '0.00030700'},\n {'symbol': 'MTLUSDT', 'price': '0.30070000'},\n {'symbol': 'TOMOBNB', 'price': '0.02900000'},\n {'symbol': 'TOMOBTC', 'price': '0.00006500'},\n {'symbol': 'TOMOUSDT', 'price': '0.66660000'},\n {'symbol': 'TOMOUSDC', 'price': '0.36700000'},\n {'symbol': 'PERLBNB', 'price': '0.00137000'},\n {'symbol': 'PERLBTC', 'price': '0.00000307'},\n {'symbol': 'PERLUSDC', 'price': '0.02447000'},\n {'symbol': 'PERLUSDT', 'price': '0.03130000'},\n {'symbol': 'DENTUSDT', 'price': '0.00022480'},\n {'symbol': 'MFTUSDT', 'price': '0.00203300'},\n {'symbol': 'KEYUSDT', 'price': '0.00330000'},\n {'symbol': 'STORMUSDT', 'price': '0.00339700'},\n {'symbol': 'DOCKUSDT', 'price': '0.01755100'},\n {'symbol': 'WANUSDT', 'price': '0.35460000'},\n {'symbol': 'FUNUSDT', 'price': '0.00365900'},\n {'symbol': 'CVCUSDT', 'price': '0.02980000'},\n {'symbol': 'BTTTRX', 'price': '0.01092000'},\n {'symbol': 'WINTRX', 'price': '0.00347000'},\n {'symbol': 'CHZBNB', 'price': '0.00048020'},\n {'symbol': 'CHZBTC', 'price': '0.00000108'},\n {'symbol': 'CHZUSDT', 'price': '0.01106000'},\n {'symbol': 'BANDBNB', 'price': '0.41500000'},\n {'symbol': 'BANDBTC', 'price': '0.00092585'},\n {'symbol': 'BANDUSDT', 'price': '9.50090000'},\n {'symbol': 'BNBBUSD', 'price': '22.91680000'},\n {'symbol': 'BTCBUSD', 'price': '10257.54000000'},\n {'symbol': 'BUSDUSDT', 'price': '1.00000000'},\n {'symbol': 'BEAMBNB', 'price': '0.02177000'},\n {'symbol': 'BEAMBTC', 'price': '0.00003200'},\n {'symbol': 'BEAMUSDT', 'price': '0.32850000'},\n {'symbol': 'XTZBNB', 'price': '0.11048000'},\n {'symbol': 'XTZBTC', 'price': '0.00024740'},\n {'symbol': 'XTZUSDT', 'price': '2.53700000'},\n {'symbol': 'RENUSDT', 'price': '0.30568000'},\n {'symbol': 'RVNUSDT', 'price': '0.01720000'},\n {'symbol': 'HCUSDT', 'price': '1.27720000'},\n {'symbol': 'HBARBNB', 'price': '0.00159000'},\n {'symbol': 'HBARBTC', 'price': '0.00000357'},\n {'symbol': 'HBARUSDT', 'price': '0.03673000'},\n {'symbol': 'NKNBNB', 'price': '0.00085200'},\n {'symbol': 'NKNBTC', 'price': '0.00000192'},\n {'symbol': 'NKNUSDT', 'price': '0.01959000'},\n {'symbol': 'XRPBUSD', 'price': '0.24150000'},\n {'symbol': 'ETHBUSD', 'price': '353.74000000'},\n {'symbol': 'BCHABCBUSD', 'price': '220.16000000'},\n {'symbol': 'LTCBUSD', 'price': '48.17000000'},\n {'symbol': 'LINKBUSD', 'price': '12.71360000'},\n {'symbol': 'ETCBUSD', 'price': '5.16190000'},\n {'symbol': 'STXBNB', 'price': '0.00846000'},\n {'symbol': 'STXBTC', 'price': '0.00001889'},\n {'symbol': 'STXUSDT', 'price': '0.19330000'},\n {'symbol': 'KAVABNB', 'price': '0.10607000'},\n {'symbol': 'KAVABTC', 'price': '0.00023622'},\n {'symbol': 'KAVAUSDT', 'price': '2.42440000'},\n {'symbol': 'BUSDNGN', 'price': '438.97000000'},\n {'symbol': 'BNBNGN', 'price': '10057.00000000'},\n {'symbol': 'BTCNGN', 'price': '4504162.00000000'},\n {'symbol': 'ARPABNB', 'price': '0.00182300'},\n {'symbol': 'ARPABTC', 'price': '0.00000405'},\n {'symbol': 'ARPAUSDT', 'price': '0.04148000'},\n {'symbol': 'TRXBUSD', 'price': '0.03164000'},\n {'symbol': 'EOSBUSD', 'price': '2.91360000'},\n {'symbol': 'IOTXUSDT', 'price': '0.00872400'},\n {'symbol': 'RLCUSDT', 'price': '0.98760000'},\n {'symbol': 'MCOUSDT', 'price': '4.23900000'},\n {'symbol': 'XLMBUSD', 'price': '0.07819000'},\n {'symbol': 'ADABUSD', 'price': '0.09283000'},\n {'symbol': 'CTXCBNB', 'price': '0.00412200'},\n {'symbol': 'CTXCBTC', 'price': '0.00000991'},\n {'symbol': 'CTXCUSDT', 'price': '0.10150000'},\n {'symbol': 'BCHBNB', 'price': '9.94300000'},\n {'symbol': 'BCHBTC', 'price': '0.02219700'},\n {'symbol': 'BCHUSDT', 'price': '227.76000000'},\n {'symbol': 'BCHUSDC', 'price': '228.16000000'},\n {'symbol': 'BCHTUSD', 'price': '227.74000000'},\n {'symbol': 'BCHPAX', 'price': '228.93000000'},\n {'symbol': 'BCHBUSD', 'price': '227.77000000'},\n {'symbol': 'BTCRUB', 'price': '793521.00000000'},\n {'symbol': 'ETHRUB', 'price': '27331.70000000'},\n {'symbol': 'XRPRUB', 'price': '18.67700000'},\n {'symbol': 'BNBRUB', 'price': '1766.42000000'},\n {'symbol': 'TROYBNB', 'price': '0.00017180'},\n {'symbol': 'TROYBTC', 'price': '0.00000038'},\n {'symbol': 'TROYUSDT', 'price': '0.00394630'},\n {'symbol': 'BUSDRUB', 'price': '77.00500000'},\n {'symbol': 'QTUMBUSD', 'price': '2.44400000'},\n {'symbol': 'VETBUSD', 'price': '0.01240200'},\n {'symbol': 'VITEBNB', 'price': '0.00070700'},\n {'symbol': 'VITEBTC', 'price': '0.00000183'},\n {'symbol': 'VITEUSDT', 'price': '0.01863000'},\n {'symbol': 'FTTBNB', 'price': '0.16010000'},\n {'symbol': 'FTTBTC', 'price': '0.00035650'},\n {'symbol': 'FTTUSDT', 'price': '3.66100000'},\n {'symbol': 'BTCTRY', 'price': '78236.00000000'},\n {'symbol': 'BNBTRY', 'price': '175.00000000'},\n {'symbol': 'BUSDTRY', 'price': '7.62700000'},\n {'symbol': 'ETHTRY', 'price': '2702.16000000'},\n {'symbol': 'XRPTRY', 'price': '1.85400000'},\n {'symbol': 'USDTTRY', 'price': '7.62600000'},\n {'symbol': 'USDTRUB', 'price': '77.11900000'},\n {'symbol': 'BTCEUR', 'price': '8713.44000000'},\n {'symbol': 'ETHEUR', 'price': '300.94000000'},\n {'symbol': 'BNBEUR', 'price': '19.44900000'},\n {'symbol': 'XRPEUR', 'price': '0.20504000'},\n {'symbol': 'EURBUSD', 'price': '1.17780000'},\n {'symbol': 'EURUSDT', 'price': '1.17740000'},\n {'symbol': 'OGNBNB', 'price': '0.01163000'},\n {'symbol': 'OGNBTC', 'price': '0.00002625'},\n {'symbol': 'OGNUSDT', 'price': '0.26890000'},\n {'symbol': 'DREPBNB', 'price': '0.00009380'},\n {'symbol': 'DREPBTC', 'price': '0.00000025'},\n {'symbol': 'DREPUSDT', 'price': '0.00250300'},\n {'symbol': 'BULLUSDT', 'price': '1370.28000000'},\n {'symbol': 'BULLBUSD', 'price': '1368.56000000'},\n {'symbol': 'BEARUSDT', 'price': '11.16000000'},\n {'symbol': 'BEARBUSD', 'price': '11.14000000'},\n {'symbol': 'ETHBULLUSDT', 'price': '79.18000000'},\n {'symbol': 'ETHBULLBUSD', 'price': '78.46000000'},\n {'symbol': 'ETHBEARUSDT', 'price': '12.20000000'},\n {'symbol': 'ETHBEARBUSD', 'price': '12.24000000'},\n {'symbol': 'TCTBNB', 'price': '0.00041860'},\n {'symbol': 'TCTBTC', 'price': '0.00000137'},\n {'symbol': 'TCTUSDT', 'price': '0.01417600'},\n {'symbol': 'WRXBNB', 'price': '0.00452000'},\n {'symbol': 'WRXBTC', 'price': '0.00001011'},\n {'symbol': 'WRXUSDT', 'price': '0.10373000'},\n {'symbol': 'ICXBUSD', 'price': '0.44210000'},\n {'symbol': 'BTSUSDT', 'price': '0.04996000'},\n {'symbol': 'BTSBUSD', 'price': '0.05063000'},\n {'symbol': 'LSKUSDT', 'price': '1.41620000'},\n {'symbol': 'BNTUSDT', 'price': '1.20910000'},\n {'symbol': 'BNTBUSD', 'price': '1.20080000'},\n {'symbol': 'LTOBNB', 'price': '0.00248000'},\n {'symbol': 'LTOBTC', 'price': '0.00001028'},\n {'symbol': 'LTOUSDT', 'price': '0.10534000'},\n {'symbol': 'ATOMBUSD', 'price': '5.15000000'},\n {'symbol': 'DASHBUSD', 'price': '70.32000000'},\n {'symbol': 'NEOBUSD', 'price': '17.17000000'},\n {'symbol': 'WAVESBUSD', 'price': '2.46610000'},\n {'symbol': 'XTZBUSD', 'price': '2.53510000'},\n {'symbol': 'EOSBULLUSDT', 'price': '3.85000000'},\n {'symbol': 'EOSBULLBUSD', 'price': '3.90000000'},\n {'symbol': 'EOSBEARUSDT', 'price': '30.21000000'},\n {'symbol': 'EOSBEARBUSD', 'price': '29.81000000'},\n {'symbol': 'XRPBULLUSDT', 'price': '8.74000000'},\n {'symbol': 'XRPBULLBUSD', 'price': '8.78000000'},\n {'symbol': 'XRPBEARUSDT', 'price': '548.55000000'},\n {'symbol': 'XRPBEARBUSD', 'price': '547.33000000'},\n {'symbol': 'BATBUSD', 'price': '0.25850000'},\n {'symbol': 'ENJBUSD', 'price': '0.16023000'},\n {'symbol': 'NANOBUSD', 'price': '0.84830000'},\n {'symbol': 'ONTBUSD', 'price': '0.64630000'},\n {'symbol': 'RVNBUSD', 'price': '0.01724000'},\n {'symbol': 'STRATBUSD', 'price': '0.46860000'},\n {'symbol': 'STRATBNB', 'price': '0.01900000'},\n {'symbol': 'STRATUSDT', 'price': '0.46560000'},\n {'symbol': 'AIONBUSD', 'price': '0.09650000'},\n {'symbol': 'AIONUSDT', 'price': '0.09610000'},\n {'symbol': 'MBLBNB', 'price': '0.00006710'},\n {'symbol': 'MBLBTC', 'price': '0.00000015'},\n {'symbol': 'MBLUSDT', 'price': '0.00153400'},\n {'symbol': 'COTIBNB', 'price': '0.00238200'},\n {'symbol': 'COTIBTC', 'price': '0.00000532'},\n {'symbol': 'COTIUSDT', 'price': '0.05454000'},\n {'symbol': 'ALGOBUSD', 'price': '0.37370000'},\n {'symbol': 'BTTBUSD', 'price': '0.00034640'},\n {'symbol': 'TOMOBUSD', 'price': '0.66750000'},\n {'symbol': 'XMRBUSD', 'price': '80.31000000'},\n {'symbol': 'ZECBUSD', 'price': '58.74000000'},\n {'symbol': 'BNBBULLUSDT', 'price': '57.21000000'},\n {'symbol': 'BNBBULLBUSD', 'price': '58.37000000'},\n {'symbol': 'BNBBEARUSDT', 'price': '58.61000000'},\n {'symbol': 'BNBBEARBUSD', 'price': '57.21000000'},\n {'symbol': 'STPTBNB', 'price': '0.00067000'},\n {'symbol': 'STPTBTC', 'price': '0.00000186'},\n {'symbol': 'STPTUSDT', 'price': '0.01896000'},\n {'symbol': 'BTCZAR', 'price': '179863.00000000'},\n {'symbol': 'ETHZAR', 'price': '6229.80000000'},\n {'symbol': 'BNBZAR', 'price': '400.99000000'},\n {'symbol': 'USDTZAR', 'price': '17.50000000'},\n {'symbol': 'BUSDZAR', 'price': '17.51300000'},\n {'symbol': 'BTCBKRW', 'price': '12366252.00000000'},\n {'symbol': 'ETHBKRW', 'price': '426301.00000000'},\n {'symbol': 'BNBBKRW', 'price': '27595.00000000'},\n {'symbol': 'WTCUSDT', 'price': '0.48360000'},\n {'symbol': 'DATABUSD', 'price': '0.04247000'},\n {'symbol': 'DATAUSDT', 'price': '0.04297000'},\n {'symbol': 'XZCUSDT', 'price': '4.66400000'},\n {'symbol': 'SOLBNB', 'price': '0.13724000'},\n {'symbol': 'SOLBTC', 'price': '0.00030562'},\n {'symbol': 'SOLUSDT', 'price': '3.13240000'},\n {'symbol': 'SOLBUSD', 'price': '3.14270000'},\n {'symbol': 'BTCIDRT', 'price': '153857060.00'},\n {'symbol': 'BNBIDRT', 'price': '343525.00'},\n {'symbol': 'USDTIDRT', 'price': '14944.00'},\n {'symbol': 'BUSDIDRT', 'price': '14874.00'},\n {'symbol': 'CTSIBTC', 'price': '0.00000468'},\n {'symbol': 'CTSIUSDT', 'price': '0.04783000'},\n {'symbol': 'CTSIBNB', 'price': '0.00208600'},\n {'symbol': 'CTSIBUSD', 'price': '0.04801000'},\n {'symbol': 'HIVEBNB', 'price': '0.00772000'},\n {'symbol': 'HIVEBTC', 'price': '0.00001712'},\n {'symbol': 'HIVEUSDT', 'price': '0.17610000'},\n {'symbol': 'CHRBNB', 'price': '0.00215800'},\n {'symbol': 'CHRBTC', 'price': '0.00000490'},\n {'symbol': 'CHRUSDT', 'price': '0.05035000'},\n {'symbol': 'BTCUPUSDT', 'price': '9.66000000'},\n {'symbol': 'BTCDOWNUSDT', 'price': '7.27300000'},\n {'symbol': 'GXSUSDT', 'price': '0.58060000'},\n {'symbol': 'ARDRUSDT', 'price': '0.05714000'},\n {'symbol': 'ERDBUSD', 'price': '0.01966100'},\n {'symbol': 'LENDUSDT', 'price': '0.57908000'},\n {'symbol': 'HBARBUSD', 'price': '0.03681000'},\n {'symbol': 'MATICBUSD', 'price': '0.01882000'},\n {'symbol': 'WRXBUSD', 'price': '0.10423000'},\n {'symbol': 'ZILBUSD', 'price': '0.01569000'},\n {'symbol': 'MDTBNB', 'price': '0.00056390'},\n {'symbol': 'MDTBTC', 'price': '0.00000126'},\n {'symbol': 'MDTUSDT', 'price': '0.01295000'},\n {'symbol': 'STMXBNB', 'price': '0.00009350'},\n {'symbol': 'STMXBTC', 'price': '0.00000021'},\n {'symbol': 'STMXETH', 'price': '0.00000611'},\n {'symbol': 'STMXUSDT', 'price': '0.00216200'},\n {'symbol': 'KNCBUSD', 'price': '1.30500000'},\n {'symbol': 'KNCUSDT', 'price': '1.29200000'},\n {'symbol': 'REPBUSD', 'price': '16.07800000'},\n {'symbol': 'REPUSDT', 'price': '16.07800000'},\n {'symbol': 'LRCBUSD', 'price': '0.18359000'},\n {'symbol': 'LRCUSDT', 'price': '0.18414000'},\n {'symbol': 'IQBNB', 'price': '0.00008150'},\n {'symbol': 'IQBUSD', 'price': '0.00188900'},\n {'symbol': 'PNTBTC', 'price': '0.00005745'},\n {'symbol': 'PNTUSDT', 'price': '0.59330000'},\n {'symbol': 'BTCGBP', 'price': '7783.94000000'},\n {'symbol': 'ETHGBP', 'price': '268.02000000'},\n {'symbol': 'XRPGBP', 'price': '0.18316000'},\n {'symbol': 'BNBGBP', 'price': '17.37900000'},\n {'symbol': 'GBPBUSD', 'price': '1.31860000'},\n {'symbol': 'DGBBNB', 'price': '0.00096800'},\n {'symbol': 'DGBBTC', 'price': '0.00000216'},\n {'symbol': 'DGBBUSD', 'price': '0.02218000'},\n {'symbol': 'BTCUAH', 'price': '287035.00000000'},\n {'symbol': 'USDTUAH', 'price': '27.92800000'},\n {'symbol': 'COMPBTC', 'price': '0.01696700'},\n {'symbol': 'COMPBNB', 'price': '7.58300000'},\n {'symbol': 'COMPBUSD', 'price': '174.35000000'},\n {'symbol': 'COMPUSDT', 'price': '174.03000000'},\n {'symbol': 'BTCBIDR', 'price': '152886880.00'},\n {'symbol': 'ETHBIDR', 'price': '5313936.00'},\n {'symbol': 'BNBBIDR', 'price': '340820.00'},\n {'symbol': 'BUSDBIDR', 'price': '14881.00'},\n {'symbol': 'USDTBIDR', 'price': '14892.00'},\n {'symbol': 'BKRWUSDT', 'price': '0.00084530'},\n {'symbol': 'BKRWBUSD', 'price': '0.00084550'},\n {'symbol': 'SCUSDT', 'price': '0.00335800'},\n {'symbol': 'ZENUSDT', 'price': '6.38800000'},\n {'symbol': 'SXPBTC', 'price': '0.00017619'},\n {'symbol': 'SXPBNB', 'price': '0.07881000'},\n {'symbol': 'SXPBUSD', 'price': '1.80420000'},\n {'symbol': 'SNXBTC', 'price': '0.00048840'},\n {'symbol': 'SNXBNB', 'price': '0.21910000'},\n {'symbol': 'SNXBUSD', 'price': '5.01200000'},\n {'symbol': 'SNXUSDT', 'price': '5.00500000'},\n {'symbol': 'ETHUPUSDT', 'price': '18.11800000'},\n {'symbol': 'ETHDOWNUSDT', 'price': '2.76900000'},\n {'symbol': 'ADAUPUSDT', 'price': '3.54100000'},\n {'symbol': 'ADADOWNUSDT', 'price': '11.85200000'},\n {'symbol': 'LINKUPUSDT', 'price': '15.18400000'},\n {'symbol': 'LINKDOWNUSDT', 'price': '0.43200000'},\n {'symbol': 'VTHOBNB', 'price': '0.00004002'},\n {'symbol': 'VTHOBUSD', 'price': '0.00092300'},\n {'symbol': 'VTHOUSDT', 'price': '0.00092900'},\n {'symbol': 'DCRBUSD', 'price': '13.52100000'},\n {'symbol': 'DGBUSDT', 'price': '0.02211000'},\n {'symbol': 'GBPUSDT', 'price': '1.31800000'},\n {'symbol': 'STORJBUSD', 'price': '0.52050000'},\n {'symbol': 'SXPUSDT', 'price': '1.80500000'},\n {'symbol': 'IRISBNB', 'price': '0.00300300'},\n {'symbol': 'IRISBTC', 'price': '0.00000671'},\n {'symbol': 'IRISBUSD', 'price': '0.06890000'},\n {'symbol': 'MKRBNB', 'price': '23.81700000'},\n {'symbol': 'MKRBTC', 'price': '0.05314800'},\n {'symbol': 'MKRUSDT', 'price': '545.44000000'},\n {'symbol': 'MKRBUSD', 'price': '544.84000000'},\n {'symbol': 'DAIBNB', 'price': '0.04876000'},\n {'symbol': 'DAIBTC', 'price': '0.00008966'},\n {'symbol': 'DAIUSDT', 'price': '1.01890000'},\n {'symbol': 'DAIBUSD', 'price': '1.01810000'},\n {'symbol': 'RUNEBNB', 'price': '0.03411000'},\n {'symbol': 'RUNEBTC', 'price': '0.00007634'},\n {'symbol': 'RUNEBUSD', 'price': '0.78120000'},\n {'symbol': 'MANABUSD', 'price': '0.07998000'},\n {'symbol': 'DOGEBUSD', 'price': '0.00279000'},\n {'symbol': 'LENDBUSD', 'price': '0.57940000'},\n {'symbol': 'ZRXBUSD', 'price': '0.46420000'},\n {'symbol': 'DCRUSDT', 'price': '13.67300000'},\n {'symbol': 'STORJUSDT', 'price': '0.52800000'},\n {'symbol': 'XRPBKRW', 'price': '291.60000000'},\n {'symbol': 'ADABKRW', 'price': '112.41000000'},\n {'symbol': 'BTCAUD', 'price': '14345.22000000'},\n {'symbol': 'ETHAUD', 'price': '496.00000000'},\n {'symbol': 'AUDBUSD', 'price': '0.71803000'},\n {'symbol': 'FIOBNB', 'price': '0.00700000'},\n {'symbol': 'FIOBTC', 'price': '0.00001558'},\n {'symbol': 'FIOBUSD', 'price': '0.16070000'},\n {'symbol': 'BNBUPUSDT', 'price': '8.67700000'},\n {'symbol': 'BNBDOWNUSDT', 'price': '7.50100000'},\n {'symbol': 'XTZUPUSDT', 'price': '4.81200000'},\n {'symbol': 'XTZDOWNUSDT', 'price': '7.92700000'},\n {'symbol': 'AVABNB', 'price': '0.03780000'},\n {'symbol': 'AVABTC', 'price': '0.00008490'},\n {'symbol': 'AVABUSD', 'price': '0.87320000'},\n {'symbol': 'USDTBKRW', 'price': '1204.47000000'},\n {'symbol': 'BUSDBKRW', 'price': '1204.90000000'},\n {'symbol': 'IOTABUSD', 'price': '0.28770000'},\n {'symbol': 'MANAUSDT', 'price': '0.07964000'},\n {'symbol': 'XRPAUD', 'price': '0.33812000'},\n {'symbol': 'BNBAUD', 'price': '31.99400000'},\n {'symbol': 'AUDUSDT', 'price': '0.71572000'},\n {'symbol': 'BALBNB', 'price': '0.91620000'},\n {'symbol': 'BALBTC', 'price': '0.00204840'},\n {'symbol': 'BALBUSD', 'price': '21.18400000'},\n {'symbol': 'YFIBNB', 'price': '1037.47000000'},\n {'symbol': 'YFIBTC', 'price': '2.33171000'},\n {'symbol': 'YFIBUSD', 'price': '23810.39000000'},\n {'symbol': 'YFIUSDT', 'price': '23888.55000000'},\n {'symbol': 'BLZBUSD', 'price': '0.13068000'},\n {'symbol': 'KMDBUSD', 'price': '0.62550000'},\n {'symbol': 'BALUSDT', 'price': '21.03000000'},\n {'symbol': 'BLZUSDT', 'price': '0.13369000'},\n {'symbol': 'IRISUSDT', 'price': '0.06891000'},\n {'symbol': 'KMDUSDT', 'price': '0.62290000'},\n {'symbol': 'BTCDAI', 'price': '10064.98000000'},\n {'symbol': 'ETHDAI', 'price': '347.72000000'},\n {'symbol': 'BNBDAI', 'price': '22.48800000'},\n {'symbol': 'USDTDAI', 'price': '0.98160000'},\n {'symbol': 'BUSDDAI', 'price': '0.98110000'},\n {'symbol': 'JSTBNB', 'price': '0.00174300'},\n {'symbol': 'JSTBTC', 'price': '0.00000390'},\n {'symbol': 'JSTBUSD', 'price': '0.04004000'},\n {'symbol': 'JSTUSDT', 'price': '0.03998000'},\n {'symbol': 'SRMBNB', 'price': '0.11602200'},\n {'symbol': 'SRMBTC', 'price': '0.00026000'},\n {'symbol': 'SRMBUSD', 'price': '2.68020000'},\n {'symbol': 'SRMUSDT', 'price': '2.66430000'},\n {'symbol': 'ANTBNB', 'price': '0.20910000'},\n {'symbol': 'ANTBTC', 'price': '0.00046660'},\n {'symbol': 'ANTBUSD', 'price': '4.77030000'},\n {'symbol': 'ANTUSDT', 'price': '4.77690000'},\n {'symbol': 'CRVBNB', 'price': '0.09560000'},\n {'symbol': 'CRVBTC', 'price': '0.00021420'},\n {'symbol': 'CRVBUSD', 'price': '2.20400000'},\n {'symbol': 'CRVUSDT', 'price': '2.20400000'},\n {'symbol': 'SANDBNB', 'price': '0.00177990'},\n {'symbol': 'SANDBTC', 'price': '0.00000397'},\n {'symbol': 'SANDUSDT', 'price': '0.04082000'},\n {'symbol': 'SANDBUSD', 'price': '0.04030200'},\n {'symbol': 'OCEANBNB', 'price': '0.01798000'},\n {'symbol': 'OCEANBTC', 'price': '0.00004023'},\n {'symbol': 'OCEANBUSD', 'price': '0.41460000'},\n {'symbol': 'OCEANUSDT', 'price': '0.41220000'},\n {'symbol': 'NMRBNB', 'price': '1.71090000'},\n {'symbol': 'NMRBTC', 'price': '0.00381800'},\n {'symbol': 'NMRBUSD', 'price': '39.16200000'},\n {'symbol': 'NMRUSDT', 'price': '39.17000000'},\n {'symbol': 'DOTBNB', 'price': '0.20666000'},\n {'symbol': 'DOTBTC', 'price': '0.00046049'},\n {'symbol': 'DOTBUSD', 'price': '4.73210000'},\n {'symbol': 'DOTUSDT', 'price': '4.71810000'},\n {'symbol': 'LUNABNB', 'price': '0.01455000'},\n {'symbol': 'LUNABTC', 'price': '0.00003256'},\n {'symbol': 'LUNABUSD', 'price': '0.33380000'},\n {'symbol': 'LUNAUSDT', 'price': '0.33400000'},\n {'symbol': 'IDEXBTC', 'price': '0.00000811'},\n {'symbol': 'IDEXBUSD', 'price': '0.08233000'},\n {'symbol': 'RSRBNB', 'price': '0.00079300'},\n {'symbol': 'RSRBTC', 'price': '0.00000179'},\n {'symbol': 'RSRBUSD', 'price': '0.01841000'},\n {'symbol': 'RSRUSDT', 'price': '0.01840000'},\n {'symbol': 'PAXGBNB', 'price': '84.66300000'},\n {'symbol': 'PAXGBTC', 'price': '0.18849000'},\n {'symbol': 'PAXGBUSD', 'price': '1932.03000000'},\n {'symbol': 'PAXGUSDT', 'price': '1926.74000000'},\n {'symbol': 'WNXMBNB', 'price': '1.82800000'},\n {'symbol': 'WNXMBTC', 'price': '0.00409300'},\n {'symbol': 'WNXMBUSD', 'price': '41.94400000'},\n {'symbol': 'WNXMUSDT', 'price': '41.81900000'},\n {'symbol': 'TRBBNB', 'price': '1.77800000'},\n {'symbol': 'TRBBTC', 'price': '0.00399600'},\n {'symbol': 'TRBBUSD', 'price': '41.03600000'},\n {'symbol': 'TRBUSDT', 'price': '40.90300000'},\n {'symbol': 'ETHNGN', 'price': '155680.00000000'},\n {'symbol': 'DOTBIDR', 'price': '70546.00'},\n {'symbol': 'LINKAUD', 'price': '17.88800000'},\n {'symbol': 'SXPAUD', 'price': '2.52500000'},\n {'symbol': 'BZRXBNB', 'price': '0.02706000'},\n {'symbol': 'BZRXBTC', 'price': '0.00006037'},\n {'symbol': 'BZRXBUSD', 'price': '0.62490000'},\n {'symbol': 'BZRXUSDT', 'price': '0.61820000'},\n {'symbol': 'WBTCBTC', 'price': '1.00498000'},\n {'symbol': 'WBTCETH', 'price': '29.03350000'},\n {'symbol': 'SUSHIBNB', 'price': '0.13760000'},\n {'symbol': 'SUSHIBTC', 'price': '0.00030700'},\n {'symbol': 'SUSHIBUSD', 'price': '3.14200000'},\n {'symbol': 'SUSHIUSDT', 'price': '3.15300000'},\n ...]"
     },
     "metadata": {},
     "execution_count": 6
    }
   ],
   "source": [
    "client.get_all_tickers()"
   ]
  },
  {
   "cell_type": "code",
   "execution_count": 7,
   "metadata": {
    "tags": []
   },
   "outputs": [
    {
     "output_type": "execute_result",
     "data": {
      "text/plain": "(1680, 12)"
     },
     "metadata": {},
     "execution_count": 7
    }
   ],
   "source": [
    "# see \"client.py\" source code - line 714\n",
    "\n",
    "np.array(client.get_historical_klines(\"BNBBTC\", Client.KLINE_INTERVAL_1MINUTE, \"1 day ago UTC\")).shape\n",
    "test = np.array(client.get_historical_klines(\"BNBBTC\", Client.KLINE_INTERVAL_1MINUTE, \"1 day ago\"))   #by default starting from UTC (\"time value\" in terms of current time zone) thus 28 hours covered in this case\n",
    "test.shape\n",
    "# test\n"
   ]
  },
  {
   "cell_type": "code",
   "execution_count": 8,
   "metadata": {
    "tags": []
   },
   "outputs": [
    {
     "output_type": "execute_result",
     "data": {
      "text/plain": "           OpenTime        Open        High         Low       Close  \\\n0     1599355260000  0.00188920  0.00188920  0.00188560  0.00188920   \n1     1599355320000  0.00188890  0.00188890  0.00188680  0.00188750   \n2     1599355380000  0.00188720  0.00188820  0.00188590  0.00188590   \n3     1599355440000  0.00188580  0.00188930  0.00188580  0.00188720   \n4     1599355500000  0.00188620  0.00189000  0.00188580  0.00188890   \n...             ...         ...         ...         ...         ...   \n1435  1599441360000  0.00223710  0.00223710  0.00223370  0.00223370   \n1436  1599441420000  0.00223410  0.00223410  0.00222620  0.00222690   \n1437  1599441480000  0.00222720  0.00223490  0.00222670  0.00223300   \n1438  1599441540000  0.00223290  0.00223410  0.00223050  0.00223300   \n1439  1599441600000  0.00223070  0.00223130  0.00222880  0.00223030   \n\n             Volume      CloseTime QuoteAssetVol NumOfTrades  \n0      870.97000000  1599355319999    1.64385769          40  \n1       20.07000000  1599355379999    0.03788402          11  \n2      696.46000000  1599355439999    1.31450078          30  \n3     2418.10000000  1599355499999    4.56663900          82  \n4     1567.93000000  1599355559999    2.96143314          46  \n...             ...            ...           ...         ...  \n1435   913.13000000  1599441419999    2.04065846         104  \n1436  2835.72000000  1599441479999    6.32226063         395  \n1437  4168.69000000  1599441539999    9.29897294         157  \n1438  1906.32000000  1599441599999    4.25793471          43  \n1439   548.49000000  1599441659999    1.22313821          22  \n\n[1440 rows x 9 columns]",
      "text/html": "<div>\n<style scoped>\n    .dataframe tbody tr th:only-of-type {\n        vertical-align: middle;\n    }\n\n    .dataframe tbody tr th {\n        vertical-align: top;\n    }\n\n    .dataframe thead th {\n        text-align: right;\n    }\n</style>\n<table border=\"1\" class=\"dataframe\">\n  <thead>\n    <tr style=\"text-align: right;\">\n      <th></th>\n      <th>OpenTime</th>\n      <th>Open</th>\n      <th>High</th>\n      <th>Low</th>\n      <th>Close</th>\n      <th>Volume</th>\n      <th>CloseTime</th>\n      <th>QuoteAssetVol</th>\n      <th>NumOfTrades</th>\n    </tr>\n  </thead>\n  <tbody>\n    <tr>\n      <th>0</th>\n      <td>1599355260000</td>\n      <td>0.00188920</td>\n      <td>0.00188920</td>\n      <td>0.00188560</td>\n      <td>0.00188920</td>\n      <td>870.97000000</td>\n      <td>1599355319999</td>\n      <td>1.64385769</td>\n      <td>40</td>\n    </tr>\n    <tr>\n      <th>1</th>\n      <td>1599355320000</td>\n      <td>0.00188890</td>\n      <td>0.00188890</td>\n      <td>0.00188680</td>\n      <td>0.00188750</td>\n      <td>20.07000000</td>\n      <td>1599355379999</td>\n      <td>0.03788402</td>\n      <td>11</td>\n    </tr>\n    <tr>\n      <th>2</th>\n      <td>1599355380000</td>\n      <td>0.00188720</td>\n      <td>0.00188820</td>\n      <td>0.00188590</td>\n      <td>0.00188590</td>\n      <td>696.46000000</td>\n      <td>1599355439999</td>\n      <td>1.31450078</td>\n      <td>30</td>\n    </tr>\n    <tr>\n      <th>3</th>\n      <td>1599355440000</td>\n      <td>0.00188580</td>\n      <td>0.00188930</td>\n      <td>0.00188580</td>\n      <td>0.00188720</td>\n      <td>2418.10000000</td>\n      <td>1599355499999</td>\n      <td>4.56663900</td>\n      <td>82</td>\n    </tr>\n    <tr>\n      <th>4</th>\n      <td>1599355500000</td>\n      <td>0.00188620</td>\n      <td>0.00189000</td>\n      <td>0.00188580</td>\n      <td>0.00188890</td>\n      <td>1567.93000000</td>\n      <td>1599355559999</td>\n      <td>2.96143314</td>\n      <td>46</td>\n    </tr>\n    <tr>\n      <th>...</th>\n      <td>...</td>\n      <td>...</td>\n      <td>...</td>\n      <td>...</td>\n      <td>...</td>\n      <td>...</td>\n      <td>...</td>\n      <td>...</td>\n      <td>...</td>\n    </tr>\n    <tr>\n      <th>1435</th>\n      <td>1599441360000</td>\n      <td>0.00223710</td>\n      <td>0.00223710</td>\n      <td>0.00223370</td>\n      <td>0.00223370</td>\n      <td>913.13000000</td>\n      <td>1599441419999</td>\n      <td>2.04065846</td>\n      <td>104</td>\n    </tr>\n    <tr>\n      <th>1436</th>\n      <td>1599441420000</td>\n      <td>0.00223410</td>\n      <td>0.00223410</td>\n      <td>0.00222620</td>\n      <td>0.00222690</td>\n      <td>2835.72000000</td>\n      <td>1599441479999</td>\n      <td>6.32226063</td>\n      <td>395</td>\n    </tr>\n    <tr>\n      <th>1437</th>\n      <td>1599441480000</td>\n      <td>0.00222720</td>\n      <td>0.00223490</td>\n      <td>0.00222670</td>\n      <td>0.00223300</td>\n      <td>4168.69000000</td>\n      <td>1599441539999</td>\n      <td>9.29897294</td>\n      <td>157</td>\n    </tr>\n    <tr>\n      <th>1438</th>\n      <td>1599441540000</td>\n      <td>0.00223290</td>\n      <td>0.00223410</td>\n      <td>0.00223050</td>\n      <td>0.00223300</td>\n      <td>1906.32000000</td>\n      <td>1599441599999</td>\n      <td>4.25793471</td>\n      <td>43</td>\n    </tr>\n    <tr>\n      <th>1439</th>\n      <td>1599441600000</td>\n      <td>0.00223070</td>\n      <td>0.00223130</td>\n      <td>0.00222880</td>\n      <td>0.00223030</td>\n      <td>548.49000000</td>\n      <td>1599441659999</td>\n      <td>1.22313821</td>\n      <td>22</td>\n    </tr>\n  </tbody>\n</table>\n<p>1440 rows × 9 columns</p>\n</div>"
     },
     "metadata": {},
     "execution_count": 8
    }
   ],
   "source": [
    "test = np.array(client.get_historical_klines(\"BNBBTC\", Client.KLINE_INTERVAL_1MINUTE, \"1 day ago EDT\"))\n",
    "test = test[:,:9]\n",
    "test = pd.DataFrame(test, columns=[\"OpenTime\", \"Open\", \"High\", \"Low\", \"Close\", \"Volume\", \"CloseTime\", \"QuoteAssetVol\", \"NumOfTrades\"])\n",
    "# print(test.dtypes, \"\\n\")\n",
    "test.OpenTime = test.OpenTime.astype(\"int\")\n",
    "# print(test.dtypes)\n",
    "test"
   ]
  },
  {
   "cell_type": "code",
   "execution_count": 9,
   "metadata": {},
   "outputs": [
    {
     "output_type": "execute_result",
     "data": {
      "text/plain": "'2020/09/06 04:00 UTC'"
     },
     "metadata": {},
     "execution_count": 9
    }
   ],
   "source": [
    "datetime.utcfromtimestamp(1599364800000/1000).strftime(\"%Y/%m/%d %H:%M UTC\")"
   ]
  },
  {
   "cell_type": "code",
   "execution_count": 10,
   "metadata": {},
   "outputs": [
    {
     "output_type": "execute_result",
     "data": {
      "text/plain": "datetime.datetime(2020, 9, 6, 21, 18, 19, 286753)"
     },
     "metadata": {},
     "execution_count": 10
    }
   ],
   "source": [
    "dateparser.parse(\"2 minutes ago\")"
   ]
  },
  {
   "cell_type": "markdown",
   "metadata": {},
   "source": [
    "### Candle Data"
   ]
  },
  {
   "cell_type": "markdown",
   "metadata": {},
   "source": [
    "*see \"client.py\" source code - starting line 673* <br>\n",
    "**generally \"OHLCV\" kind of data result format (12 fields):** <br>\n",
    "Open time; <br>\n",
    "Open; <br>\n",
    "High; <br>\n",
    "Low; <br>\n",
    "Close; <br>\n",
    "Volume; <br>\n",
    "Close time; <br>\n",
    "Quote asset volume; <br>\n",
    "Number of trades; <br>\n",
    "Taker buy base asset volume; <br>\n",
    "Taker buy quote asset volume; <br>\n",
    "a_field_that_can_be_ignored\n"
   ]
  },
  {
   "cell_type": "code",
   "execution_count": 11,
   "metadata": {},
   "outputs": [],
   "source": [
    "def get_candle(symbol, interval_str, start_time, end_time=None):\n",
    "    client = Client()\n",
    "    result = client.get_historical_klines(symbol=symbol, interval=interval_str, start_str=start_time, end_str=end_time)     #return two dimensional lists with each row having 12 fields (\"OHLCV\" kind of data)\n",
    "    result = np.array(result)\n",
    "    result = result[:,:9]\n",
    "    result = pd.DataFrame(result, columns=[\"OpenTime\", \"Open\", \"High\", \"Low\", \"Close\", \"Volume\", \"CloseTime\", \"QuoteAssetVol\", \"NumOfTrades\"])\n",
    "    result.OpenTime = result.OpenTime.astype(\"int\").apply(lambda d: datetime.utcfromtimestamp(d/1000).strftime(\"%Y/%m/%d %H:%M:%S UTC\"))       #convert \"OpenTime\" to time string format (notice that original UNIX timestamp is in milliseconds!)\n",
    "    result.CloseTime = result.CloseTime.astype(\"int\").apply(lambda d: datetime.utcfromtimestamp(d/1000).strftime(\"%Y/%m/%d %H:%M:%S UTC\")) #convert \"CloseTime\" to time string format\n",
    "    result = result[[\"OpenTime\", \"CloseTime\", \"Open\", \"High\", \"Low\", \"Close\", \"Volume\", \"QuoteAssetVol\", \"NumOfTrades\"]]\n",
    "    result.to_csv(\"/Users/baixiao/Desktop/histo_kline_data.csv\", index=False)\n"
   ]
  },
  {
   "cell_type": "code",
   "execution_count": 13,
   "metadata": {},
   "outputs": [],
   "source": [
    "get_candle(\"BNBBTC\", Client.KLINE_INTERVAL_1HOUR, \"1 day ago EDT\")\n",
    "#get_candle(\"NEOBTC\", Client.KLINE_INTERVAL_1MINUTE, \"1 day ago EDT\")"
   ]
  },
  {
   "cell_type": "code",
   "execution_count": 6,
   "metadata": {},
   "outputs": [],
   "source": []
  },
  {
   "cell_type": "markdown",
   "metadata": {},
   "source": [
    "### Transactions"
   ]
  },
  {
   "cell_type": "code",
   "execution_count": 14,
   "metadata": {
    "tags": []
   },
   "outputs": [],
   "source": [
    "#client=Client()\n",
    "#try:\n",
    "#    client.get_aggregate_trades(symbol = \"BNBBTC\", startTime = 1599350400000, endTime = 1599411600000)\n",
    "#except:\n",
    "#    print('Wrong!')"
   ]
  },
  {
   "cell_type": "code",
   "execution_count": 15,
   "metadata": {},
   "outputs": [
    {
     "output_type": "execute_result",
     "data": {
      "text/plain": "             a           p            q         f         l              T  \\\n0     71422683  0.00226000   8.84000000  86866793  86866793  1599411602346   \n1     71422684  0.00225990   8.14000000  86866794  86866794  1599411602359   \n2     71422685  0.00226050   0.17000000  86866795  86866795  1599411603619   \n3     71422686  0.00226010  10.00000000  86866796  86866796  1599411604376   \n4     71422687  0.00226020  14.98000000  86866797  86866797  1599411604376   \n...        ...         ...          ...       ...       ...            ...   \n2959  71425642  0.00224080   1.42000000  86870390  86870390  1599413396770   \n2960  71425643  0.00224070   0.07000000  86870391  86870391  1599413396804   \n2961  71425644  0.00224050   1.02000000  86870392  86870393  1599413396839   \n2962  71425645  0.00224030   1.99000000  86870394  86870394  1599413396839   \n2963  71425646  0.00224020   0.51000000  86870395  86870395  1599413396839   \n\n          m     M  \n0      True  True  \n1      True  True  \n2     False  True  \n3     False  True  \n4     False  True  \n...     ...   ...  \n2959   True  True  \n2960   True  True  \n2961   True  True  \n2962   True  True  \n2963   True  True  \n\n[2964 rows x 8 columns]",
      "text/html": "<div>\n<style scoped>\n    .dataframe tbody tr th:only-of-type {\n        vertical-align: middle;\n    }\n\n    .dataframe tbody tr th {\n        vertical-align: top;\n    }\n\n    .dataframe thead th {\n        text-align: right;\n    }\n</style>\n<table border=\"1\" class=\"dataframe\">\n  <thead>\n    <tr style=\"text-align: right;\">\n      <th></th>\n      <th>a</th>\n      <th>p</th>\n      <th>q</th>\n      <th>f</th>\n      <th>l</th>\n      <th>T</th>\n      <th>m</th>\n      <th>M</th>\n    </tr>\n  </thead>\n  <tbody>\n    <tr>\n      <th>0</th>\n      <td>71422683</td>\n      <td>0.00226000</td>\n      <td>8.84000000</td>\n      <td>86866793</td>\n      <td>86866793</td>\n      <td>1599411602346</td>\n      <td>True</td>\n      <td>True</td>\n    </tr>\n    <tr>\n      <th>1</th>\n      <td>71422684</td>\n      <td>0.00225990</td>\n      <td>8.14000000</td>\n      <td>86866794</td>\n      <td>86866794</td>\n      <td>1599411602359</td>\n      <td>True</td>\n      <td>True</td>\n    </tr>\n    <tr>\n      <th>2</th>\n      <td>71422685</td>\n      <td>0.00226050</td>\n      <td>0.17000000</td>\n      <td>86866795</td>\n      <td>86866795</td>\n      <td>1599411603619</td>\n      <td>False</td>\n      <td>True</td>\n    </tr>\n    <tr>\n      <th>3</th>\n      <td>71422686</td>\n      <td>0.00226010</td>\n      <td>10.00000000</td>\n      <td>86866796</td>\n      <td>86866796</td>\n      <td>1599411604376</td>\n      <td>False</td>\n      <td>True</td>\n    </tr>\n    <tr>\n      <th>4</th>\n      <td>71422687</td>\n      <td>0.00226020</td>\n      <td>14.98000000</td>\n      <td>86866797</td>\n      <td>86866797</td>\n      <td>1599411604376</td>\n      <td>False</td>\n      <td>True</td>\n    </tr>\n    <tr>\n      <th>...</th>\n      <td>...</td>\n      <td>...</td>\n      <td>...</td>\n      <td>...</td>\n      <td>...</td>\n      <td>...</td>\n      <td>...</td>\n      <td>...</td>\n    </tr>\n    <tr>\n      <th>2959</th>\n      <td>71425642</td>\n      <td>0.00224080</td>\n      <td>1.42000000</td>\n      <td>86870390</td>\n      <td>86870390</td>\n      <td>1599413396770</td>\n      <td>True</td>\n      <td>True</td>\n    </tr>\n    <tr>\n      <th>2960</th>\n      <td>71425643</td>\n      <td>0.00224070</td>\n      <td>0.07000000</td>\n      <td>86870391</td>\n      <td>86870391</td>\n      <td>1599413396804</td>\n      <td>True</td>\n      <td>True</td>\n    </tr>\n    <tr>\n      <th>2961</th>\n      <td>71425644</td>\n      <td>0.00224050</td>\n      <td>1.02000000</td>\n      <td>86870392</td>\n      <td>86870393</td>\n      <td>1599413396839</td>\n      <td>True</td>\n      <td>True</td>\n    </tr>\n    <tr>\n      <th>2962</th>\n      <td>71425645</td>\n      <td>0.00224030</td>\n      <td>1.99000000</td>\n      <td>86870394</td>\n      <td>86870394</td>\n      <td>1599413396839</td>\n      <td>True</td>\n      <td>True</td>\n    </tr>\n    <tr>\n      <th>2963</th>\n      <td>71425646</td>\n      <td>0.00224020</td>\n      <td>0.51000000</td>\n      <td>86870395</td>\n      <td>86870395</td>\n      <td>1599413396839</td>\n      <td>True</td>\n      <td>True</td>\n    </tr>\n  </tbody>\n</table>\n<p>2964 rows × 8 columns</p>\n</div>"
     },
     "metadata": {},
     "execution_count": 15
    }
   ],
   "source": [
    "pd.DataFrame(client.get_aggregate_trades(symbol = \"BNBBTC\", startTime = 1599411600000, endTime = 1599413400000))"
   ]
  },
  {
   "cell_type": "code",
   "execution_count": 16,
   "metadata": {},
   "outputs": [
    {
     "output_type": "execute_result",
     "data": {
      "text/plain": "1326423600000.0"
     },
     "metadata": {},
     "execution_count": 16
    }
   ],
   "source": [
    "dateparser.parse(\"January 12, 2012 10:00PM EST\").timestamp()*1000"
   ]
  },
  {
   "cell_type": "markdown",
   "metadata": {},
   "source": [
    "#### aggregated trades list"
   ]
  },
  {
   "cell_type": "markdown",
   "metadata": {},
   "source": [
    "##### API return: <br>\n",
    "Aggregate tradeId; <br>\n",
    "Price; <br>\n",
    "Quantity; <br>\n",
    "First tradeId; <br>\n",
    "Last tradeId; <br>\n",
    "Timestamp; <br>\n",
    "Was_the_buyer_the_maker?; <br>\n",
    "Was_the_trade_the_best_price_match?"
   ]
  },
  {
   "cell_type": "code",
   "execution_count": 17,
   "metadata": {},
   "outputs": [],
   "source": [
    "#API method see \"client.py\" source code - line 539\n",
    "\n",
    "def get_agg_trades(symbol, start_time=None, end_time=None, fromId=None):\n",
    "    #convert user-input datetime string format into UNIX timestamp:\n",
    "    if isinstance(start_time, str):\n",
    "        start_time = int(dateparser.parse(start_time).timestamp()*1000)\n",
    "    if isinstance(end_time, str):\n",
    "        end_time = int(dateparser.parse(end_time).timestamp()*1000)\n",
    "\n",
    "    client = Client()\n",
    "    try:\n",
    "        result = client.get_aggregate_trades(symbol=symbol, startTime=start_time, endTime=end_time, fromId=fromId)\n",
    "        result = pd.DataFrame(result)\n",
    "        result = result.rename(columns={\"a\":\"agg_tradeId\", \"p\":\"price\", \"q\":\"quantity\", \"f\":\"first_tradeId\", \"l\":\"last_tradeId\", \"T\":\"timestamp\", \"m\":\"isBuyerMaker\", \"M\":\"isBestMatch\"})\n",
    "        result.timestamp = result.timestamp.apply(lambda d: datetime.utcfromtimestamp(d/1000).strftime(\"%Y/%m/%d %H:%M:%S UTC\"))       #convert \"timestamp\" to time string format\n",
    "        result = result[[\"timestamp\", \"agg_tradeId\", \"price\", \"quantity\", \"first_tradeId\", \"last_tradeId\", \"isBuyerMaker\", \"isBestMatch\"]]\n",
    "        result.to_csv(\"/Users/baixiao/Desktop/agg_trades.csv\", index=False)\n",
    "    except:\n",
    "        print(\"Error: time between startTime and endTime passed in cannot exceed 1 hour here!!\")"
   ]
  },
  {
   "cell_type": "code",
   "execution_count": 18,
   "metadata": {
    "tags": []
   },
   "outputs": [],
   "source": [
    "#get_agg_trades(\"BNBBTC\", 1599411600000, 1599413400000)\n",
    "#get_agg_trades(\"BNBBTC\", 1599350400000, 1599411600000)  #(*)Error appearing\n",
    "\n",
    "get_agg_trades(\"BNBBTC\", \"September 6, 2020 13:00 EDT\", \"September 6, 2020 13:30 EDT\")"
   ]
  },
  {
   "cell_type": "markdown",
   "metadata": {},
   "source": [
    "#### most recent grades (last 500)"
   ]
  },
  {
   "cell_type": "code",
   "execution_count": 19,
   "metadata": {},
   "outputs": [],
   "source": [
    "#API method see \"client.py\" source code - line 477\n",
    "\n",
    "def get_rct_trades(symbol):\n",
    "    client = Client()\n",
    "    result = client.get_recent_trades(symbol=symbol)\n",
    "    result = pd.DataFrame(result)\n",
    "    result = result.rename(columns={\"qty\":\"quantity\"})\n",
    "    result.time = result.time.apply(lambda d: datetime.utcfromtimestamp(d/1000).strftime(\"%Y/%m/%d %H:%M:%S UTC\"))       #convert \"time\" to time string format\n",
    "    result = result[[\"time\", \"id\", \"price\", \"quantity\", \"isBuyerMaker\", \"isBestMatch\"]]\n",
    "    result.to_csv(\"/Users/baixiao/Desktop/latest_500_trades.csv\", index=False)\n"
   ]
  },
  {
   "cell_type": "code",
   "execution_count": 20,
   "metadata": {},
   "outputs": [],
   "source": [
    "get_rct_trades(\"NEOBTC\")"
   ]
  },
  {
   "cell_type": "code",
   "execution_count": null,
   "metadata": {},
   "outputs": [],
   "source": []
  },
  {
   "cell_type": "markdown",
   "metadata": {},
   "source": [
    "### Market Depth (get latest orderbook entries)"
   ]
  },
  {
   "cell_type": "code",
   "execution_count": 21,
   "metadata": {},
   "outputs": [
    {
     "output_type": "execute_result",
     "data": {
      "text/plain": "bids_price    float64\ndtype: object"
     },
     "metadata": {},
     "execution_count": 21
    }
   ],
   "source": [
    "client = Client()\n",
    "c = client.get_order_book(symbol=\"BNBBTC\")\n",
    "# pd.DataFrame(c)\n",
    "np.array(c[\"bids\"])[:,0]\n",
    "temp = pd.DataFrame()\n",
    "temp[\"bids_price\"] = np.array(c[\"bids\"])[:,0]\n",
    "temp[\"bids_price\"] = temp[\"bids_price\"].astype(\"float\")\n",
    "temp.dtypes"
   ]
  },
  {
   "cell_type": "code",
   "execution_count": null,
   "metadata": {},
   "outputs": [],
   "source": []
  },
  {
   "cell_type": "code",
   "execution_count": 22,
   "metadata": {},
   "outputs": [],
   "source": [
    "#api method see \"client.py\" source code - line 440\n",
    "\n",
    "def get_orderbook(symbol, limit=500):\n",
    "    client=Client()\n",
    "    api_result = client.get_order_book(symbol=symbol, limit=limit)\n",
    "    result=pd.DataFrame()\n",
    "    result[\"bid_price\"] = np.array(api_result[\"bids\"])[:,0]\n",
    "    result[\"bid_quantity\"] = np.array(api_result[\"bids\"])[:,1]\n",
    "    result[\"ask_price\"] = np.array(api_result[\"asks\"])[:,0]\n",
    "    result[\"ask_quantity\"] = np.array(api_result[\"asks\"])[:,1]\n",
    "    result.index += 1\n",
    "    result.to_csv(\"/Users/baixiao/Desktop/latest_orderbook.csv\", index=True)"
   ]
  },
  {
   "cell_type": "code",
   "execution_count": 23,
   "metadata": {},
   "outputs": [],
   "source": [
    "get_orderbook(\"NEOBTC\")"
   ]
  },
  {
   "cell_type": "code",
   "execution_count": null,
   "metadata": {},
   "outputs": [],
   "source": []
  }
 ]
}