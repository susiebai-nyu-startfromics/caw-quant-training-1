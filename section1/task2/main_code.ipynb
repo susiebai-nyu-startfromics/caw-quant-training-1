{
 "metadata": {
  "language_info": {
   "codemirror_mode": {
    "name": "ipython",
    "version": 3
   },
   "file_extension": ".py",
   "mimetype": "text/x-python",
   "name": "python",
   "nbconvert_exporter": "python",
   "pygments_lexer": "ipython3",
   "version": "3.7.7-final"
  },
  "orig_nbformat": 2,
  "kernelspec": {
   "name": "python_defaultSpec_1599441899345",
   "display_name": "Python 3.7.7 64-bit ('cryptoalgowheel': conda)"
  }
 },
 "nbformat": 4,
 "nbformat_minor": 2,
 "cells": [
  {
   "cell_type": "code",
   "execution_count": 1,
   "metadata": {},
   "outputs": [],
   "source": [
    "# *IMPORTANT!:\n",
    "# first install python-binance package (using \"pip\") into this anaconda environment:\n",
    "\n",
    "# conda activate cryptoalgowheel\n",
    "# /anaconda3/envs/cryptoalgowheel/bin/pip install python-binance"
   ]
  },
  {
   "cell_type": "code",
   "execution_count": 2,
   "metadata": {},
   "outputs": [],
   "source": [
    "import numpy as np\n",
    "import pandas as pd\n",
    "from datetime import datetime\n",
    "from dateutil.tz import tzutc\n",
    "import dateparser      #important datetime-related package used in \"python-binance\" SDK: https://dateparser.readthedocs.io/en/latest/ \n",
    "\n",
    "from binance.client import Client"
   ]
  },
  {
   "cell_type": "markdown",
   "metadata": {},
   "source": [
    "### Candle Data"
   ]
  },
  {
   "cell_type": "markdown",
   "metadata": {},
   "source": [
    "*API method see \"client.py\" source code - starting line 673* <br>\n",
    "\n",
    "**generally \"OHLCV\" kind of data result format (12 fields):** <br>\n",
    "Open time; <br>\n",
    "Open; <br>\n",
    "High; <br>\n",
    "Low; <br>\n",
    "Close; <br>\n",
    "Volume; <br>\n",
    "Close time; <br>\n",
    "Quote asset volume; <br>\n",
    "Number of trades; <br>\n",
    "Taker buy base asset volume; <br>\n",
    "Taker buy quote asset volume; <br>\n",
    "a_field_that_can_be_ignored\n"
   ]
  },
  {
   "cell_type": "code",
   "execution_count": 3,
   "metadata": {},
   "outputs": [],
   "source": [
    "def get_candle(symbol, interval_str, start_time, end_time=None):\n",
    "    client = Client()\n",
    "    result = client.get_historical_klines(symbol=symbol, interval=interval_str, start_str=start_time, end_str=end_time)     #return two dimensional lists with each row having 12 fields (\"OHLCV\" kind of data)\n",
    "    result = np.array(result)\n",
    "    result = result[:,:9]\n",
    "    result = pd.DataFrame(result, columns=[\"OpenTime\", \"Open\", \"High\", \"Low\", \"Close\", \"Volume\", \"CloseTime\", \"QuoteAssetVol\", \"NumOfTrades\"])\n",
    "    result.OpenTime = result.OpenTime.astype(\"int\").apply(lambda d: datetime.utcfromtimestamp(d/1000).strftime(\"%Y/%m/%d %H:%M:%S UTC\"))       #convert \"OpenTime\" to time string format (notice that original UNIX timestamp is in milliseconds!)\n",
    "    result.CloseTime = result.CloseTime.astype(\"int\").apply(lambda d: datetime.utcfromtimestamp(d/1000).strftime(\"%Y/%m/%d %H:%M:%S UTC\")) #convert \"CloseTime\" to time string format\n",
    "    result = result[[\"OpenTime\", \"CloseTime\", \"Open\", \"High\", \"Low\", \"Close\", \"Volume\", \"QuoteAssetVol\", \"NumOfTrades\"]]\n",
    "    result.to_csv(\"/Users/baixiao/Desktop/histo_kline_data.csv\", index=False)\n"
   ]
  },
  {
   "cell_type": "code",
   "execution_count": 4,
   "metadata": {},
   "outputs": [],
   "source": [
    "get_candle(\"BNBBTC\", Client.KLINE_INTERVAL_1HOUR, \"1 day ago EDT\")\n",
    "#get_candle(\"NEOBTC\", Client.KLINE_INTERVAL_1MINUTE, \"1 day ago EDT\")"
   ]
  },
  {
   "cell_type": "markdown",
   "metadata": {},
   "source": []
  },
  {
   "cell_type": "markdown",
   "metadata": {},
   "source": [
    "### Transactions"
   ]
  },
  {
   "cell_type": "markdown",
   "metadata": {},
   "source": [
    "#### aggregated trades list"
   ]
  },
  {
   "cell_type": "markdown",
   "metadata": {},
   "source": [
    "*API method see \"client.py\" source code - line 539* <br>\n",
    "\n",
    "**API return:** <br>\n",
    "Aggregate tradeId; <br>\n",
    "Price; <br>\n",
    "Quantity; <br>\n",
    "First tradeId; <br>\n",
    "Last tradeId; <br>\n",
    "Timestamp; <br>\n",
    "Was_the_buyer_the_maker?; <br>\n",
    "Was_the_trade_the_best_price_match?"
   ]
  },
  {
   "cell_type": "code",
   "execution_count": 5,
   "metadata": {},
   "outputs": [],
   "source": [
    "def get_agg_trades(symbol, start_time=None, end_time=None, fromId=None):\n",
    "    #convert user-input datetime string format into UNIX timestamp:\n",
    "    if isinstance(start_time, str):\n",
    "        start_time = int(dateparser.parse(start_time).timestamp()*1000)\n",
    "    if isinstance(end_time, str):\n",
    "        end_time = int(dateparser.parse(end_time).timestamp()*1000)\n",
    "\n",
    "    client = Client()\n",
    "    try:\n",
    "        result = client.get_aggregate_trades(symbol=symbol, startTime=start_time, endTime=end_time, fromId=fromId)\n",
    "        result = pd.DataFrame(result)\n",
    "        result = result.rename(columns={\"a\":\"agg_tradeId\", \"p\":\"price\", \"q\":\"quantity\", \"f\":\"first_tradeId\", \"l\":\"last_tradeId\", \"T\":\"timestamp\", \"m\":\"isBuyerMaker\", \"M\":\"isBestMatch\"})\n",
    "        result.timestamp = result.timestamp.apply(lambda d: datetime.utcfromtimestamp(d/1000).strftime(\"%Y/%m/%d %H:%M:%S UTC\"))       #convert \"timestamp\" to time string format\n",
    "        result = result[[\"timestamp\", \"agg_tradeId\", \"price\", \"quantity\", \"first_tradeId\", \"last_tradeId\", \"isBuyerMaker\", \"isBestMatch\"]]\n",
    "        result.to_csv(\"/Users/baixiao/Desktop/agg_trades.csv\", index=False)\n",
    "    except:\n",
    "        print(\"Error: time between startTime and endTime passed in cannot exceed 1 hour here!!\")"
   ]
  },
  {
   "cell_type": "code",
   "execution_count": 6,
   "metadata": {
    "tags": []
   },
   "outputs": [],
   "source": [
    "#get_agg_trades(\"BNBBTC\", 1599411600000, 1599413400000)\n",
    "#get_agg_trades(\"BNBBTC\", 1599350400000, 1599411600000)  #(*)Error appearing\n",
    "\n",
    "get_agg_trades(\"BNBBTC\", \"September 6, 2020 13:00 EDT\", \"September 6, 2020 13:30 EDT\")"
   ]
  },
  {
   "cell_type": "markdown",
   "metadata": {},
   "source": [
    "#### most recent grades (last 500)"
   ]
  },
  {
   "cell_type": "markdown",
   "metadata": {},
   "source": [
    "*API method see \"client.py\" source code - line 477* <br>"
   ]
  },
  {
   "cell_type": "code",
   "execution_count": 7,
   "metadata": {},
   "outputs": [],
   "source": [
    "def get_rct_trades(symbol):\n",
    "    client = Client()\n",
    "    result = client.get_recent_trades(symbol=symbol)\n",
    "    result = pd.DataFrame(result)\n",
    "    result = result.rename(columns={\"qty\":\"quantity\"})\n",
    "    result.time = result.time.apply(lambda d: datetime.utcfromtimestamp(d/1000).strftime(\"%Y/%m/%d %H:%M:%S UTC\"))       #convert \"time\" to time string format\n",
    "    result = result[[\"time\", \"id\", \"price\", \"quantity\", \"isBuyerMaker\", \"isBestMatch\"]]\n",
    "    result.to_csv(\"/Users/baixiao/Desktop/latest_500_trades.csv\", index=False)\n"
   ]
  },
  {
   "cell_type": "code",
   "execution_count": 8,
   "metadata": {},
   "outputs": [],
   "source": [
    "get_rct_trades(\"NEOBTC\")"
   ]
  },
  {
   "cell_type": "code",
   "execution_count": null,
   "metadata": {},
   "outputs": [],
   "source": []
  },
  {
   "cell_type": "markdown",
   "metadata": {},
   "source": [
    "### Market Depth (get latest orderbook entries)"
   ]
  },
  {
   "cell_type": "markdown",
   "metadata": {},
   "source": [
    "*API method see \"client.py\" source code - line 440* <br>"
   ]
  },
  {
   "cell_type": "code",
   "execution_count": 9,
   "metadata": {},
   "outputs": [],
   "source": [
    "def get_orderbook(symbol, limit=500):\n",
    "    client=Client()\n",
    "    api_result = client.get_order_book(symbol=symbol, limit=limit)\n",
    "    result=pd.DataFrame()\n",
    "    result[\"bid_price\"] = np.array(api_result[\"bids\"])[:,0]\n",
    "    result[\"bid_quantity\"] = np.array(api_result[\"bids\"])[:,1]\n",
    "    result[\"ask_price\"] = np.array(api_result[\"asks\"])[:,0]\n",
    "    result[\"ask_quantity\"] = np.array(api_result[\"asks\"])[:,1]\n",
    "    result.index += 1\n",
    "    result.to_csv(\"/Users/baixiao/Desktop/latest_orderbook.csv\", index=True)"
   ]
  },
  {
   "cell_type": "code",
   "execution_count": 10,
   "metadata": {},
   "outputs": [],
   "source": [
    "get_orderbook(\"NEOBTC\")"
   ]
  },
  {
   "cell_type": "code",
   "execution_count": null,
   "metadata": {},
   "outputs": [],
   "source": []
  }
 ]
}