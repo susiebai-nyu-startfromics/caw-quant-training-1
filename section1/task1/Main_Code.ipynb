{
 "metadata": {
  "language_info": {
   "codemirror_mode": {
    "name": "ipython",
    "version": 3
   },
   "file_extension": ".py",
   "mimetype": "text/x-python",
   "name": "python",
   "nbconvert_exporter": "python",
   "pygments_lexer": "ipython3",
   "version": "3.7.7-final"
  },
  "orig_nbformat": 2,
  "kernelspec": {
   "name": "python_defaultSpec_1598751479385",
   "display_name": "Python 3.7.7 64-bit ('cryptoalgowheel': conda)"
  }
 },
 "nbformat": 4,
 "nbformat_minor": 2,
 "cells": [
  {
   "cell_type": "code",
   "execution_count": 1,
   "metadata": {},
   "outputs": [],
   "source": [
    "import requests\n",
    "import numpy as np\n",
    "import pandas as pd\n",
    "from datetime import datetime\n",
    "from dateutil.tz import tzutc"
   ]
  },
  {
   "cell_type": "markdown",
   "metadata": {},
   "source": [
    "#### required output columns info: <br>\n",
    "close float64 <br>\n",
    "high float64 <br>\n",
    "low float64 <br>\n",
    "open float64 <br>\n",
    "volume float64 <br>\n",
    "baseVolume float64 <br>\n",
    "datetime object <br>\n",
    "dtype: object"
   ]
  },
  {
   "cell_type": "code",
   "execution_count": 2,
   "metadata": {},
   "outputs": [],
   "source": [
    "def histohour_main(fsym='BTC', tsym='USDT', start_time='2017-04-01', end_time='2020-04-01', e='binance'):\n",
    "    #create UTC Unix timestamps from start & end date strings passed in\n",
    "    req_start_epoch = int(datetime.strptime(start_time, '%Y-%m-%d').replace(tzinfo=tzutc()).timestamp())\n",
    "    req_end_epoch = int(datetime.strptime(end_time, '%Y-%m-%d').replace(tzinfo=tzutc()).timestamp())\n",
    "\n",
    "    result_df = pd.DataFrame()\n",
    "    next_endtime = req_end_epoch     #initialize \"end time\"\n",
    "    while True:\n",
    "        r = requests.get(\"https://min-api.cryptocompare.com/data/v2/histohour?\", params={'fsym':fsym, 'tsym': tsym, 'limit': 2000, 'toTs': str(next_endtime), 'e': e})\n",
    "        response = r.json()         #the API query response actually can be decoded as a JSON (list of dicts) object!\n",
    "        current_df = pd.DataFrame(response['Data']['Data']).drop(['conversionType', 'conversionSymbol'], axis=1)\n",
    "        result_df = pd.concat([current_df, result_df], axis=0, ignore_index=True)   #stack/add the current df to result df along the y-axis\n",
    "        current_starttime = result_df.time.min()   #check the smallest value in the 'time' column of df as the start time of the current iteration\n",
    "        next_endtime = current_starttime - 3600    #the end time for the next round is 'one hour'(3600 Unix timestamp units) before the start time of the current iteration\n",
    "        if current_starttime <= req_start_epoch:\n",
    "            break\n",
    "\n",
    "    #result df Data Cleaning\n",
    "    result_df.sort_values(by=\"time\", inplace=True)     #(just in case)\n",
    "    result_df = result_df[result_df['time'] >= req_start_epoch]      #delete superfluous data earlier than the required start datetime\n",
    "    result_df = result_df.rename(columns={'time':'datetime', 'volumefrom':'volume', 'volumeto':'baseVolume'})\n",
    "    result_df.datetime = result_df.datetime.apply(lambda d: datetime.utcfromtimestamp(d).strftime(\"%Y/%m/%d %H:%M\"))         #(*)change the UTC Unix timestamps display format to be string\n",
    "    result_df = result_df[[\"close\", \"high\", \"low\", \"open\", \"volume\", \"baseVolume\", \"datetime\"]]\n",
    "    \n",
    "    #write the final result dataframe to csv file\n",
    "    result_df.to_csv(\"/Users/baixiao/Desktop/S1T1_output.csv\", index=False)\n"
   ]
  },
  {
   "cell_type": "code",
   "execution_count": 3,
   "metadata": {},
   "outputs": [],
   "source": [
    "histohour_main()"
   ]
  },
  {
   "cell_type": "code",
   "execution_count": null,
   "metadata": {},
   "outputs": [],
   "source": []
  }
 ]
}