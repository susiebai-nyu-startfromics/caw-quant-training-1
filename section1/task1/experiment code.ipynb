{
 "metadata": {
  "language_info": {
   "codemirror_mode": {
    "name": "ipython",
    "version": 3
   },
   "file_extension": ".py",
   "mimetype": "text/x-python",
   "name": "python",
   "nbconvert_exporter": "python",
   "pygments_lexer": "ipython3",
   "version": "3.7.7-final"
  },
  "orig_nbformat": 2,
  "kernelspec": {
   "name": "python_defaultSpec_1598751493126",
   "display_name": "Python 3.7.7 64-bit ('cryptoalgowheel': conda)"
  }
 },
 "nbformat": 4,
 "nbformat_minor": 2,
 "cells": [
  {
   "cell_type": "markdown",
   "metadata": {},
   "source": [
    "#### highly useful play-around \"Epoch Converter - Unix Timestamp Converter\" for Datetime Check:\n",
    "https://www.epochconverter.com/?prefs\n"
   ]
  },
  {
   "cell_type": "code",
   "execution_count": 1,
   "metadata": {},
   "outputs": [],
   "source": [
    "import requests\n",
    "import numpy as np\n",
    "import pandas as pd\n",
    "from datetime import datetime\n",
    "from dateutil.tz import tzutc"
   ]
  },
  {
   "cell_type": "markdown",
   "metadata": {},
   "source": [
    "#### required output columns info: <br>\n",
    "close         float64 <br>\n",
    "high          float64 <br>\n",
    "low           float64 <br>\n",
    "open          float64 <br>\n",
    "volume        float64 <br>\n",
    "baseVolume    float64 <br>\n",
    "datetime       object <br>\n",
    "dtype: object\n"
   ]
  },
  {
   "cell_type": "code",
   "execution_count": 2,
   "metadata": {
    "tags": []
   },
   "outputs": [
    {
     "output_type": "stream",
     "name": "stdout",
     "text": "1491004800\n1585699200\n"
    }
   ],
   "source": [
    "# Resources:\n",
    "# (for reference) Python official \"datetime\" object doc: https://docs.python.org/3/library/datetime.html#datetime-objects\n",
    "# https://medium.com/@chaoren/datetime-to-unix-time-epoch-in-python-2-3-ecba6493e8b;\n",
    "# https://stackoverflow.com/questions/8777753/converting-datetime-date-to-utc-timestamp-in-python/8778548\n",
    "# (*)python \"datetime\" object doesn't have time-zone info by default (violating ISO 8601 specification) -- solution: https://stackoverflow.com/questions/19654578/python-utc-datetime-objects-iso-format-doesnt-include-z-zulu-or-zero-offset;\n",
    "\n",
    "\n",
    "req_start_epoch = int(datetime.strptime('2017-04-01', '%Y-%m-%d').replace(tzinfo=tzutc()).timestamp())\n",
    "req_end_epoch = int(datetime.strptime('2020-04-01', '%Y-%m-%d').replace(tzinfo=tzutc()).timestamp())\n",
    "\n",
    "print(req_start_epoch)\n",
    "print(req_end_epoch)"
   ]
  },
  {
   "cell_type": "code",
   "execution_count": 3,
   "metadata": {
    "tags": []
   },
   "outputs": [
    {
     "output_type": "stream",
     "name": "stdout",
     "text": "https://min-api.cryptocompare.com/data/v2/histohour?fsym=BTC&tsym=USDT&limit=2000&toTs=1585699200&e=binance\n"
    }
   ],
   "source": [
    "r = requests.get(\"https://min-api.cryptocompare.com/data/v2/histohour?\", params={'fsym':'BTC', 'tsym': 'USDT', 'limit': 2000, 'toTs': '1585699200', 'e': 'binance'})\n",
    "print(r.url)"
   ]
  },
  {
   "cell_type": "code",
   "execution_count": 4,
   "metadata": {},
   "outputs": [
    {
     "output_type": "execute_result",
     "data": {
      "text/plain": "onversionType\":\"force_direct\",\"conversionSymbol\":\"\"},{\"time\":1585292400,\"close\":6699.92,\"high\":6728.06,\"low\":6675.37,\"open\":6676.64,\"volumefrom\":2025.4,\"volumeto\":13578557.66,\"conversionType\":\"force_direct\",\"conversionSymbol\":\"\"},{\"time\":1585296000,\"close\":6675,\"high\":6703.81,\"low\":6668.68,\"open\":6699.92,\"volumefrom\":2401.15,\"volumeto\":16051666.67,\"conversionType\":\"force_direct\",\"conversionSymbol\":\"\"},{\"time\":1585299600,\"close\":6646.38,\"high\":6689.98,\"low\":6642,\"open\":6675,\"volumefrom\":2505.16,\"volumeto\":16698442.28,\"conversionType\":\"force_direct\",\"conversionSymbol\":\"\"},{\"time\":1585303200,\"close\":6645.23,\"high\":6680.16,\"low\":6599.61,\"open\":6646.38,\"volumefrom\":3959.72,\"volumeto\":26291165.32,\"conversionType\":\"force_direct\",\"conversionSymbol\":\"\"},{\"time\":1585306800,\"close\":6620.58,\"high\":6691,\"low\":6617.9,\"open\":6645.23,\"volumefrom\":4343.89,\"volumeto\":28925162.22,\"conversionType\":\"force_direct\",\"conversionSymbol\":\"\"},{\"time\":1585310400,\"close\":6632.22,\"high\":6666.04,\"low\":6585,\"open\":6620.58,\"volumefrom\":3358.77,\"volumeto\":22281195.56,\"conversionType\":\"force_direct\",\"conversionSymbol\":\"\"},{\"time\":1585314000,\"close\":6592.85,\"high\":6646.4,\"low\":6573.41,\"open\":6632.22,\"volumefrom\":5231.74,\"volumeto\":34550946.16,\"conversionType\":\"force_direct\",\"conversionSymbol\":\"\"},{\"time\":1585317600,\"close\":6616.87,\"high\":6627,\"low\":6579.57,\"open\":6592.85,\"volumefrom\":2644.53,\"volumeto\":17473270.45,\"conversionType\":\"force_direct\",\"conversionSymbol\":\"\"},{\"time\":1585321200,\"close\":6622.86,\"high\":6656.87,\"low\":6610.09,\"open\":6616.87,\"volumefrom\":3086.27,\"volumeto\":20482311.04,\"conversionType\":\"force_direct\",\"conversionSymbol\":\"\"},{\"time\":1585324800,\"close\":6640,\"high\":6666.26,\"low\":6591.06,\"open\":6622.86,\"volumefrom\":3632.33,\"volumeto\":24057379.35,\"conversionType\":\"force_direct\",\"conversionSymbol\":\"\"},{\"time\":1585328400,\"close\":6633.74,\"high\":6657.12,\"low\":6608,\"open\":6640,\"volumefrom\":2646.79,\"volumeto\":17557953.93,\"conversionType\":\"force_direct\",\"conversionSymbol\":\"\"},{\"time\":1585332000,\"close\":6646.96,\"high\":6664.66,\"low\":6625.49,\"open\":6633.74,\"volumefrom\":1861.41,\"volumeto\":12366747.04,\"conversionType\":\"force_direct\",\"conversionSymbol\":\"\"},{\"time\":1585335600,\"close\":6657.02,\"high\":6687.3,\"low\":6637.75,\"open\":6646.96,\"volumefrom\":2839.97,\"volumeto\":18932062.52,\"conversionType\":\"force_direct\",\"conversionSymbol\":\"\"},{\"time\":1585339200,\"close\":6676.74,\"high\":6676.76,\"low\":6635,\"open\":6657.02,\"volumefrom\":1727.52,\"volumeto\":11489686.12,\"conversionType\":\"force_direct\",\"conversionSymbol\":\"\"},{\"time\":1585342800,\"close\":6675.64,\"high\":6700,\"low\":6653.75,\"open\":6676.74,\"volumefrom\":2037.24,\"volumeto\":13600028.52,\"conversionType\":\"force_direct\",\"conversionSymbol\":\"\"},{\"time\":1585346400,\"close\":6658.17,\"high\":6680.42,\"low\":6642.44,\"open\":6675.64,\"volumefrom\":1404.65,\"volumeto\":9355153.45,\"conversionType\":\"force_direct\",\"conversionSymbol\":\"\"},{\"time\":1585350000,\"close\":6359.11,\"high\":6660.83,\"low\":6261,\"open\":6658.17,\"volumefrom\":10942.1,\"volumeto\":70418638.17,\"conversionType\":\"force_direct\",\"conversionSymbol\":\"\"},{\"time\":1585353600,\"close\":6306.54,\"high\":6360,\"low\":6200,\"open\":6359.11,\"volumefrom\":11770.21,\"volumeto\":73715125.5,\"conversionType\":\"force_direct\",\"conversionSymbol\":\"\"},{\"time\":1585357200,\"close\":6274.7,\"high\":6307.22,\"low\":6250,\"open\":6306.54,\"volumefrom\":3207.95,\"volumeto\":20130217.41,\"conversionType\":\"force_direct\",\"conversionSymbol\":\"\"},{\"time\":1585360800,\"close\":6254.3,\"high\":6282,\"low\":6232.06,\"open\":6274.7,\"volumefrom\":2509.02,\"volumeto\":15702519.06,\"conversionType\":\"force_direct\",\"conversionSymbol\":\"\"},{\"time\":1585364400,\"close\":6116.92,\"high\":6264.24,\"low\":6068.88,\"open\":6254.3,\"volumefrom\":9864.36,\"volumeto\":60684984.01,\"conversionType\":\"force_direct\",\"conversionSymbol\":\"\"},{\"time\":1585368000,\"close\":6171.98,\"high\":6203.47,\"low\":6095,\"open\":6116.92,\"volumefrom\":4787.73,\"volumeto\":29433301.27,\"conversionType\":\"force_direct\",\"conversionSymbol\":\"\"},{\"time\":1585371600,\"close\":6165.01,\"high\":6195,\"low\":6144.5,\"open\":6171.98,\"volumefrom\":2524.55,\"volumeto\":15564516.37,\"conversionType\":\"force_direct\",\"conversionSymbol\":\"\"},{\"time\":1585375200,\"close\":6167.56,\"high\":6187.78,\"low\":6117,\"open\":6165.01,\"volumefrom\":3452.3,\"volumeto\":21213471.08,\"conversionType\":\"force_direct\",\"conversionSymbol\":\"\"},{\"time\":1585378800,\"close\":6184.31,\"high\":6194,\"low\":6165,\"open\":6167.56,\"volumefrom\":2223.35,\"volumeto\":13740593.87,\"conversionType\":\"force_direct\",\"conversionSymbol\":\"\"},{\"time\":1585382400,\"close\":6256.4,\"high\":6268,\"low\":6165,\"open\":6184.31,\"volumefrom\":4212.39,\"volumeto\":26243882.61,\"conversionType\":\"force_direct\",\"conversionSymbol\":\"\"},{\"time\":1585386000,\"close\":6251.54,\"high\":6290,\"low\":6233.96,\"open\":6256.4,\"volumefrom\":2947.12,\"volumeto\":18456889.98,\"conversionType\":\"force_direct\",\"conversionSymbol\":\"\"},{\"time\":1585389600,\"close\":6260.32,\"high\":6277.58,\"low\":6215,\"open\":6251.54,\"volumefrom\":2202.81,\"volumeto\":13761823.52,\"conversionType\":\"force_direct\",\"conversionSymbol\":\"\"},{\"time\":1585393200,\"close\":6236.78,\"high\":6319.86,\"low\":6225.01,\"open\":6260.32,\"volumefrom\":4039.2,\"volumeto\":25314932.26,\"conversionType\":\"force_direct\",\"conversionSymbol\":\"\"},{\"time\":1585396800,\"close\":6233.1,\"high\":6257.53,\"low\":6211.21,\"open\":6236.78,\"volumefrom\":2135.76,\"volumeto\":13316758.07,\"conversionType\":\"force_direct\",\"conversionSymbol\":\"\"},{\"time\":1585400400,\"close\":6223.84,\"high\":6247.56,\"low\":6155.39,\"open\":6233.1,\"volumefrom\":3424.33,\"volumeto\":21244313.66,\"conversionType\":\"force_direct\",\"conversionSymbol\":\"\"},{\"time\":1585404000,\"close\":6238.64,\"high\":6252.98,\"low\":6220.01,\"open\":6223.84,\"volumefrom\":1721.7,\"volumeto\":10735136.18,\"conversionType\":\"force_direct\",\"conversionSymbol\":\"\"},{\"time\":1585407600,\"close\":6215,\"high\":6274.12,\"low\":6210,\"open\":6238.64,\"volumefrom\":2182.33,\"volumeto\":13614064.41,\"conversionType\":\"force_direct\",\"conversionSymbol\":\"\"},{\"time\":1585411200,\"close\":6230.96,\"high\":6240.64,\"low\":6196,\"open\":6215,\"volumefrom\":1933.44,\"volumeto\":12024297.27,\"conversionType\":\"force_direct\",\"conversionSymbol\":\"\"},{\"time\":1585414800,\"close\":6025.79,\"high\":6238.34,\"low\":6024,\"open\":6230.96,\"volumefrom\":8361.14,\"volumeto\":51149934.27,\"conversionType\":\"force_direct\",\"conversionSymbol\":\"\"},{\"time\":1585418400,\"close\":6163.97,\"high\":6249.71,\"low\":6024,\"open\":6025.79,\"volumefrom\":7719.76,\"volumeto\":47609361.74,\"conversionType\":\"force_direct\",\"conversionSymbol\":\"\"},{\"time\":1585422000,\"close\":6210.77,\"high\":6231.9,\"low\":6162.96,\"open\":6163.97,\"volumefrom\":2554.97,\"volumeto\":15842268.83,\"conversionType\":\"force_direct\",\"conversionSymbol\":\"\"},{\"time\":1585425600,\"close\":6244.12,\"high\":6295,\"low\":6210.11,\"open\":6210.77,\"volumefrom\":3894.78,\"volumeto\":24375428.27,\"conversionType\":\"force_direct\",\"conversionSymbol\":\"\"},{\"time\":1585429200,\"close\":6218.42,\"high\":6264,\"low\":6167.7,\"open\":6244.12,\"volumefrom\":2226.46,\"volumeto\":13832760.73,\"conversionType\":\"force_direct\",\"conversionSymbol\":\"\"},{\"time\":1585432800,\"close\":6213.7,\"high\":6247.64,\"low\":6175,\"open\":6218.42,\"volumefrom\":1526.66,\"volumeto\":9477122.36,\"conversionType\":\"force_direct\",\"conversionSymbol\":\"\"},{\"time\":1585436400,\"close\":6236.65,\"high\":6270,\"low\":6180.1,\"open\":6213.7,\"volumefrom\":1737.37,\"volumeto\":10803003.4,\"conversionType\":\"force_direct\",\"conversionSymbol\":\"\"},{\"time\":1585440000,\"close\":6212.88,\"high\":6266,\"low\":6192,\"open\":6236.65,\"volumefrom\":1785.87,\"volumeto\":11111375.08,\"conversionType\":\"force_direct\",\"conversionSymbol\":\"\"},{\"time\":1585443600,\"close\":6216.83,\"high\":6228.56,\"low\":6186.2,\"open\":6212.88,\"volumefrom\":1191.39,\"volumeto\":7387176.05,\"conversionType\":\"force_direct\",\"conversionSymbol\":\"\"},{\"time\":1585447200,\"close\":6199.37,\"high\":6228.57,\"low\":6196.51,\"open\":6216.83,\"volumefrom\":718.48,\"volumeto\":4464041.75,\"conversionType\":\"force_direct\",\"conversionSymbol\":\"\"},{\"time\":1585450800,\"close\":6202.95,\"high\":6216.56,\"low\":6177.78,\"open\":6199.37,\"volumefrom\":1104.21,\"volumeto\":6845661.79,\"conversionType\":\"force_direct\",\"conversionSymbol\":\"\"},{\"time\":1585454400,\"close\":6203,\"high\":6213.5,\"low\":6185.09,\"open\":6202.95,\"volumefrom\":545.75,\"volumeto\":3384057.96,\"conversionType\":\"force_direct\",\"conversionSymbol\":\"\"},{\"time\":1585458000,\"close\":6146.71,\"high\":6203,\"low\":6145.28,\"open\":6203,\"volumefrom\":1510.07,\"volumeto\":9326050.45,\"conversionType\":\"force_direct\",\"conversionSymbol\":\"\"},{\"time\":1585461600,\"close\":6152.82,\"high\":6165.94,\"low\":6131,\"open\":6146.71,\"volumefrom\":1260.16,\"volumeto\":7752976.09,\"conversionType\":\"force_direct\",\"conversionSymbol\":\"\"},{\"time\":1585465200,\"close\":6153.9,\"high\":6172.09,\"low\":6116,\"open\":6152.82,\"volumefrom\":2017.5,\"volumeto\":12391180.16,\"conversionType\":\"force_direct\",\"conversionSymbol\":\"\"},{\"time\":1585468800,\"close\":6132.4,\"high\":6154.27,\"low\":6093.6,\"open\":6153.9,\"volumefrom\":2850.42,\"volumeto\":17427296.81,\"conversionType\":\"force_direct\",\"conversionSymbol\":\"\"},{\"time\":1585472400,\"close\":6088.37,\"high\":6134.5,\"low\":6082.6,\"open\":6132.4,\"volumefrom\":1932.69,\"volumeto\":11807164.13,\"conversionType\":\"force_direct\",\"conversionSymbol\":\"\"},{\"time\":1585476000,\"close\":6171.09,\"high\":6210,\"low\":6086,\"open\":6088.37,\"volumefrom\":3647.42,\"volumeto\":22392933.44,\"conversionType\":\"force_direct\",\"conversionSymbol\":\"\"},{\"time\":1585479600,\"close\":6138.35,\"high\":6191.8,\"low\":6131.44,\"open\":6171.09,\"volumefrom\":3247.24,\"volumeto\":19987493.5,\"conversionType\":\"force_direct\",\"conversionSymbol\":\"\"},{\"time\":1585483200,\"close\":6122.16,\"high\":6155,\"low\":6067.6,\"open\":6138.35,\"volumefrom\":3604.14,\"volumeto\":22013996.13,\"conversionType\":\"force_direct\",\"conversionSymbol\":\"\"},{\"time\":1585486800,\"close\":6123.46,\"high\":6139.4,\"low\":6096,\"open\":6122.16,\"volumefrom\":2004.58,\"volumeto\":12258609.5,\"conversionType\":\"force_direct\",\"conversionSymbol\":\"\"},{\"time\":1585490400,\"close\":6142.89,\"high\":6150,\"low\":6109,\"open\":6123.46,\"volumefrom\":1760.01,\"volumeto\":10793753.27,\"conversionType\":\"force_direct\",\"conversionSymbol\":\"\"},{\"time\":1585494000,\"close\":6129.79,\"high\":6147,\"low\":6115.62,\"open\":6142.89,\"volumefrom\":1560.81,\"volumeto\":9566062.56,\"conversionType\":\"force_direct\",\"conversionSymbol\":\"\"},{\"time\":1585497600,\"close\":6085.36,\"high\":6164.94,\"low\":6060,\"open\":6129.79,\"volumefrom\":4580.91,\"volumeto\":27972505.3,\"conversionType\":\"force_direct\",\"conversionSymbol\":\"\"},{\"time\":1585501200,\"close\":6103.78,\"high\":6120,\"low\":6060,\"open\":6085.36,\"volumefrom\":2388.25,\"volumeto\":14546045.13,\"conversionType\":\"force_direct\",\"conversionSymbol\":\"\"},{\"time\":1585504800,\"close\":6063.79,\"high\":6103.96,\"low\":6060,\"open\":6103.78,\"volumefrom\":1973.73,\"volumeto\":12012404.93,\"conversionType\":\"force_direct\",\"conversionSymbol\":\"\"},{\"time\":1585508400,\"close\":5905.29,\"high\":6090.91,\"low\":5885.47,\"open\":6063.79,\"volumefrom\":10811.25,\"volumeto\":64476836.98,\"conversionType\":\"force_direct\",\"conversionSymbol\":\"\"},{\"time\":1585512000,\"close\":5947.83,\"high\":5963.93,\"low\":5866.56,\"open\":5905.29,\"volumefrom\":4936.3,\"volumeto\":29195629.6,\"conversionType\":\"force_direct\",\"conversionSymbol\":\"\"},{\"time\":1585515600,\"close\":5895.2,\"high\":5951.09,\"low\":5892.98,\"open\":5947.83,\"volumefrom\":2103.46,\"volumeto\":12445900.63,\"conversionType\":\"force_direct\",\"conversionSymbol\":\"\"},{\"time\":1585519200,\"close\":5918.24,\"high\":5944.12,\"low\":5875,\"open\":5895.2,\"volumefrom\":2892.43,\"volumeto\":17108212.74,\"conversionType\":\"force_direct\",\"conversionSymbol\":\"\"},{\"time\":1585522800,\"close\":5881.42,\"high\":5934.14,\"low\":5875,\"open\":5918.24,\"volumefrom\":2884.55,\"volumeto\":17039758.52,\"conversionType\":\"force_direct\",\"conversionSymbol\":\"\"},{\"time\":1585526400,\"close\":5902.02,\"high\":5920,\"low\":5857.76,\"open\":5881.42,\"volumefrom\":3713.49,\"volumeto\":21880722.34,\"conversionType\":\"force_direct\",\"conversionSymbol\":\"\"},{\"time\":1585530000,\"close\":5940.22,\"high\":5947.18,\"low\":5893.93,\"open\":5902.02,\"volumefrom\":2311.79,\"volumeto\":13698327.44,\"conversionType\":\"force_direct\",\"conversionSymbol\":\"\"},{\"time\":1585533600,\"close\":5987.5,\"high\":6028.83,\"low\":5940,\"open\":5940.22,\"volumefrom\":4945.88,\"volumeto\":29639714.55,\"conversionType\":\"force_direct\",\"conversionSymbol\":\"\"},{\"time\":1585537200,\"close\":6009.09,\"high\":6010.17,\"low\":5978.74,\"open\":5987.5,\"volumefrom\":2319.46,\"volumeto\":13904357.1,\"conversionType\":\"force_direct\",\"conversionSymbol\":\"\"},{\"time\":1585540800,\"close\":6034.99,\"high\":6044.16,\"low\":5991.04,\"open\":6009.09,\"volumefrom\":2532.22,\"volumeto\":15248786.09,\"conversionType\":\"force_direct\",\"conversionSymbol\":\"\"},{\"time\":1585544400,\"close\":6202.98,\"high\":6240,\"low\":6034.99,\"open\":6034.99,\"volumefrom\":10979.19,\"volumeto\":67822122.41,\"conversionType\":\"force_direct\",\"conversionSymbol\":\"\"},{\"time\":1585548000,\"close\":6217.05,\"high\":6248.66,\"low\":6172.88,\"open\":6202.98,\"volumefrom\":4909.32,\"volumeto\":30475354.97,\"conversionType\":\"force_direct\",\"conversionSymbol\":\"\"},{\"time\":1585551600,\"close\":6242.69,\"high\":6330.01,\"low\":6215,\"open\":6217.05,\"volumefrom\":8231.16,\"volumeto\":51605246.3,\"conversionType\":\"force_direct\",\"conversionSymbol\":\"\"},{\"time\":1585555200,\"close\":6271.25,\"high\":6297.14,\"low\":6230.24,\"open\":6242.69,\"volumefrom\":4817.3,\"volumeto\":30179129.57,\"conversionType\":\"force_direct\",\"conversionSymbol\":\"\"},{\"time\":1585558800,\"close\":6249.45,\"high\":6281.72,\"low\":6239.14,\"open\":6271.25,\"volumefrom\":3029.08,\"volumeto\":18968311.82,\"conversionType\":\"force_direct\",\"conversionSymbol\":\"\"},{\"time\":1585562400,\"close\":6277.46,\"high\":6313.31,\"low\":6247.74,\"open\":6249.45,\"volumefrom\":4667.99,\"volumeto\":29298685.38,\"conversionType\":\"force_direct\",\"conversionSymbol\":\"\"},{\"time\":1585566000,\"close\":6355.56,\"high\":6395,\"low\":6265.94,\"open\":6277.46,\"volumefrom\":6916.55,\"volumeto\":43837232.22,\"conversionType\":\"force_direct\",\"conversionSymbol\":\"\"},{\"time\":1585569600,\"close\":6302.75,\"high\":6379,\"low\":6278.23,\"open\":6355.56,\"volumefrom\":5453.86,\"volumeto\":34501076.16,\"conversionType\":\"force_direct\",\"conversionSymbol\":\"\"},{\"time\":1585573200,\"close\":6302.53,\"high\":6346,\"low\":6300.44,\"open\":6302.75,\"volumefrom\":3327.12,\"volumeto\":21030391.67,\"conversionType\":\"force_direct\",\"conversionSymbol\":\"\"},{\"time\":1585576800,\"close\":6326.27,\"high\":6337.42,\"low\":6260.62,\"open\":6302.53,\"volumefrom\":4541.95,\"volumeto\":28639759.41,\"conversionType\":\"force_direct\",\"conversionSymbol\":\"\"},{\"time\":1585580400,\"close\":6343.58,\"high\":6444,\"low\":6320,\"open\":6326.27,\"volumefrom\":8815.87,\"volumeto\":56145835.79,\"conversionType\":\"force_direct\",\"conversionSymbol\":\"\"},{\"time\":1585584000,\"close\":6377.88,\"high\":6389.72,\"low\":6303.34,\"open\":6343.58,\"volumefrom\":4381.87,\"volumeto\":27825261.7,\"conversionType\":\"force_direct\",\"conversionSymbol\":\"\"},{\"time\":1585587600,\"close\":6350.46,\"high\":6384.98,\"low\":6330,\"open\":6377.88,\"volumefrom\":2988.57,\"volumeto\":18981896.33,\"conversionType\":\"force_direct\",\"conversionSymbol\":\"\"},{\"time\":1585591200,\"close\":6363.01,\"high\":6374.99,\"low\":6322.49,\"open\":6350.46,\"volumefrom\":2183.84,\"volumeto\":13868738.34,\"conversionType\":\"force_direct\",\"conversionSymbol\":\"\"},{\"time\":1585594800,\"close\":6366.74,\"high\":6402.41,\"low\":6346.18,\"open\":6363.01,\"volumefrom\":2451.64,\"volumeto\":15609364.17,\"conversionType\":\"force_direct\",\"conversionSymbol\":\"\"},{\"time\":1585598400,\"close\":6463.3,\"high\":6500,\"low\":6363.78,\"open\":6366.74,\"volumefrom\":7033.57,\"volumeto\":45313451.2,\"conversionType\":\"force_direct\",\"conversionSymbol\":\"\"},{\"time\":1585602000,\"close\":6528.47,\"high\":6564.33,\"low\":6462.37,\"open\":6463.3,\"volumefrom\":6444.1,\"volumeto\":41972972.45,\"conversionType\":\"force_direct\",\"conversionSymbol\":\"\"},{\"time\":1585605600,\"close\":6458,\"high\":6599,\"low\":6440.29,\"open\":6528.47,\"volumefrom\":6595.56,\"volumeto\":43037093.33,\"conversionType\":\"force_direct\",\"conversionSymbol\":\"\"},{\"time\":1585609200,\"close\":6394.38,\"high\":6483.54,\"low\":6375,\"open\":6458,\"volumefrom\":5298.19,\"volumeto\":34085895.72,\"conversionType\":\"force_direct\",\"conversionSymbol\":\"\"},{\"time\":1585612800,\"close\":6439.55,\"high\":6469.28,\"low\":6380,\"open\":6394.38,\"volumefrom\":3456.74,\"volumeto\":22258381.62,\"conversionType\":\"force_direct\",\"conversionSymbol\":\"\"},{\"time\":1585616400,\"close\":6514.07,\"high\":6515,\"low\":6439.55,\"open\":6439.55,\"volumefrom\":2564.81,\"volumeto\":16621482.91,\"conversionType\":\"force_direct\",\"conversionSymbol\":\"\"},{\"time\":1585620000,\"close\":6449.66,\"high\":6523.23,\"low\":6445,\"open\":6514.07,\"volumefrom\":2638.25,\"volumeto\":17108477.85,\"conversionType\":\"force_direct\",\"conversionSymbol\":\"\"},{\"time\":1585623600,\"close\":6439.47,\"high\":6480,\"low\":6408,\"open\":6449.66,\"volumefrom\":3522.06,\"volumeto\":22691104.85,\"conversionType\":\"force_direct\",\"conversionSymbol\":\"\"},{\"time\":1585627200,\"close\":6398.93,\"high\":6465,\"low\":6378,\"open\":6439.47,\"volumefrom\":3855.14,\"volumeto\":24729796.97,\"conversionType\":\"force_direct\",\"conversionSymbol\":\"\"},{\"time\":1585630800,\"close\":6415.6,\"high\":6453,\"low\":6380.96,\"open\":6398.93,\"volumefrom\":2207.25,\"volumeto\":14154300.63,\"conversionType\":\"force_direct\",\"conversionSymbol\":\"\"},{\"time\":1585634400,\"close\":6471.56,\"high\":6471.56,\"low\":6390,\"open\":6415.6,\"volumefrom\":3093.53,\"volumeto\":19908119.92,\"conversionType\":\"force_direct\",\"conversionSymbol\":\"\"},{\"time\":1585638000,\"close\":6445.09,\"high\":6473.68,\"low\":6425.48,\"open\":6471.56,\"volumefrom\":2008.27,\"volumeto\":12946172.84,\"conversionType\":\"force_direct\",\"conversionSymbol\":\"\"},{\"time\":1585641600,\"close\":6493.93,\"high\":6505.5,\"low\":6441.71,\"open\":6445.09,\"volumefrom\":3412.17,\"volumeto\":22099117.38,\"conversionType\":\"force_direct\",\"conversionSymbol\":\"\"},{\"time\":1585645200,\"close\":6440.04,\"high\":6499,\"low\":6425,\"open\":6493.93,\"volumefrom\":3365.66,\"volumeto\":21756849.3,\"conversionType\":\"force_direct\",\"conversionSymbol\":\"\"},{\"time\":1585648800,\"close\":6431.32,\"high\":6441.3,\"low\":6404,\"open\":6440.04,\"volumefrom\":2779.52,\"volumeto\":17849949.14,\"conversionType\":\"force_direct\",\"conversionSymbol\":\"\"},{\"time\":1585652400,\"close\":6387.19,\"high\":6432.29,\"low\":6330.01,\"open\":6431.32,\"volumefrom\":5307.47,\"volumeto\":33851325.81,\"conversionType\":\"force_direct\",\"conversionSymbol\":\"\"},{\"time\":1585656000,\"close\":6447.37,\"high\":6461.95,\"low\":6321.4,\"open\":6387.19,\"volumefrom\":4797.74,\"volumeto\":30648571.81,\"conversionType\":\"force_direct\",\"conversionSymbol\":\"\"},{\"time\":1585659600,\"close\":6418,\"high\":6481.28,\"low\":6400.07,\"open\":6447.37,\"volumefrom\":4091.87,\"volumeto\":26358461.37,\"conversionType\":\"force_direct\",\"conversionSymbol\":\"\"},{\"time\":1585663200,\"close\":6452.04,\"high\":6484.95,\"low\":6415.15,\"open\":6418,\"volumefrom\":3234.98,\"volumeto\":20883874.64,\"conversionType\":\"force_direct\",\"conversionSymbol\":\"\"},{\"time\":1585666800,\"close\":6454.12,\"high\":6500,\"low\":6424,\"open\":6452.04,\"volumefrom\":3921.33,\"volumeto\":25343803.86,\"conversionType\":\"force_direct\",\"conversionSymbol\":\"\"},{\"time\":1585670400,\"close\":6427.59,\"high\":6469.94,\"low\":6414.05,\"open\":6454.12,\"volumefrom\":2812.79,\"volumeto\":18120887.14,\"conversionType\":\"force_direct\",\"conversionSymbol\":\"\"},{\"time\":1585674000,\"close\":6452.79,\"high\":6459,\"low\":6401,\"open\":6427.59,\"volumefrom\":2362.33,\"volumeto\":15200058.27,\"conversionType\":\"force_direct\",\"conversionSymbol\":\"\"},{\"time\":1585677600,\"close\":6462.37,\"high\":6486.6,\"low\":6444.82,\"open\":6452.79,\"volumefrom\":2326.75,\"volumeto\":15038936.47,\"conversionType\":\"force_direct\",\"conversionSymbol\":\"\"},{\"time\":1585681200,\"close\":6463.47,\"high\":6475,\"low\":6430.32,\"open\":6462.37,\"volumefrom\":2485.86,\"volumeto\":16047293.92,\"conversionType\":\"force_direct\",\"conversionSymbol\":\"\"},{\"time\":1585684800,\"close\":6467.5,\"high\":6494.9,\"low\":6447.75,\"open\":6463.47,\"volumefrom\":2503.51,\"volumeto\":16207519.69,\"conversionType\":\"force_direct\",\"conversionSymbol\":\"\"},{\"time\":1585688400,\"close\":6442.61,\"high\":6485,\"low\":6420,\"open\":6467.5,\"volumefrom\":2112.04,\"volumeto\":13622726.48,\"conversionType\":\"force_direct\",\"conversionSymbol\":\"\"},{\"time\":1585692000,\"close\":6431.55,\"high\":6448,\"low\":6420.64,\"open\":6442.61,\"volumefrom\":1197.65,\"volumeto\":7707041.79,\"conversionType\":\"force_direct\",\"conversionSymbol\":\"\"},{\"time\":1585695600,\"close\":6410.44,\"high\":6440.99,\"low\":6386.89,\"open\":6431.55,\"volumefrom\":2279.88,\"volumeto\":14626241.96,\"conversionType\":\"force_direct\",\"conversionSymbol\":\"\"},{\"time\":1585699200,\"close\":6305.12,\"high\":6426.52,\"low\":6239.34,\"open\":6410.44,\"volumefrom\":9061.28,\"volumeto\":57230360.58,\"conversionType\":\"force_direct\",\"conversionSymbol\":\"\"}]}}'"
     },
     "metadata": {},
     "execution_count": 4
    }
   ],
   "source": [
    "r.text"
   ]
  },
  {
   "cell_type": "code",
   "execution_count": 5,
   "metadata": {
    "tags": []
   },
   "outputs": [
    {
     "output_type": "stream",
     "name": "stdout",
     "text": "<class 'dict'>\n"
    },
    {
     "output_type": "execute_result",
     "data": {
      "text/plain": "',\n    'conversionSymbol': ''},\n   {'time': 1581786000,\n    'close': 9844.69,\n    'high': 9845,\n    'low': 9827,\n    'open': 9841.29,\n    'volumefrom': 117.33,\n    'volumeto': 1153611.48,\n    'conversionType': 'force_direct',\n    'conversionSymbol': ''},\n   {'time': 1581789600,\n    'close': 9914.13,\n    'high': 9920,\n    'low': 9811.84,\n    'open': 9844.69,\n    'volumefrom': 3481.91,\n    'volumeto': 34401391.53,\n    'conversionType': 'force_direct',\n    'conversionSymbol': ''},\n   {'time': 1581793200,\n    'close': 9893.99,\n    'high': 9940,\n    'low': 9891.66,\n    'open': 9914.13,\n    'volumefrom': 1452.76,\n    'volumeto': 14406516.63,\n    'conversionType': 'force_direct',\n    'conversionSymbol': ''},\n   {'time': 1581796800,\n    'close': 9892.89,\n    'high': 9919.57,\n    'low': 9870.33,\n    'open': 9893.99,\n    'volumefrom': 1328.53,\n    'volumeto': 13145876.92,\n    'conversionType': 'force_direct',\n    'conversionSymbol': ''},\n   {'time': 1581800400,\n    'close': 9923.53,\n    'high': 9929.75,\n    'low': 9891.15,\n    'open': 9892.89,\n    'volumefrom': 987.76,\n    'volumeto': 9792828.15,\n    'conversionType': 'force_direct',\n    'conversionSymbol': ''},\n   {'time': 1581804000,\n    'close': 9923.82,\n    'high': 9949,\n    'low': 9911.17,\n    'open': 9923.53,\n    'volumefrom': 1184.98,\n    'volumeto': 11764416.47,\n    'conversionType': 'force_direct',\n    'conversionSymbol': ''},\n   {'time': 1581807600,\n    'close': 9904.72,\n    'high': 9936.27,\n    'low': 9882.04,\n    'open': 9923.82,\n    'volumefrom': 1092.28,\n    'volumeto': 10824296.36,\n    'conversionType': 'force_direct',\n    'conversionSymbol': ''},\n   {'time': 1581811200,\n    'close': 9929.31,\n    'high': 9929.99,\n    'low': 9853.02,\n    'open': 9904.72,\n    'volumefrom': 2019.62,\n    'volumeto': 19988989.54,\n    'conversionType': 'force_direct',\n    'conversionSymbol': ''},\n   {'time': 1581814800,\n    'close': 9931,\n    'high': 9940.11,\n    'low': 9910.03,\n    'open': 9929.31,\n    'volumefrom': 982.36,\n    'volumeto': 9752577.65,\n    'conversionType': 'force_direct',\n    'conversionSymbol': ''},\n   {'time': 1581818400,\n    'close': 10041.53,\n    'high': 10042.67,\n    'low': 9917.07,\n    'open': 9931,\n    'volumefrom': 2762.48,\n    'volumeto': 27580521.12,\n    'conversionType': 'force_direct',\n    'conversionSymbol': ''},\n   {'time': 1581822000,\n    'close': 10000.58,\n    'high': 10050,\n    'low': 9992.64,\n    'open': 10041.53,\n    'volumefrom': 1822.61,\n    'volumeto': 18270443.95,\n    'conversionType': 'force_direct',\n    'conversionSymbol': ''},\n   {'time': 1581825600,\n    'close': 10021.36,\n    'high': 10029.97,\n    'low': 9975,\n    'open': 10000.58,\n    'volumefrom': 1149.19,\n    'volumeto': 11494960.6,\n    'conversionType': 'force_direct',\n    'conversionSymbol': ''},\n   {'time': 1581829200,\n    'close': 9955.43,\n    'high': 10033.33,\n    'low': 9937,\n    'open': 10021.36,\n    'volumefrom': 1341.14,\n    'volumeto': 13381221.86,\n    'conversionType': 'force_direct',\n    'conversionSymbol': ''},\n   {'time': 1581832800,\n    'close': 9966.07,\n    'high': 9980,\n    'low': 9945.79,\n    'open': 9955.43,\n    'volumefrom': 866.69,\n    'volumeto': 8637756.57,\n    'conversionType': 'force_direct',\n    'conversionSymbol': ''},\n   {'time': 1581836400,\n    'close': 9959.51,\n    'high': 9984.45,\n    'low': 9955.55,\n    'open': 9966.07,\n    'volumefrom': 843.8,\n    'volumeto': 8416524.8,\n    'conversionType': 'force_direct',\n    'conversionSymbol': ''},\n   {'time': 1581840000,\n    'close': 9989.31,\n    'high': 10017,\n    'low': 9945.94,\n    'open': 9959.51,\n    'volumefrom': 1312.2,\n    'volumeto': 13089591.39,\n    'conversionType': 'force_direct',\n    'conversionSymbol': ''},\n   {'time': 1581843600,\n    'close': 9971.5,\n    'high': 10009.66,\n    'low': 9961.2,\n    'open': 9989.31,\n    'volumefrom': 1115.08,\n    'volumeto': 11139298.78,\n    'conversionType': 'force_direct',\n    'conversionSymbol': ''},\n   {'time': 1581847200,\n    'close': 9935.57,\n    'high': 9988.82,\n    'low': 9928.48,\n    'open': 9971.5,\n    'volumefrom': 1595.11,\n    'volumeto': 15893032.55,\n    'conversionType': 'force_direct',\n    'conversionSymbol': ''},\n   {'time': 1581850800,\n    'close': 9922.63,\n    'high': 9970.54,\n    'low': 9901.28,\n    'open': 9935.57,\n    'volumefrom': 1704.46,\n    'volumeto': 16943937.47,\n    'conversionType': 'force_direct',\n    'conversionSymbol': ''},\n   {'time': 1581854400,\n    'close': 9917.42,\n    'high': 9953.84,\n    'low': 9877.16,\n    'open': 9922.63,\n    'volumefrom': 2044.33,\n    'volumeto': 20280792.45,\n    'conversionType': 'force_direct',\n    'conversionSymbol': ''},\n   {'time': 1581858000,\n    'close': 9938.11,\n    'high': 9956.02,\n    'low': 9856.6,\n    'open': 9917.42,\n    'volumefrom': 3213.68,\n    'volumeto': 31827027.57,\n    'conversionType': 'force_direct',\n    'conversionSymbol': ''},\n   {'time': 1581861600,\n    'close': 9895.2,\n    'high': 9974.98,\n    'low': 9885.25,\n    'open': 9938.11,\n    'volumefrom': 2189.66,\n    'volumeto': 21734157.76,\n    'conversionType': 'force_direct',\n    'conversionSymbol': ''},\n   {'time': 1581865200,\n    'close': 9858.54,\n    'high': 9921.62,\n    'low': 9825.16,\n    'open': 9895.2,\n    'volumefrom': 3102.51,\n    'volumeto': 30632848.48,\n    'conversionType': 'force_direct',\n    'conversionSymbol': ''},\n   {'time': 1581868800,\n    'close': 9734.99,\n    'high': 9909,\n    'low': 9638.12,\n    'open': 9858.54,\n    'volumefrom': 8561.2,\n    'volumeto': 83578633.51,\n    'conversionType': 'force_direct',\n    'conversionSymbol': ''},\n   {'time': 1581872400,\n    'close': 9755.03,\n    'high': 9800,\n    'low': 9692.03,\n    'open': 9734.99,\n    'volumefrom': 3610.78,\n    'volumeto': 35243240.58,\n    'conversionType': 'force_direct',\n    'conversionSymbol': ''},\n   {'time': 1581876000,\n    'close': 9796.01,\n    'high': 9840.06,\n    'low': 9755.02,\n    'open': 9755.03,\n    'volumefrom': 2069.31,\n    'volumeto': 20284917.95,\n    'conversionType': 'force_direct',\n    'conversionSymbol': ''},\n   {'time': 1581879600,\n    'close': 9745.57,\n    'high': 9797.73,\n    'low': 9711.3,\n    'open': 9796.01,\n    'volumefrom': 2457.18,\n    'volumeto': 23974333.2,\n    'conversionType': 'force_direct',\n    'conversionSymbol': ''},\n   {'time': 1581883200,\n    'close': 9781.18,\n    'high': 9781.61,\n    'low': 9729.96,\n    'open': 9745.57,\n    'volumefrom': 1706.57,\n    'volumeto': 16644033.89,\n    'conversionType': 'force_direct',\n    'conversionSymbol': ''},\n   {'time': 1581886800,\n    'close': 9758.55,\n    'high': 9793.1,\n    'low': 9753.38,\n    'open': 9781.18,\n    'volumefrom': 1148.88,\n    'volumeto': 11226798.59,\n    'conversionType': 'force_direct',\n    'conversionSymbol': ''},\n   {'time': 1581890400,\n    'close': 9877.59,\n    'high': 9877.96,\n    'low': 9750.73,\n    'open': 9758.55,\n    'volumefrom': 1951.99,\n    'volumeto': 19170958.31,\n    'conversionType': 'force_direct',\n    'conversionSymbol': ''},\n   {'time': 1581894000,\n    'close': 9917.27,\n    'high': 9996.58,\n    'low': 9867.25,\n    'open': 9877.59,\n    'volumefrom': 4488,\n    'volumeto': 44617068.4,\n    'conversionType': 'force_direct',\n    'conversionSymbol': ''},\n   {'time': 1581897600,\n    'close': 9862.18,\n    'high': 9964.16,\n    'low': 9850,\n    'open': 9917.27,\n    'volumefrom': 2333.23,\n    'volumeto': 23105876.75,\n    'conversionType': 'force_direct',\n    'conversionSymbol': ''},\n   {'time': 1581901200,\n    'close': 9852.83,\n    'high': 9909.1,\n    'low': 9839.05,\n    'open': 9862.18,\n    'volumefrom': 1415.89,\n    'volumeto': 13985458.8,\n    'conversionType': 'force_direct',\n    'conversionSymbol': ''},\n   {'time': 1581904800,\n    'close': 9840.51,\n    'high': 9863.57,\n    'low': 9793.11,\n    'open': 9852.83,\n    'volumefrom': 1440.79,\n    'volumeto': 14163463.02,\n    'conversionType': 'force_direct',\n    'conversionSymbol': ''},\n   {'time': 1581908400,\n    'close': 9808.4,\n    'high': 9849.51,\n    'low': 9758.59,\n    'open': 9840.51,\n    'volumefrom': 1782.05,\n    'volumeto': 17478454.24,\n    'conversionType': 'force_direct',\n    'conversionSymbol': ''},\n   {'time': 1581912000,\n    'close': 9742.16,\n    'high': 9808.4,\n    'low': 9710,\n    'open': 9808.4,\n    'volumefrom': 3063.84,\n    'volumeto': 29890638.97,\n    'conversionType': 'force_direct',\n    'conversionSymbol': ''},\n   {'time': 1581915600,\n    'close': 9761.78,\n    'high': 9808.04,\n    'low': 9738.7,\n    'open': 9742.16,\n    'volumefrom': 1999.15,\n    'volumeto': 19537092.92,\n    'conversionType': 'force_direct',\n    'conversionSymbol': ''},\n   {'time': 1581919200,\n    'close': 9774.11,\n    'high': 9842.34,\n    'low': 9747.46,\n    'open': 9761.78,\n    'volumefrom': 1826.15,\n    'volumeto': 17881941.15,\n    'conversionType': 'force_direct',\n    'conversionSymbol': ''},\n   {'time': 1581922800,\n    'close': 9753.26,\n    'high': 9811.94,\n    'low': 9734.85,\n    'open': 9774.11,\n    'volumefrom': 1604.29,\n    'volumeto': 15679895.49,\n    'conversionType': 'force_direct',\n    'conversionSymbol': ''},\n   {'time': 1581926400,\n    'close': 9802.59,\n    'high': 9813.74,\n    'low': 9737.28,\n    'open': 9753.26,\n    'volumefrom': 1491.48,\n    'volumeto': 14575586.32,\n    'conversionType': 'force_direct',\n    'conversionSymbol': ''},\n   {'time': 1581930000,\n    'close': 9792.53,\n    'high': 9832.92,\n    'low': 9772.22,\n    'open': 9802.59,\n    'volumefrom': 1658.36,\n    'volumeto': 16263154.4,\n    'conversionType': 'force_direct',\n    'conversionSymbol': ''},\n   {'time': 1581933600,\n    'close': 9715.34,\n    'high': 9793.49,\n    'low': 9677.68,\n    'open': 9792.53,\n    'volumefrom': 3761.55,\n    'volumeto': 36602783.28,\n    'conversionType': 'force_direct',\n    'conversionSymbol': ''},\n   {'time': 1581937200,\n    'close': 9609.94,\n    'high': 9716.35,\n    'low': 9568,\n    'open': 9715.34,\n    'volumefrom': 7591.3,\n    'volumeto': 73184135.21,\n    'conversionType': 'force_direct',\n    'conversionSymbol': ''},\n   {'time': 1581940800,\n    'close': 9633.14,\n    'high': 9669.99,\n    'low': 9585.35,\n    'open': 9609.94,\n    'volumefrom': 5139.6,\n    'volumeto': 49520760.65,\n    'conversionType': 'force_direct',\n    'conversionSymbol': ''},\n   {'time': 1581944400,\n    'close': 9532.77,\n    'high': 9656.88,\n    'low': 9517.11,\n    'open': 9633.14,\n    'volumefrom': 3890.82,\n    'volumeto': 37255906.03,\n    'conversionType': 'force_direct',\n    'conversionSymbol': ''},\n   {'time': 1581948000,\n    'close': 9591.77,\n    'high': 9618.31,\n    'low': 9452.67,\n    'open': 9532.77,\n    'volumefrom': 6307.13,\n    'volumeto': 60065846.09,\n    'conversionType': 'force_direct',\n    'conversionSymbol': ''},\n   {'time': 1581951600,\n    'close': 9633.45,\n    'high': 9661.99,\n    'low': 9540.5,\n    'open': 9591.77,\n    'volumefrom': 3772.97,\n    'volumeto': 36235292.62,\n    'conversionType': 'force_direct',\n    'conversionSymbol': ''},\n   {'time': 1581955200,\n    'close': 9671.73,\n    'high': 9725.79,\n    'low': 9615.63,\n    'open': 9633.45,\n    'volumefrom': 3718.97,\n    'volumeto': 35946504.72,\n    'conversionType': 'force_direct',\n    'conversionSymbol': ''},\n   {'time': 1581958800,\n    'close': 9640.01,\n    'high': 9697.65,\n    'low': 9576.03,\n    'open': 9671.73,\n    'volumefrom': 2263.73,\n    'volumeto': 21809987.23,\n    'conversionType': 'force_direct',\n    'conversionSymbol': ''},\n   {'time': 1581962400,\n    'close': 9645.06,\n    'high': 9648.99,\n    'low': 9580,\n    'open': 9640.01,\n    'volumefrom': 1334.67,\n    'volumeto': 12836751.36,\n    'conversionType': 'force_direct',\n    'conversionSymbol': ''},\n   {'time': 1581966000,\n    'close': 9666.15,\n    'high': 9673.98,\n    'low': 9600,\n    'open': 9645.06,\n    'volumefrom': 1293.02,\n    'volumeto': 12470188.59,\n    'conversionType': 'force_direct',\n    'conversionSymbol': ''},\n   {'time': 1581969600,\n    'close': 9625.04,\n    'high': 9700,\n    'low': 9616.11,\n    'open': 9666.15,\n    'volumefrom': 1773.83,\n    'volumeto': 17131919.38,\n    'conversionType': 'force_direct',\n    'conversionSymbol': ''},\n   {'time': 1581973200,\n    'close': 9632.48,\n    'high': 9669,\n    'low': 9610,\n    'open': 9625.04,\n    'volumefrom': 926.51,\n    'volumeto': 8931831.76,\n    'conversionType': 'force_direct',\n    'conversionSymbol': ''},\n   {'time': 1581976800,\n    'close': 9630.1,\n    'high': 9664.02,\n    'low': 9607.05,\n    'open': 9632.48,\n    'volumefrom': 1215.27,\n    'volumeto': 11706845.01,\n    'conversionType': 'force_direct',\n    'conversionSymbol': ''},\n   {'time': 1581980400,\n    'close': 9706,\n    'high': 9727.41,\n    'low': 9613.12,\n    'open': 9630.1,\n    'volumefrom': 1445.54,\n    'volumeto': 13988072.22,\n    'conversionType': 'force_direct',\n    'conversionSymbol': ''},\n   {'time': 1581984000,\n    'close': 9660.87,\n    'high': 9715,\n    'low': 9624.7,\n    'open': 9706,\n    'volumefrom': 1330.62,\n    'volumeto': 12854722.62,\n    'conversionType': 'force_direct',\n    'conversionSymbol': ''},\n   {'time': 1581987600,\n    'close': 9710.65,\n    'high': 9743,\n    'low': 9660.83,\n    'open': 9660.87,\n    'volumefrom': 1822.59,\n    'volumeto': 17701969.22,\n    'conversionType': 'force_direct',\n    'conversionSymbol': ''},\n   {'time': 1581991200,\n    'close': 9714.29,\n    'high': 9759,\n    'low': 9703.78,\n    'open': 9710.65,\n    'volumefrom': 1375.31,\n    'volumeto': 13388571.67,\n    'conversionType': 'force_direct',\n    'conversionSymbol': ''},\n   {'time': 1581994800,\n    'close': 9724.82,\n    'high': 9745.92,\n    'low': 9675.6,\n    'open': 9714.29,\n    'volumefrom': 1556.2,\n    'volumeto': 15108105.69,\n    'conversionType': 'force_direct',\n    'conversionSymbol': ''},\n   {'time': 1581998400,\n    'close': 9800,\n    'high': 9800,\n    'low': 9720,\n    'open': 9724.82,\n    'volumefrom': 2083.45,\n    'volumeto': 20351603.18,\n    'conversionType': 'force_direct',\n    'conversionSymbol': ''},\n   {'time': 1582002000,\n    'close': 9785.74,\n    'high': 9810,\n    'low': 9768.01,\n    'open': 9800,\n    'volumefrom': 1718.48,\n    'volumeto': 16819732.71,\n    'conversionType': 'force_direct',\n    'conversionSymbol': ''},\n   {'time': 1582005600,\n    'close': 9775.48,\n    'high': 9810,\n    'low': 9750,\n    'open': 9785.74,\n    'volumefrom': 1809,\n    'volumeto': 17700406.36,\n    'conversionType': 'force_direct',\n    'conversionSymbol': ''},\n   {'time': 1582009200,\n    'close': 9790.58,\n    'high': 9815,\n    'low': 9763.3,\n    'open': 9775.48,\n    'volumefrom': 1450.6,\n    'volumeto': 14204395.3,\n    'conversionType': 'force_direct',\n    'conversionSymbol': ''},\n   {'time': 1582012800,\n    'close': 9741.61,\n    'high': 9794.99,\n    'low': 9740,\n    'open': 9790.58,\n    'volumefrom': 1727.81,\n    'volumeto': 16882434.2,\n    'conversionType': 'force_direct',\n    'conversionSymbol': ''},\n   {'time': 1582016400,\n    'close': 9694.15,\n    'high': 9749.91,\n    'low': 9662.72,\n    'open': 9741.61,\n    'volumefrom': 3161.18,\n    'volumeto': 30681300.51,\n    'conversionType': 'force_direct',\n    'conversionSymbol': ''},\n   {'time': 1582020000,\n    'close': 9731.41,\n    'high': 9744.99,\n    'low': 9631,\n    'open': 9694.15,\n    'volumefrom': 2712.63,\n    'volumeto': 26285388.33,\n    'conversionType': 'force_direct',\n    'conversionSymbol': ''},\n   {'time': 1582023600,\n    'close': 9702.27,\n    'high': 9756.97,\n    'low': 9678.94,\n    'open': 9731.41,\n    'volumefrom': 1900.26,\n    'volumeto': 18454977.52,\n    'conversionType': 'force_direct',\n    'conversionSymbol': ''},\n   {'time': 1582027200,\n    'close': 9656.92,\n    'high': 9704.58,\n    'low': 9638.11,\n    'open': 9702.27,\n    'volumefrom': 1818.59,\n    'volumeto': 17592075.38,\n    'conversionType': 'force_direct',\n    'conversionSymbol': ''},\n   {'time': 1582030800,\n    'close': 9627.27,\n    'high': 9669.85,\n    'low': 9576.01,\n    'open': 9656.92,\n    'volumefrom': 2780.75,\n    'volumeto': 26766358.25,\n    'conversionType': 'force_direct',\n    'conversionSymbol': ''},\n   {'time': 1582034400,\n    'close': 9696.65,\n    'high': 9718.01,\n    'low': 9627.27,\n    'open': 9627.27,\n    'volumefrom': 1875.98,\n    'volumeto': 18140227.29,\n    'conversionType': 'force_direct',\n    'conversionSymbol': ''},\n   {'time': 1582038000,\n    'close': 9830.68,\n    'high': 9875.51,\n    'low': 9695.74,\n    'open': 9696.65,\n    'volumefrom': 5915.67,\n    'volumeto': 57957159.49,\n    'conversionType': 'force_direct',\n    'conversionSymbol': ''},\n   {'time': 1582041600,\n    'close': 9918.91,\n    'high': 9924.42,\n    'low': 9815.9,\n    'open': 9830.68,\n    'volumefrom': 4148.43,\n    'volumeto': 40963098.63,\n    'conversionType': 'force_direct',\n    'conversionSymbol': ''},\n   {'time': 1582045200,\n    'close': 9946.38,\n    'high': 9952,\n    'low': 9877.35,\n    'open': 9918.91,\n    'volumefrom': 3561.84,\n    'volumeto': 35316527.85,\n    'conversionType': 'force_direct',\n    'conversionSymbol': ''},\n   {'time': 1582048800,\n    'close': 9985.73,\n    'high': 10048,\n    'low': 9946.38,\n    'open': 9946.38,\n    'volumefrom': 5047.5,\n    'volumeto': 50478951.77,\n    'conversionType': 'force_direct',\n    'conversionSymbol': ''},\n   {'time': 1582052400,\n    'close': 10043.49,\n    'high': 10048,\n    'low': 9973,\n    'open': 9985.73,\n    'volumefrom': 2300.46,\n    'volumeto': 23023189.82,\n    'conversionType': 'force_direct',\n    'conversionSymbol': ''},\n   {'time': 1582056000,\n    'close': 10155.01,\n    'high': 10163,\n    'low': 10038.23,\n    'open': 10043.49,\n    'volumefrom': 4221.97,\n    'volumeto': 42675909.95,\n    'conversionType': 'force_direct',\n    'conversionSymbol': ''},\n   {'time': 1582059600,\n    'close': 10134.71,\n    'high': 10250,\n    'low': 10036.72,\n    'open': 10155.01,\n    'volumefrom': 5099.8,\n    'volumeto': 51775339.69,\n    'conversionType': 'force_direct',\n    'conversionSymbol': ''},\n   {'time': 1582063200,\n    'close': 10168.26,\n    'high': 10174.54,\n    'low': 10067.19,\n    'open': 10134.71,\n    'volumefrom': 1782.62,\n    'volumeto': 18035556.03,\n    'conversionType': 'force_direct',\n    'conversionSymbol': ''},\n   {'time': 1582066800,\n    'close': 10164.71,\n    'high': 10206.94,\n    'low': 10136.64,\n    'open': 10168.26,\n    'volumefrom': 2589.14,\n    'volumeto': 26343235.99,\n    'conversionType': 'force_direct',\n    'conversionSymbol': ''},\n   {'time': 1582070400,\n    'close': 10102.41,\n    'high': 10186.35,\n    'low': 10079.25,\n    'open': 10164.71,\n    'volumefrom': 2060.45,\n    'volumeto': 20861544.55,\n    'conversionType': 'force_direct',\n    'conversionSymbol': ''},\n   {'time': 1582074000,\n    'close': 10112.83,\n    'high': 10149,\n    'low': 10101.97,\n    'open': 10102.41,\n    'volumefrom': 1209.33,\n    'volumeto': 12238579.04,\n    'conversionType': 'force_direct',\n    'conversionSymbol': ''},\n   {'time': 1582077600,\n    'close': 10150.74,\n    'high': 10166.66,\n    'low': 10110,\n    'open': 10112.83,\n    'volumefrom': 1312.63,\n    'volumeto': 13318528.18,\n    'conversionType': 'force_direct',\n    'conversionSymbol': ''},\n   {'time': 1582081200,\n    'close': 10149.63,\n    'high': 10173,\n    'low': 10125,\n    'open': 10150.74,\n    'volumefrom': 1104.31,\n    'volumeto': 11206484.87,\n    'conversionType': 'force_direct',\n    'conversionSymbol': ''},\n   {'time': 1582084800,\n    'close': 10111.65,\n    'high': 10164.93,\n    'low': 10089.24,\n    'open': 10149.63,\n    'volumefrom': 1697.83,\n    'volumeto': 17167260.96,\n    'conversionType': 'force_direct',\n    'conversionSymbol': ''},\n   {'time': 1582088400,\n    'close': 10118.55,\n    'high': 10134.7,\n    'low': 10085.36,\n    'open': 10111.65,\n    'volumefrom': 1338.38,\n    'volumeto': 13531418.97,\n    'conversionType': 'force_direct',\n    'conversionSymbol': ''},\n   {'time': 1582092000,\n    'close': 10069.02,\n    'high': 10118.66,\n    'low': 10044.68,\n    'open': 10118.55,\n    'volumefrom': 1578.26,\n    'volumeto': 15917972.53,\n    'conversionType': 'force_direct',\n    'conversionSymbol': ''},\n   {'time': 1582095600,\n    'close': 10059.3,\n    'high': 10089.37,\n    'low': 10027,\n    'open': 10069.02,\n    'volumefrom': 1911.01,\n    'volumeto': 19222067.09,\n    'conversionType': 'force_direct',\n    'conversionSymbol': ''},\n   ...]}}"
     },
     "metadata": {},
     "execution_count": 5
    }
   ],
   "source": [
    "print(type(r.json()))\n",
    "r.json()           #this can be decoded as a JSON object actually"
   ]
  },
  {
   "cell_type": "code",
   "execution_count": 6,
   "metadata": {
    "tags": []
   },
   "outputs": [
    {
     "output_type": "execute_result",
     "data": {
      "text/plain": "2001"
     },
     "metadata": {},
     "execution_count": 6
    }
   ],
   "source": [
    "response = r.json()\n",
    "len(response['Data']['Data'])"
   ]
  },
  {
   "cell_type": "code",
   "execution_count": 7,
   "metadata": {
    "tags": []
   },
   "outputs": [
    {
     "output_type": "stream",
     "name": "stdout",
     "text": "1578499200 -> 2020/01/08 16:00\n"
    }
   ],
   "source": [
    "frtime = response['Data']['Data'][0].get('time')\n",
    "print(frtime, '->', datetime.utcfromtimestamp(frtime).strftime('%Y/%m/%d %H:%M'))"
   ]
  },
  {
   "cell_type": "code",
   "execution_count": 8,
   "metadata": {},
   "outputs": [],
   "source": [
    "type(response['Data']['Data'])\n",
    "temp = pd.DataFrame(response['Data']['Data']).drop(['conversionType', 'conversionSymbol'], axis=1)"
   ]
  },
  {
   "cell_type": "code",
   "execution_count": 9,
   "metadata": {},
   "outputs": [
    {
     "output_type": "execute_result",
     "data": {
      "text/plain": "time            int64\nclose         float64\nhigh          float64\nlow           float64\nopen          float64\nvolumefrom    float64\nvolumeto      float64\ndtype: object"
     },
     "metadata": {},
     "execution_count": 9
    }
   ],
   "source": [
    "temp.dtypes"
   ]
  },
  {
   "cell_type": "code",
   "execution_count": 10,
   "metadata": {},
   "outputs": [
    {
     "output_type": "execute_result",
     "data": {
      "text/plain": "1578499200"
     },
     "metadata": {},
     "execution_count": 10
    }
   ],
   "source": [
    "temp.time.min()"
   ]
  },
  {
   "cell_type": "code",
   "execution_count": 11,
   "metadata": {
    "tags": []
   },
   "outputs": [
    {
     "output_type": "execute_result",
     "data": {
      "text/plain": "            time    close     high      low     open  volumefrom     volumeto\n0     1578499200  8115.00  8335.79  8050.00  8305.97    11085.20  90594598.57\n1     1578502800  8077.68  8123.98  8010.00  8115.00     6353.40  51249870.88\n2     1578506400  8053.70  8094.93  8035.01  8077.68     2715.55  21901861.64\n3     1578510000  7963.35  8069.73  7963.05  8053.70     3413.94  27360662.27\n4     1578513600  8046.03  8060.86  7870.00  7963.35     7871.33  62611504.41\n...          ...      ...      ...      ...      ...         ...          ...\n1996  1585684800  6467.50  6494.90  6447.75  6463.47     2503.51  16207519.69\n1997  1585688400  6442.61  6485.00  6420.00  6467.50     2112.04  13622726.48\n1998  1585692000  6431.55  6448.00  6420.64  6442.61     1197.65   7707041.79\n1999  1585695600  6410.44  6440.99  6386.89  6431.55     2279.88  14626241.96\n2000  1585699200  6305.12  6426.52  6239.34  6410.44     9061.28  57230360.58\n\n[2001 rows x 7 columns]",
      "text/html": "<div>\n<style scoped>\n    .dataframe tbody tr th:only-of-type {\n        vertical-align: middle;\n    }\n\n    .dataframe tbody tr th {\n        vertical-align: top;\n    }\n\n    .dataframe thead th {\n        text-align: right;\n    }\n</style>\n<table border=\"1\" class=\"dataframe\">\n  <thead>\n    <tr style=\"text-align: right;\">\n      <th></th>\n      <th>time</th>\n      <th>close</th>\n      <th>high</th>\n      <th>low</th>\n      <th>open</th>\n      <th>volumefrom</th>\n      <th>volumeto</th>\n    </tr>\n  </thead>\n  <tbody>\n    <tr>\n      <th>0</th>\n      <td>1578499200</td>\n      <td>8115.00</td>\n      <td>8335.79</td>\n      <td>8050.00</td>\n      <td>8305.97</td>\n      <td>11085.20</td>\n      <td>90594598.57</td>\n    </tr>\n    <tr>\n      <th>1</th>\n      <td>1578502800</td>\n      <td>8077.68</td>\n      <td>8123.98</td>\n      <td>8010.00</td>\n      <td>8115.00</td>\n      <td>6353.40</td>\n      <td>51249870.88</td>\n    </tr>\n    <tr>\n      <th>2</th>\n      <td>1578506400</td>\n      <td>8053.70</td>\n      <td>8094.93</td>\n      <td>8035.01</td>\n      <td>8077.68</td>\n      <td>2715.55</td>\n      <td>21901861.64</td>\n    </tr>\n    <tr>\n      <th>3</th>\n      <td>1578510000</td>\n      <td>7963.35</td>\n      <td>8069.73</td>\n      <td>7963.05</td>\n      <td>8053.70</td>\n      <td>3413.94</td>\n      <td>27360662.27</td>\n    </tr>\n    <tr>\n      <th>4</th>\n      <td>1578513600</td>\n      <td>8046.03</td>\n      <td>8060.86</td>\n      <td>7870.00</td>\n      <td>7963.35</td>\n      <td>7871.33</td>\n      <td>62611504.41</td>\n    </tr>\n    <tr>\n      <th>...</th>\n      <td>...</td>\n      <td>...</td>\n      <td>...</td>\n      <td>...</td>\n      <td>...</td>\n      <td>...</td>\n      <td>...</td>\n    </tr>\n    <tr>\n      <th>1996</th>\n      <td>1585684800</td>\n      <td>6467.50</td>\n      <td>6494.90</td>\n      <td>6447.75</td>\n      <td>6463.47</td>\n      <td>2503.51</td>\n      <td>16207519.69</td>\n    </tr>\n    <tr>\n      <th>1997</th>\n      <td>1585688400</td>\n      <td>6442.61</td>\n      <td>6485.00</td>\n      <td>6420.00</td>\n      <td>6467.50</td>\n      <td>2112.04</td>\n      <td>13622726.48</td>\n    </tr>\n    <tr>\n      <th>1998</th>\n      <td>1585692000</td>\n      <td>6431.55</td>\n      <td>6448.00</td>\n      <td>6420.64</td>\n      <td>6442.61</td>\n      <td>1197.65</td>\n      <td>7707041.79</td>\n    </tr>\n    <tr>\n      <th>1999</th>\n      <td>1585695600</td>\n      <td>6410.44</td>\n      <td>6440.99</td>\n      <td>6386.89</td>\n      <td>6431.55</td>\n      <td>2279.88</td>\n      <td>14626241.96</td>\n    </tr>\n    <tr>\n      <th>2000</th>\n      <td>1585699200</td>\n      <td>6305.12</td>\n      <td>6426.52</td>\n      <td>6239.34</td>\n      <td>6410.44</td>\n      <td>9061.28</td>\n      <td>57230360.58</td>\n    </tr>\n  </tbody>\n</table>\n<p>2001 rows × 7 columns</p>\n</div>"
     },
     "metadata": {},
     "execution_count": 11
    }
   ],
   "source": [
    "temp"
   ]
  },
  {
   "cell_type": "code",
   "execution_count": 12,
   "metadata": {},
   "outputs": [],
   "source": [
    "# Resources:\n",
    "# https://www.geeksforgeeks.org/different-ways-to-create-pandas-dataframe/#:~:text=Pandas%20DataFrame%20can%20be%20created%20by%20passing%20lists%20of%20dictionaries,dictionary%20keys%20taken%20as%20columns.&text=%23%20Pandas%20DataFrame%20by%20lists%20of%20dicts.;\n",
    "# \"merge, join, concatenate and compare\": https://pandas.pydata.org/pandas-docs/stable/user_guide/merging.html;\n",
    "# \"pandas.concat()\" function: https://pandas.pydata.org/pandas-docs/stable/reference/api/pandas.concat.html;\n",
    "\n",
    "\n",
    "result_df = pd.DataFrame()\n",
    "next_endtime = req_end_epoch     #initialize \"end time\"\n",
    "while True:\n",
    "    r = requests.get(\"https://min-api.cryptocompare.com/data/v2/histohour?\", params={'fsym':'BTC', 'tsym': 'USDT', 'limit': 2000, 'toTs': str(next_endtime), 'e': 'binance'})\n",
    "    response = r.json()\n",
    "    current_df = pd.DataFrame(response['Data']['Data']).drop(['conversionType', 'conversionSymbol'], axis=1)\n",
    "    result_df = pd.concat([current_df, result_df], axis=0, ignore_index=True)   #stack the current df with result df along the y-axis\n",
    "    current_starttime = result_df.time.min()   #check the smallest value in the 'time' column of df as the start time of the current iteration\n",
    "    next_endtime = current_starttime - 3600    #the end time for the next round is 'one hour'(3600 Unix timestamp units) before the start time of the current iteration\n",
    "    if current_starttime <= req_start_epoch:\n",
    "        break\n"
   ]
  },
  {
   "cell_type": "code",
   "execution_count": 13,
   "metadata": {},
   "outputs": [
    {
     "output_type": "execute_result",
     "data": {
      "text/plain": "             time    close     high      low     open  volumefrom     volumeto\n0      1484852400     0.00     0.00     0.00     0.00        0.00         0.00\n1      1484856000     0.00     0.00     0.00     0.00        0.00         0.00\n2      1484859600     0.00     0.00     0.00     0.00        0.00         0.00\n3      1484863200     0.00     0.00     0.00     0.00        0.00         0.00\n4      1484866800     0.00     0.00     0.00     0.00        0.00         0.00\n...           ...      ...      ...      ...      ...         ...          ...\n28009  1585684800  6467.50  6494.90  6447.75  6463.47     2503.51  16207519.69\n28010  1585688400  6442.61  6485.00  6420.00  6467.50     2112.04  13622726.48\n28011  1585692000  6431.55  6448.00  6420.64  6442.61     1197.65   7707041.79\n28012  1585695600  6410.44  6440.99  6386.89  6431.55     2279.88  14626241.96\n28013  1585699200  6305.12  6426.52  6239.34  6410.44     9061.28  57230360.58\n\n[28014 rows x 7 columns]",
      "text/html": "<div>\n<style scoped>\n    .dataframe tbody tr th:only-of-type {\n        vertical-align: middle;\n    }\n\n    .dataframe tbody tr th {\n        vertical-align: top;\n    }\n\n    .dataframe thead th {\n        text-align: right;\n    }\n</style>\n<table border=\"1\" class=\"dataframe\">\n  <thead>\n    <tr style=\"text-align: right;\">\n      <th></th>\n      <th>time</th>\n      <th>close</th>\n      <th>high</th>\n      <th>low</th>\n      <th>open</th>\n      <th>volumefrom</th>\n      <th>volumeto</th>\n    </tr>\n  </thead>\n  <tbody>\n    <tr>\n      <th>0</th>\n      <td>1484852400</td>\n      <td>0.00</td>\n      <td>0.00</td>\n      <td>0.00</td>\n      <td>0.00</td>\n      <td>0.00</td>\n      <td>0.00</td>\n    </tr>\n    <tr>\n      <th>1</th>\n      <td>1484856000</td>\n      <td>0.00</td>\n      <td>0.00</td>\n      <td>0.00</td>\n      <td>0.00</td>\n      <td>0.00</td>\n      <td>0.00</td>\n    </tr>\n    <tr>\n      <th>2</th>\n      <td>1484859600</td>\n      <td>0.00</td>\n      <td>0.00</td>\n      <td>0.00</td>\n      <td>0.00</td>\n      <td>0.00</td>\n      <td>0.00</td>\n    </tr>\n    <tr>\n      <th>3</th>\n      <td>1484863200</td>\n      <td>0.00</td>\n      <td>0.00</td>\n      <td>0.00</td>\n      <td>0.00</td>\n      <td>0.00</td>\n      <td>0.00</td>\n    </tr>\n    <tr>\n      <th>4</th>\n      <td>1484866800</td>\n      <td>0.00</td>\n      <td>0.00</td>\n      <td>0.00</td>\n      <td>0.00</td>\n      <td>0.00</td>\n      <td>0.00</td>\n    </tr>\n    <tr>\n      <th>...</th>\n      <td>...</td>\n      <td>...</td>\n      <td>...</td>\n      <td>...</td>\n      <td>...</td>\n      <td>...</td>\n      <td>...</td>\n    </tr>\n    <tr>\n      <th>28009</th>\n      <td>1585684800</td>\n      <td>6467.50</td>\n      <td>6494.90</td>\n      <td>6447.75</td>\n      <td>6463.47</td>\n      <td>2503.51</td>\n      <td>16207519.69</td>\n    </tr>\n    <tr>\n      <th>28010</th>\n      <td>1585688400</td>\n      <td>6442.61</td>\n      <td>6485.00</td>\n      <td>6420.00</td>\n      <td>6467.50</td>\n      <td>2112.04</td>\n      <td>13622726.48</td>\n    </tr>\n    <tr>\n      <th>28011</th>\n      <td>1585692000</td>\n      <td>6431.55</td>\n      <td>6448.00</td>\n      <td>6420.64</td>\n      <td>6442.61</td>\n      <td>1197.65</td>\n      <td>7707041.79</td>\n    </tr>\n    <tr>\n      <th>28012</th>\n      <td>1585695600</td>\n      <td>6410.44</td>\n      <td>6440.99</td>\n      <td>6386.89</td>\n      <td>6431.55</td>\n      <td>2279.88</td>\n      <td>14626241.96</td>\n    </tr>\n    <tr>\n      <th>28013</th>\n      <td>1585699200</td>\n      <td>6305.12</td>\n      <td>6426.52</td>\n      <td>6239.34</td>\n      <td>6410.44</td>\n      <td>9061.28</td>\n      <td>57230360.58</td>\n    </tr>\n  </tbody>\n</table>\n<p>28014 rows × 7 columns</p>\n</div>"
     },
     "metadata": {},
     "execution_count": 13
    }
   ],
   "source": [
    "result_df"
   ]
  },
  {
   "cell_type": "code",
   "execution_count": 14,
   "metadata": {},
   "outputs": [],
   "source": [
    "#result_df.loc[result_df['time']==1502942400,]"
   ]
  },
  {
   "cell_type": "code",
   "execution_count": 15,
   "metadata": {},
   "outputs": [
    {
     "output_type": "execute_result",
     "data": {
      "text/plain": "         close     high      low     open   volume   baseVolume  \\\n1709      0.00     0.00     0.00     0.00     0.00         0.00   \n1710      0.00     0.00     0.00     0.00     0.00         0.00   \n1711      0.00     0.00     0.00     0.00     0.00         0.00   \n1712      0.00     0.00     0.00     0.00     0.00         0.00   \n1713      0.00     0.00     0.00     0.00     0.00         0.00   \n...        ...      ...      ...      ...      ...          ...   \n28009  6467.50  6494.90  6447.75  6463.47  2503.51  16207519.69   \n28010  6442.61  6485.00  6420.00  6467.50  2112.04  13622726.48   \n28011  6431.55  6448.00  6420.64  6442.61  1197.65   7707041.79   \n28012  6410.44  6440.99  6386.89  6431.55  2279.88  14626241.96   \n28013  6305.12  6426.52  6239.34  6410.44  9061.28  57230360.58   \n\n               datetime  \n1709   2017/04/01 00:00  \n1710   2017/04/01 01:00  \n1711   2017/04/01 02:00  \n1712   2017/04/01 03:00  \n1713   2017/04/01 04:00  \n...                 ...  \n28009  2020/03/31 20:00  \n28010  2020/03/31 21:00  \n28011  2020/03/31 22:00  \n28012  2020/03/31 23:00  \n28013  2020/04/01 00:00  \n\n[26305 rows x 7 columns]",
      "text/html": "<div>\n<style scoped>\n    .dataframe tbody tr th:only-of-type {\n        vertical-align: middle;\n    }\n\n    .dataframe tbody tr th {\n        vertical-align: top;\n    }\n\n    .dataframe thead th {\n        text-align: right;\n    }\n</style>\n<table border=\"1\" class=\"dataframe\">\n  <thead>\n    <tr style=\"text-align: right;\">\n      <th></th>\n      <th>close</th>\n      <th>high</th>\n      <th>low</th>\n      <th>open</th>\n      <th>volume</th>\n      <th>baseVolume</th>\n      <th>datetime</th>\n    </tr>\n  </thead>\n  <tbody>\n    <tr>\n      <th>1709</th>\n      <td>0.00</td>\n      <td>0.00</td>\n      <td>0.00</td>\n      <td>0.00</td>\n      <td>0.00</td>\n      <td>0.00</td>\n      <td>2017/04/01 00:00</td>\n    </tr>\n    <tr>\n      <th>1710</th>\n      <td>0.00</td>\n      <td>0.00</td>\n      <td>0.00</td>\n      <td>0.00</td>\n      <td>0.00</td>\n      <td>0.00</td>\n      <td>2017/04/01 01:00</td>\n    </tr>\n    <tr>\n      <th>1711</th>\n      <td>0.00</td>\n      <td>0.00</td>\n      <td>0.00</td>\n      <td>0.00</td>\n      <td>0.00</td>\n      <td>0.00</td>\n      <td>2017/04/01 02:00</td>\n    </tr>\n    <tr>\n      <th>1712</th>\n      <td>0.00</td>\n      <td>0.00</td>\n      <td>0.00</td>\n      <td>0.00</td>\n      <td>0.00</td>\n      <td>0.00</td>\n      <td>2017/04/01 03:00</td>\n    </tr>\n    <tr>\n      <th>1713</th>\n      <td>0.00</td>\n      <td>0.00</td>\n      <td>0.00</td>\n      <td>0.00</td>\n      <td>0.00</td>\n      <td>0.00</td>\n      <td>2017/04/01 04:00</td>\n    </tr>\n    <tr>\n      <th>...</th>\n      <td>...</td>\n      <td>...</td>\n      <td>...</td>\n      <td>...</td>\n      <td>...</td>\n      <td>...</td>\n      <td>...</td>\n    </tr>\n    <tr>\n      <th>28009</th>\n      <td>6467.50</td>\n      <td>6494.90</td>\n      <td>6447.75</td>\n      <td>6463.47</td>\n      <td>2503.51</td>\n      <td>16207519.69</td>\n      <td>2020/03/31 20:00</td>\n    </tr>\n    <tr>\n      <th>28010</th>\n      <td>6442.61</td>\n      <td>6485.00</td>\n      <td>6420.00</td>\n      <td>6467.50</td>\n      <td>2112.04</td>\n      <td>13622726.48</td>\n      <td>2020/03/31 21:00</td>\n    </tr>\n    <tr>\n      <th>28011</th>\n      <td>6431.55</td>\n      <td>6448.00</td>\n      <td>6420.64</td>\n      <td>6442.61</td>\n      <td>1197.65</td>\n      <td>7707041.79</td>\n      <td>2020/03/31 22:00</td>\n    </tr>\n    <tr>\n      <th>28012</th>\n      <td>6410.44</td>\n      <td>6440.99</td>\n      <td>6386.89</td>\n      <td>6431.55</td>\n      <td>2279.88</td>\n      <td>14626241.96</td>\n      <td>2020/03/31 23:00</td>\n    </tr>\n    <tr>\n      <th>28013</th>\n      <td>6305.12</td>\n      <td>6426.52</td>\n      <td>6239.34</td>\n      <td>6410.44</td>\n      <td>9061.28</td>\n      <td>57230360.58</td>\n      <td>2020/04/01 00:00</td>\n    </tr>\n  </tbody>\n</table>\n<p>26305 rows × 7 columns</p>\n</div>"
     },
     "metadata": {},
     "execution_count": 15
    }
   ],
   "source": [
    "# Resources:\n",
    "# \"df.rename()\" method: https://pandas.pydata.org/pandas-docs/stable/reference/api/pandas.DataFrame.rename.html;\n",
    "# datetime converting int Unix timestamp to readable string datetime format (based on UTC): https://stackoverflow.com/questions/3682748/converting-unix-timestamp-string-to-readable-date;\n",
    "# convert unix time to readable date in pandas dataframe (notice using \"lambda\"): https://stackoverflow.com/questions/19231871/convert-unix-time-to-readable-date-in-pandas-dataframe;\n",
    "\n",
    "\n",
    "result_df.sort_values(by=\"time\", inplace=True)     #(just in case)\n",
    "result_df = result_df[result_df['time'] >= req_start_epoch]\n",
    "result_df = result_df.rename(columns={'time':'datetime', 'volumefrom':'volume', 'volumeto':'baseVolume'})\n",
    "result_df.datetime = result_df.datetime.apply(lambda d: datetime.utcfromtimestamp(d).strftime(\"%Y/%m/%d %H:%M\"))\n",
    "result_df = result_df[[\"close\", \"high\", \"low\", \"open\", \"volume\", \"baseVolume\", \"datetime\"]]\n",
    "result_df"
   ]
  },
  {
   "cell_type": "code",
   "execution_count": 16,
   "metadata": {},
   "outputs": [
    {
     "output_type": "execute_result",
     "data": {
      "text/plain": "close         float64\nhigh          float64\nlow           float64\nopen          float64\nvolume        float64\nbaseVolume    float64\ndatetime       object\ndtype: object"
     },
     "metadata": {},
     "execution_count": 16
    }
   ],
   "source": [
    "result_df.dtypes"
   ]
  },
  {
   "cell_type": "code",
   "execution_count": 18,
   "metadata": {},
   "outputs": [],
   "source": [
    "result_df.to_csv(\"/Users/baixiao/Desktop/output.csv\", index=False)"
   ]
  },
  {
   "cell_type": "code",
   "execution_count": null,
   "metadata": {},
   "outputs": [],
   "source": []
  }
 ]
}