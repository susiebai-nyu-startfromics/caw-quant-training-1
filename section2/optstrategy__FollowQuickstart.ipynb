{
 "metadata": {
  "language_info": {
   "codemirror_mode": {
    "name": "ipython",
    "version": 3
   },
   "file_extension": ".py",
   "mimetype": "text/x-python",
   "name": "python",
   "nbconvert_exporter": "python",
   "pygments_lexer": "ipython3",
   "version": "3.7.7-final"
  },
  "orig_nbformat": 2,
  "kernelspec": {
   "name": "Python 3.7.7 64-bit ('cryptoalgowheel-S2': conda)",
   "display_name": "Python 3.7.7 64-bit ('cryptoalgowheel-S2': conda)",
   "metadata": {
    "interpreter": {
     "hash": "98c52a0100ece2bad51af4eca15b1d63f28e59f13e2f363876bc8388e45f1936"
    }
   }
  }
 },
 "nbformat": 4,
 "nbformat_minor": 2,
 "cells": [
  {
   "cell_type": "code",
   "execution_count": 1,
   "metadata": {},
   "outputs": [],
   "source": [
    "# first, REMEMBER to activate cryptoalgowheel-S2 environment!"
   ]
  },
  {
   "cell_type": "code",
   "execution_count": 2,
   "metadata": {},
   "outputs": [],
   "source": [
    "import datetime\n",
    "import os\n",
    "import sys\n",
    "\n",
    "import backtrader as bt\n",
    "import numpy as np\n",
    "import pandas as pd\n",
    "import matplotlib\n",
    "import PyQt5"
   ]
  },
  {
   "cell_type": "code",
   "execution_count": 3,
   "metadata": {},
   "outputs": [],
   "source": [
    "class TestStrategy(bt.Strategy):\n",
    "    params = (\n",
    "        (\"maperiod\", 15),\n",
    "        (\"printlog\", False),          #(by default, the parameter defines here \"no printing log\")\n",
    "    )\n",
    "\n",
    "    def log(self, txt, dt=None, doprint=False):     #(by default don't print log here)\n",
    "        if self.params.printlog or doprint:\n",
    "            dt = dt or self.datas[0].datetime.date(0)\n",
    "            print(\"%s, %s\" % (dt.isoformat(), txt))\n",
    "\n",
    "    def __init__(self):\n",
    "        self.dataclose = self.datas[0].close\n",
    "\n",
    "        self.order = None      #(just for keeping track of pending order here)\n",
    "        self.buyprice = None\n",
    "        self.buycomm = None\n",
    "\n",
    "        # add a SimpleMovingAverage indicator\n",
    "        self.sma = bt.indicators.SimpleMovingAverage(self.datas[0], period = self.params.maperiod)\n",
    "\n",
    "    def notify_order(self, order):\n",
    "        if order.status in [order.Submitted, order.Accepted]:\n",
    "            return\n",
    "\n",
    "        if order.status in [order.Completed]:\n",
    "            if order.isbuy():\n",
    "                self.log(\"BUY EXECUTED, Price: %.2f, Cost: %.2f, Comm: %.2f\" %\n",
    "                (order.executed.price, order.executed.value, order.executed.comm))\n",
    "            \n",
    "                self.buyprice = order.executed.price\n",
    "                self.buycomm = order.executed.comm\n",
    "            else:\n",
    "                self.log(\"SELL EXECUTED, Price: %.2f, Cost: %.2f, Comm: %.2f\" %\n",
    "                (order.executed.price, order.executed.value, order.executed.comm))\n",
    "\n",
    "            self.bar_executed = len(self)\n",
    "            \n",
    "        elif order.status in [order.Canceled, order.Margin, order.Rejected]:\n",
    "            self.log(\"Order Canceled/Margin/Rejected\")\n",
    "\n",
    "        self.order = None     #(*Remember to MARK that \"there's no more pending order now\"!!!)\n",
    "\n",
    "    def notify_trade(self, trade):\n",
    "        if not trade.isclosed:\n",
    "            return\n",
    "\n",
    "        self.log(\"OPERATION PROFIT, GROSS %.2f, NET %.2f\" % (trade.pnl, trade.pnlcomm))\n",
    "    \n",
    "    def next(self):\n",
    "        self.log(\"Close, %.2f\" % self.dataclose[0])\n",
    "\n",
    "        if self.order:         #(*\"If there's still order pending!!\" - don't do anything)\n",
    "            return\n",
    "\n",
    "        if not self.position:         #if not in the market yet (no \"position\" yet)\n",
    "            if self.dataclose[0] > self.sma[0]:\n",
    "                #BUY!\n",
    "                self.log(\"BUY CREATE, %.2f\" % self.dataclose[0])\n",
    "                self.order = self.buy()\n",
    "        else:           #(\"already in the market\")\n",
    "            if self.dataclose[0] < self.sma[0]:\n",
    "                #SELL!\n",
    "                self.log(\"SELL CREATE, %.2f\" % self.dataclose[0])\n",
    "                self.order = self.sell()\n",
    "\n",
    "    #*** added \"Strategy hook\" here - \"stop\" method, in order to record the portfolio final net value of each optimization round:  \n",
    "    def stop(self):\n",
    "        self.log(\"(MA Period %2d) Ending Value %.2f\" %\n",
    "        (self.params.maperiod, self.broker.getvalue()), doprint=True)   #**parameter passed into the \"self.log\" method to PRINT the log message by the end of each optimization round here!!\n",
    "      "
   ]
  },
  {
   "cell_type": "code",
   "execution_count": 4,
   "metadata": {},
   "outputs": [
    {
     "output_type": "stream",
     "name": "stdout",
     "text": [
      "2000-12-29, (MA Period 10) Ending Value 877.50\n",
      "2000-12-29, (MA Period 11) Ending Value 878.70\n",
      "2000-12-29, (MA Period 12) Ending Value 839.80\n",
      "2000-12-29, (MA Period 13) Ending Value 899.90\n",
      "2000-12-29, (MA Period 14) Ending Value 902.50\n",
      "2000-12-29, (MA Period 15) Ending Value 975.60\n",
      "2000-12-29, (MA Period 16) Ending Value 961.90\n",
      "2000-12-29, (MA Period 17) Ending Value 952.60\n",
      "2000-12-29, (MA Period 18) Ending Value 1011.00\n",
      "2000-12-29, (MA Period 19) Ending Value 1039.40\n",
      "2000-12-29, (MA Period 20) Ending Value 1073.20\n",
      "2000-12-29, (MA Period 21) Ending Value 1055.10\n",
      "2000-12-29, (MA Period 22) Ending Value 1057.60\n",
      "2000-12-29, (MA Period 23) Ending Value 1021.50\n",
      "2000-12-29, (MA Period 24) Ending Value 1018.80\n",
      "2000-12-29, (MA Period 25) Ending Value 1012.40\n",
      "2000-12-29, (MA Period 26) Ending Value 998.30\n",
      "2000-12-29, (MA Period 27) Ending Value 983.10\n",
      "2000-12-29, (MA Period 28) Ending Value 976.90\n",
      "2000-12-29, (MA Period 29) Ending Value 984.20\n",
      "2000-12-29, (MA Period 30) Ending Value 980.80\n"
     ]
    }
   ],
   "source": [
    "if __name__ == \"__main__\":\n",
    "    cerebro = bt.Cerebro()\n",
    "\n",
    "    #*** add an \"optimizing strategy\" object!!!\n",
    "    strats = cerebro.optstrategy(TestStrategy, maperiod=range(10, 31))      #***optimizing \"grid\" here: parameter \"maperiod\" value ranges from 10 to 31 (one by one)\n",
    "\n",
    "    #!!! WARNING: REVISE THE \"data\" PATH CODE BELOW!!!!!\n",
    "    datapath = \"./data/orcl-1995-2014.txt\"\n",
    "\n",
    "    data = bt.feeds.YahooFinanceCSVData(\n",
    "        dataname = datapath,\n",
    "        fromdate = datetime.datetime(2000, 1, 1),\n",
    "        todate = datetime.datetime(2000, 12, 31),\n",
    "        reverse = False)          #(\"reverse=False\": the data file already in ascending date order)\n",
    "\n",
    "    cerebro.adddata(data)\n",
    "\n",
    "    cerebro.broker.setcash(1000.0)\n",
    "    cerebro.addsizer(bt.sizers.FixedSize, stake=10)\n",
    "\n",
    "    cerebro.broker.setcommission(commission=0.0)\n",
    "\n",
    "    cerebro.run(maxcpus=1)          #* \"maxcpus\" parameter for \"cerebro.run()\" function\": how many cores to use simultaneously for optimization (default \"None\" - all available cores)\n"
   ]
  },
  {
   "cell_type": "code",
   "execution_count": null,
   "metadata": {},
   "outputs": [],
   "source": []
  }
 ]
}