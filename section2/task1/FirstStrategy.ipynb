{
 "cells": [
  {
   "cell_type": "code",
   "execution_count": 1,
   "metadata": {},
   "outputs": [],
   "source": [
    "# Important: need to install \"backtrader\" package/module from PyPI first!\n",
    "\n",
    "# first, activate cryptoalgowheel conda environment\n",
    "# then: /anaconda3/envs/cryptoalgowheel/bin/pip install backtrader[plotting]"
   ]
  },
  {
   "cell_type": "code",
   "execution_count": 2,
   "metadata": {},
   "outputs": [],
   "source": [
    "# *** IMPORTANT: need to install \"PyQt5\" package from PyPI in order to plot!!!\n",
    "\n",
    "# first, activate cryptoalgowheel conda environment\n",
    "# then: /anaconda3/envs/cryptoalgowheel/bin/pip install PyQt5"
   ]
  },
  {
   "cell_type": "code",
   "execution_count": 3,
   "metadata": {},
   "outputs": [],
   "source": [
    "# ***** NOTICE: the \"matplotlib\" package in the running environment must be lower than version \"3.2.2\" (otherwise cannot plot)!!!"
   ]
  },
  {
   "cell_type": "markdown",
   "metadata": {},
   "source": [
    "The dataset used here is \"orcl-2014.txt\" from the \"datas\" folder of the Github repository."
   ]
  },
  {
   "cell_type": "code",
   "execution_count": 4,
   "metadata": {},
   "outputs": [],
   "source": [
    "from __future__ import (absolute_import, division, print_function, unicode_literals)\n",
    "\n",
    "import backtrader as bt\n",
    "import matplotlib\n",
    "#import matplotlib.pyplot as plt\n",
    "import PyQt5\n",
    "\n",
    "import datetime\n",
    "import os.path\n",
    "import sys\n",
    "\n"
   ]
  },
  {
   "cell_type": "code",
   "execution_count": 5,
   "metadata": {},
   "outputs": [
    {
     "output_type": "stream",
     "name": "stdout",
     "text": [
      "1.9.76.123\n3.2.2\n"
     ]
    }
   ],
   "source": [
    "print(bt.__version__)\n",
    "print(matplotlib.__version__)"
   ]
  },
  {
   "cell_type": "code",
   "execution_count": 6,
   "metadata": {},
   "outputs": [
    {
     "output_type": "stream",
     "name": "stdout",
     "text": [
      "../data/orcl-2014.txt\nStarting Portfolio Value: 100000.00\n2014-01-02, Close, 35.17\n2014-01-03, Close, 35.07\n2014-01-06, Close, 34.93\n2014-01-07, Close, 35.29\n2014-01-08, Close, 35.17\n2014-01-08, BUY CREATE, 35.17\n2014-01-09, BUY EXECUTED, 35.29\n2014-01-09, Close, 35.10\n2014-01-10, Close, 35.53\n2014-01-13, Close, 35.19\n2014-01-14, Close, 35.62\n2014-01-15, Close, 35.81\n2014-01-15, SELL CREATE, 35.81\n2014-01-16, SELL EXECUTED, 35.79\n2014-01-16, Close, 35.70\n2014-01-17, Close, 35.62\n2014-01-21, Close, 35.53\n2014-01-22, Close, 35.41\n2014-01-23, Close, 35.57\n2014-01-24, Close, 34.60\n2014-01-27, Close, 34.02\n2014-01-28, Close, 34.59\n2014-01-29, Close, 34.47\n2014-01-30, Close, 34.87\n2014-01-31, Close, 34.40\n2014-02-03, Close, 33.41\n2014-02-04, Close, 33.53\n2014-02-05, Close, 33.52\n2014-02-06, Close, 34.23\n2014-02-07, Close, 34.67\n2014-02-10, Close, 34.77\n2014-02-11, Close, 35.28\n2014-02-12, Close, 35.49\n2014-02-13, Close, 35.82\n2014-02-14, Close, 35.41\n2014-02-18, Close, 35.40\n2014-02-19, Close, 35.31\n2014-02-20, Close, 35.68\n2014-02-21, Close, 35.52\n2014-02-24, Close, 35.56\n2014-02-25, Close, 35.66\n2014-02-26, Close, 35.89\n2014-02-27, Close, 36.31\n2014-02-28, Close, 36.46\n2014-03-03, Close, 35.90\n2014-03-04, Close, 36.74\n2014-03-05, Close, 36.83\n2014-03-06, Close, 36.79\n2014-03-07, Close, 36.20\n2014-03-10, Close, 36.23\n2014-03-11, Close, 36.27\n2014-03-12, Close, 35.91\n2014-03-13, Close, 35.10\n2014-03-14, Close, 35.05\n2014-03-17, Close, 35.63\n2014-03-18, Close, 36.21\n2014-03-19, Close, 35.94\n2014-03-20, Close, 35.77\n2014-03-21, Close, 34.96\n2014-03-24, Close, 35.59\n2014-03-25, Close, 35.80\n2014-03-26, Close, 36.43\n2014-03-27, Close, 36.58\n2014-03-28, Close, 36.89\n2014-03-31, Close, 38.14\n2014-04-01, Close, 38.68\n2014-04-02, Close, 38.35\n2014-04-03, Close, 37.64\n2014-04-04, Close, 37.38\n2014-04-07, Close, 36.91\n2014-04-08, Close, 37.63\n2014-04-09, Close, 38.23\n2014-04-10, Close, 37.21\n2014-04-11, Close, 36.45\n2014-04-14, Close, 37.00\n2014-04-15, Close, 37.15\n2014-04-16, Close, 37.52\n2014-04-17, Close, 37.48\n2014-04-21, Close, 37.63\n2014-04-22, Close, 37.83\n2014-04-23, Close, 37.21\n2014-04-24, Close, 37.17\n2014-04-25, Close, 36.89\n2014-04-28, Close, 37.52\n2014-04-29, Close, 37.51\n2014-04-30, Close, 38.23\n2014-05-01, Close, 38.31\n2014-05-02, Close, 38.16\n2014-05-05, Close, 38.53\n2014-05-06, Close, 38.35\n2014-05-07, Close, 38.39\n2014-05-08, Close, 38.22\n2014-05-09, Close, 38.38\n2014-05-12, Close, 39.23\n2014-05-13, Close, 39.17\n2014-05-14, Close, 39.16\n2014-05-15, Close, 39.21\n2014-05-16, Close, 38.98\n2014-05-19, Close, 39.42\n2014-05-20, Close, 38.86\n2014-05-21, Close, 38.97\n2014-05-22, Close, 38.82\n2014-05-23, Close, 39.41\n2014-05-27, Close, 39.19\n2014-05-28, Close, 38.87\n2014-05-29, Close, 39.46\n2014-05-30, Close, 39.29\n2014-06-02, Close, 39.24\n2014-06-03, Close, 39.10\n2014-06-04, Close, 38.99\n2014-06-05, Close, 39.37\n2014-06-06, Close, 39.86\n2014-06-09, Close, 39.93\n2014-06-10, Close, 39.89\n2014-06-11, Close, 39.80\n2014-06-12, Close, 39.27\n2014-06-13, Close, 39.40\n2014-06-16, Close, 39.41\n2014-06-17, Close, 39.57\n2014-06-18, Close, 40.03\n2014-06-19, Close, 39.75\n2014-06-20, Close, 38.17\n2014-06-23, Close, 38.43\n2014-06-24, Close, 38.11\n2014-06-25, Close, 37.83\n2014-06-26, Close, 37.54\n2014-06-27, Close, 37.90\n2014-06-30, Close, 37.90\n2014-07-01, Close, 38.12\n2014-07-02, Close, 38.29\n2014-07-03, Close, 38.66\n2014-07-07, Close, 38.35\n2014-07-08, Close, 38.04\n2014-07-09, Close, 37.76\n2014-07-10, Close, 37.81\n2014-07-11, Close, 37.63\n2014-07-14, Close, 37.97\n2014-07-15, Close, 38.02\n2014-07-16, Close, 37.76\n2014-07-17, Close, 37.43\n2014-07-18, Close, 37.51\n2014-07-21, Close, 37.52\n2014-07-22, Close, 37.92\n2014-07-23, Close, 37.80\n2014-07-24, Close, 37.95\n2014-07-25, Close, 37.82\n2014-07-28, Close, 38.03\n2014-07-29, Close, 38.10\n2014-07-30, Close, 38.41\n2014-07-31, Close, 37.88\n2014-08-01, Close, 37.15\n2014-08-04, Close, 37.61\n2014-08-05, Close, 37.47\n2014-08-06, Close, 37.66\n2014-08-07, Close, 37.20\n2014-08-08, Close, 37.46\n2014-08-11, Close, 37.44\n2014-08-12, Close, 37.42\n2014-08-13, Close, 37.74\n2014-08-14, Close, 37.72\n2014-08-15, Close, 37.77\n2014-08-18, Close, 38.11\n2014-08-19, Close, 38.83\n2014-08-20, Close, 38.68\n2014-08-21, Close, 38.99\n2014-08-22, Close, 39.04\n2014-08-25, Close, 39.14\n2014-08-26, Close, 39.24\n2014-08-27, Close, 39.05\n2014-08-28, Close, 38.70\n2014-08-29, Close, 38.95\n2014-09-02, Close, 39.07\n2014-09-03, Close, 39.29\n2014-09-04, Close, 38.97\n2014-09-05, Close, 38.70\n2014-09-08, Close, 38.11\n2014-09-09, Close, 38.18\n2014-09-10, Close, 38.18\n2014-09-11, Close, 38.15\n2014-09-12, Close, 37.98\n2014-09-15, Close, 38.13\n2014-09-16, Close, 38.63\n2014-09-17, Close, 38.58\n2014-09-18, Close, 38.97\n2014-09-19, Close, 37.32\n2014-09-22, Close, 37.12\n2014-09-23, Close, 36.41\n2014-09-24, Close, 36.97\n2014-09-25, Close, 36.35\n2014-09-26, Close, 36.53\n2014-09-29, Close, 36.05\n2014-09-30, Close, 35.90\n2014-10-01, Close, 35.72\n2014-10-02, Close, 35.89\n2014-10-03, Close, 36.47\n2014-10-06, Close, 36.76\n2014-10-07, Close, 36.18\n2014-10-08, Close, 36.71\n2014-10-09, Close, 36.44\n2014-10-10, Close, 35.84\n2014-10-13, Close, 35.96\n2014-10-14, Close, 36.18\n2014-10-15, Close, 36.03\n2014-10-16, Close, 35.33\n2014-10-17, Close, 35.62\n2014-10-20, Close, 35.56\n2014-10-21, Close, 36.08\n2014-10-22, Close, 35.41\n2014-10-23, Close, 35.96\n2014-10-24, Close, 36.43\n2014-10-27, Close, 36.15\n2014-10-28, Close, 36.36\n2014-10-29, Close, 36.29\n2014-10-30, Close, 36.22\n2014-10-31, Close, 36.73\n2014-11-03, Close, 36.68\n2014-11-04, Close, 36.81\n2014-11-05, Close, 36.96\n2014-11-06, Close, 37.45\n2014-11-07, Close, 37.57\n2014-11-10, Close, 38.05\n2014-11-11, Close, 38.07\n2014-11-12, Close, 37.76\n2014-11-13, Close, 38.31\n2014-11-14, Close, 38.42\n2014-11-17, Close, 38.72\n2014-11-18, Close, 38.81\n2014-11-19, Close, 38.49\n2014-11-20, Close, 38.49\n2014-11-21, Close, 38.98\n2014-11-24, Close, 38.97\n2014-11-25, Close, 38.71\n2014-11-26, Close, 39.39\n2014-11-28, Close, 39.89\n2014-12-01, Close, 39.58\n2014-12-02, Close, 39.68\n2014-12-03, Close, 39.57\n2014-12-04, Close, 39.41\n2014-12-05, Close, 39.44\n2014-12-08, Close, 38.92\n2014-12-09, Close, 39.39\n2014-12-10, Close, 38.49\n2014-12-11, Close, 38.34\n2014-12-12, Close, 37.58\n2014-12-15, Close, 38.67\n2014-12-16, Close, 38.22\n2014-12-17, Close, 38.72\n2014-12-18, Close, 42.66\n2014-12-19, Close, 43.27\n2014-12-22, Close, 42.94\n2014-12-23, Close, 43.28\n2014-12-24, Close, 43.49\n2014-12-26, Close, 43.37\n2014-12-29, Close, 42.91\n2014-12-30, Close, 42.65\nFinal Portfolio Value: 100000.50\n"
     ]
    }
   ],
   "source": [
    "class TestStrategy(bt.Strategy):\n",
    "    def log(self, txt, dt=None):      #standard log entry print format\n",
    "        dt = dt or self.datas[0].datetime.date(0)\n",
    "        print(\"%s, %s\" % (dt.isoformat(), txt))\n",
    "\n",
    "    def __init__(self):\n",
    "        #keep a reference to the \"close\" Line object\n",
    "        self.dataclose = self.datas[0].close\n",
    "\n",
    "        self.order = None\n",
    "    \n",
    "    def notify_order(self, order):\n",
    "        if order.status in [order.Submitted, order.Accepted]:\n",
    "            return\n",
    "\n",
    "        if order.status in [order.Completed]:\n",
    "            if order.isbuy():\n",
    "                self.log(\"BUY EXECUTED, %.2f\" % order.executed.price)\n",
    "            elif order.issell():\n",
    "                self.log(\"SELL EXECUTED, %.2f\" % order.executed.price)\n",
    "        elif order.status in [order.Canceled, order.Margin, order.Rejected]:\n",
    "            self.log(\"Order Canceled / Margin / Rejected!\")\n",
    "\n",
    "        self.order = None      #signal no pending order now (after execution)\n",
    "\n",
    "    def next(self):\n",
    "        self.log(\"Close, %.2f\" % self.dataclose[0])\n",
    "\n",
    "        if len(self) == 5:  #Suppose we would have a first Buy on the 5th bar\n",
    "            self.log(\"BUY CREATE, %.2f\" % self.dataclose[0])\n",
    "            self.order = self.buy()\n",
    "        if len(self) == 10:  #Suppose we would then have a first Sell on the 10th bar\n",
    "            self.log(\"SELL CREATE, %.2f\" % self.dataclose[0])\n",
    "            self.order = self.sell()\n",
    "\n",
    "\n",
    "if __name__ == '__main__':\n",
    "    cerebro = bt.Cerebro()\n",
    "\n",
    "    cerebro.addstrategy(TestStrategy)\n",
    "\n",
    "    #modpath = os.path.dirname(os.path.abspath(sys.argv[0]))\n",
    "    #datapath = os.path.join(modpath, '../data/orcl-2014.txt')\n",
    "    datapath = \"../data/orcl-2014.txt\"\n",
    "    #print(modpath)\n",
    "    print(datapath)\n",
    "\n",
    "    data = bt.feeds.YahooFinanceCSVData(dataname=datapath, fromdate=datetime.datetime(2014, 1, 2), todate=datetime.datetime(2014, 12, 31), reverse=False)    #*! \"reverse\" parameter could be set to \"False\"(default \"False\") as the pre-downloaded YahooFinance format data has already the right ascending date order\n",
    "\n",
    "    cerebro.adddata(data)\n",
    "    cerebro.broker.setcash(100000.0)     #set initial balance in the trading account\n",
    "    #Suppose: no Commission in this case\n",
    "\n",
    "    print(\"Starting Portfolio Value: %.2f\" % cerebro.broker.getvalue())\n",
    "\n",
    "    cerebro.run()\n",
    "\n",
    "    print(\"Final Portfolio Value: %.2f\" % cerebro.broker.getvalue())\n",
    "    \n",
    "    #***!!!NOTICE use \"Qt5Agg\" matplotlib backend!!!\n",
    "    matplotlib.use(\"Qt5Agg\")\n",
    "    #plt.switch_backend(\"Qt5Agg\")\n",
    "    cerebro.plot(height=30, iplot=False)\n",
    "    #plt.show()"
   ]
  },
  {
   "cell_type": "code",
   "execution_count": 7,
   "metadata": {},
   "outputs": [
    {
     "output_type": "stream",
     "name": "stdout",
     "text": [
      "../data/orcl-2014.txt\nStarting Portfolio Value: 1000.00\n2014-01-08, Close, 35.17\n2014-01-08, BUY CREATE, 35.17\n2014-01-09, BUY EXECUTED, Price: 35.29, Cost: 352.90, Stake: 10.00, Commission: 0.00\n2014-01-09, Close, 35.10\n2014-01-09, SELL CREATE, 35.10\n2014-01-10, SELL EXECUTED, Price: 35.19, Cost: 352.90, Stake: -10.00, Commission: 0.00\n2014-01-10, OPERATION PROFIT, GROSS -1.00, NET -1.00\n2014-01-10, Close, 35.53\n2014-01-10, BUY CREATE, 35.53\n2014-01-13, BUY EXECUTED, Price: 35.38, Cost: 353.80, Stake: 10.00, Commission: 0.00\n2014-01-13, Close, 35.19\n2014-01-13, SELL CREATE, 35.19\n2014-01-14, SELL EXECUTED, Price: 35.22, Cost: 353.80, Stake: -10.00, Commission: 0.00\n2014-01-14, OPERATION PROFIT, GROSS -1.60, NET -1.60\n2014-01-14, Close, 35.62\n2014-01-14, BUY CREATE, 35.62\n2014-01-15, BUY EXECUTED, Price: 35.61, Cost: 356.10, Stake: 10.00, Commission: 0.00\n2014-01-15, Close, 35.81\n2014-01-16, Close, 35.70\n2014-01-17, Close, 35.62\n2014-01-21, Close, 35.53\n2014-01-21, SELL CREATE, 35.53\n2014-01-22, SELL EXECUTED, Price: 35.46, Cost: 356.10, Stake: -10.00, Commission: 0.00\n2014-01-22, OPERATION PROFIT, GROSS -1.50, NET -1.50\n2014-01-22, Close, 35.41\n2014-01-23, Close, 35.57\n2014-01-23, BUY CREATE, 35.57\n2014-01-24, BUY EXECUTED, Price: 35.35, Cost: 353.50, Stake: 10.00, Commission: 0.00\n2014-01-24, Close, 34.60\n2014-01-24, SELL CREATE, 34.60\n2014-01-27, SELL EXECUTED, Price: 34.74, Cost: 353.50, Stake: -10.00, Commission: 0.00\n2014-01-27, OPERATION PROFIT, GROSS -6.10, NET -6.10\n2014-01-27, Close, 34.02\n2014-01-28, Close, 34.59\n2014-01-29, Close, 34.47\n2014-01-30, Close, 34.87\n2014-01-30, BUY CREATE, 34.87\n2014-01-31, BUY EXECUTED, Price: 34.52, Cost: 345.20, Stake: 10.00, Commission: 0.00\n2014-01-31, Close, 34.40\n2014-01-31, SELL CREATE, 34.40\n2014-02-03, SELL EXECUTED, Price: 34.58, Cost: 345.20, Stake: -10.00, Commission: 0.00\n2014-02-03, OPERATION PROFIT, GROSS 0.60, NET 0.60\n2014-02-03, Close, 33.41\n2014-02-04, Close, 33.53\n2014-02-05, Close, 33.52\n2014-02-06, Close, 34.23\n2014-02-06, BUY CREATE, 34.23\n2014-02-07, BUY EXECUTED, Price: 34.38, Cost: 343.80, Stake: 10.00, Commission: 0.00\n2014-02-07, Close, 34.67\n2014-02-10, Close, 34.77\n2014-02-11, Close, 35.28\n2014-02-12, Close, 35.49\n2014-02-13, Close, 35.82\n2014-02-14, Close, 35.41\n2014-02-18, Close, 35.40\n2014-02-18, SELL CREATE, 35.40\n2014-02-19, SELL EXECUTED, Price: 35.27, Cost: 343.80, Stake: -10.00, Commission: 0.00\n2014-02-19, OPERATION PROFIT, GROSS 8.90, NET 8.90\n2014-02-19, Close, 35.31\n2014-02-20, Close, 35.68\n2014-02-20, BUY CREATE, 35.68\n2014-02-21, BUY EXECUTED, Price: 35.73, Cost: 357.30, Stake: 10.00, Commission: 0.00\n2014-02-21, Close, 35.52\n2014-02-24, Close, 35.56\n2014-02-25, Close, 35.66\n2014-02-26, Close, 35.89\n2014-02-27, Close, 36.31\n2014-02-28, Close, 36.46\n2014-03-03, Close, 35.90\n2014-03-03, SELL CREATE, 35.90\n2014-03-04, SELL EXECUTED, Price: 36.49, Cost: 357.30, Stake: -10.00, Commission: 0.00\n2014-03-04, OPERATION PROFIT, GROSS 7.60, NET 7.60\n2014-03-04, Close, 36.74\n2014-03-04, BUY CREATE, 36.74\n2014-03-05, BUY EXECUTED, Price: 36.74, Cost: 367.40, Stake: 10.00, Commission: 0.00\n2014-03-05, Close, 36.83\n2014-03-06, Close, 36.79\n2014-03-07, Close, 36.20\n2014-03-07, SELL CREATE, 36.20\n2014-03-10, SELL EXECUTED, Price: 36.19, Cost: 367.40, Stake: -10.00, Commission: 0.00\n2014-03-10, OPERATION PROFIT, GROSS -5.50, NET -5.50\n2014-03-10, Close, 36.23\n2014-03-11, Close, 36.27\n2014-03-12, Close, 35.91\n2014-03-13, Close, 35.10\n2014-03-14, Close, 35.05\n2014-03-17, Close, 35.63\n2014-03-17, BUY CREATE, 35.63\n2014-03-18, BUY EXECUTED, Price: 35.77, Cost: 357.70, Stake: 10.00, Commission: 0.00\n2014-03-18, Close, 36.21\n2014-03-19, Close, 35.94\n2014-03-20, Close, 35.77\n2014-03-21, Close, 34.96\n2014-03-21, SELL CREATE, 34.96\n2014-03-24, SELL EXECUTED, Price: 34.95, Cost: 357.70, Stake: -10.00, Commission: 0.00\n2014-03-24, OPERATION PROFIT, GROSS -8.20, NET -8.20\n2014-03-24, Close, 35.59\n2014-03-25, Close, 35.80\n2014-03-25, BUY CREATE, 35.80\n2014-03-26, BUY EXECUTED, Price: 35.80, Cost: 358.00, Stake: 10.00, Commission: 0.00\n2014-03-26, Close, 36.43\n2014-03-27, Close, 36.58\n2014-03-28, Close, 36.89\n2014-03-31, Close, 38.14\n2014-04-01, Close, 38.68\n2014-04-02, Close, 38.35\n2014-04-03, Close, 37.64\n2014-04-03, SELL CREATE, 37.64\n2014-04-04, SELL EXECUTED, Price: 37.96, Cost: 358.00, Stake: -10.00, Commission: 0.00\n2014-04-04, OPERATION PROFIT, GROSS 21.60, NET 21.60\n2014-04-04, Close, 37.38\n2014-04-07, Close, 36.91\n2014-04-08, Close, 37.63\n2014-04-08, BUY CREATE, 37.63\n2014-04-09, BUY EXECUTED, Price: 37.84, Cost: 378.40, Stake: 10.00, Commission: 0.00\n2014-04-09, Close, 38.23\n2014-04-10, Close, 37.21\n2014-04-10, SELL CREATE, 37.21\n2014-04-11, SELL EXECUTED, Price: 36.94, Cost: 378.40, Stake: -10.00, Commission: 0.00\n2014-04-11, OPERATION PROFIT, GROSS -9.00, NET -9.00\n2014-04-11, Close, 36.45\n2014-04-14, Close, 37.00\n2014-04-15, Close, 37.15\n2014-04-16, Close, 37.52\n2014-04-16, BUY CREATE, 37.52\n2014-04-17, BUY EXECUTED, Price: 37.37, Cost: 373.70, Stake: 10.00, Commission: 0.00\n2014-04-17, Close, 37.48\n2014-04-21, Close, 37.63\n2014-04-22, Close, 37.83\n2014-04-23, Close, 37.21\n2014-04-23, SELL CREATE, 37.21\n2014-04-24, SELL EXECUTED, Price: 37.18, Cost: 373.70, Stake: -10.00, Commission: 0.00\n2014-04-24, OPERATION PROFIT, GROSS -1.90, NET -1.90\n2014-04-24, Close, 37.17\n2014-04-25, Close, 36.89\n2014-04-28, Close, 37.52\n2014-04-28, BUY CREATE, 37.52\n2014-04-29, BUY EXECUTED, Price: 37.64, Cost: 376.40, Stake: 10.00, Commission: 0.00\n2014-04-29, Close, 37.51\n2014-04-30, Close, 38.23\n2014-05-01, Close, 38.31\n2014-05-02, Close, 38.16\n2014-05-05, Close, 38.53\n2014-05-06, Close, 38.35\n2014-05-07, Close, 38.39\n2014-05-08, Close, 38.22\n2014-05-08, SELL CREATE, 38.22\n2014-05-09, SELL EXECUTED, Price: 38.15, Cost: 376.40, Stake: -10.00, Commission: 0.00\n2014-05-09, OPERATION PROFIT, GROSS 5.10, NET 5.10\n2014-05-09, Close, 38.38\n2014-05-09, BUY CREATE, 38.38\n2014-05-12, BUY EXECUTED, Price: 38.54, Cost: 385.40, Stake: 10.00, Commission: 0.00\n2014-05-12, Close, 39.23\n2014-05-13, Close, 39.17\n2014-05-14, Close, 39.16\n2014-05-15, Close, 39.21\n2014-05-16, Close, 38.98\n2014-05-16, SELL CREATE, 38.98\n2014-05-19, SELL EXECUTED, Price: 38.79, Cost: 385.40, Stake: -10.00, Commission: 0.00\n2014-05-19, OPERATION PROFIT, GROSS 2.50, NET 2.50\n2014-05-19, Close, 39.42\n2014-05-19, BUY CREATE, 39.42\n2014-05-20, BUY EXECUTED, Price: 39.34, Cost: 393.40, Stake: 10.00, Commission: 0.00\n2014-05-20, Close, 38.86\n2014-05-20, SELL CREATE, 38.86\n2014-05-21, SELL EXECUTED, Price: 38.96, Cost: 393.40, Stake: -10.00, Commission: 0.00\n2014-05-21, OPERATION PROFIT, GROSS -3.80, NET -3.80\n2014-05-21, Close, 38.97\n2014-05-22, Close, 38.82\n2014-05-23, Close, 39.41\n2014-05-23, BUY CREATE, 39.41\n2014-05-27, BUY EXECUTED, Price: 39.52, Cost: 395.20, Stake: 10.00, Commission: 0.00\n2014-05-27, Close, 39.19\n2014-05-28, Close, 38.87\n2014-05-28, SELL CREATE, 38.87\n2014-05-29, SELL EXECUTED, Price: 39.08, Cost: 395.20, Stake: -10.00, Commission: 0.00\n2014-05-29, OPERATION PROFIT, GROSS -4.40, NET -4.40\n2014-05-29, Close, 39.46\n2014-05-29, BUY CREATE, 39.46\n2014-05-30, BUY EXECUTED, Price: 39.35, Cost: 393.50, Stake: 10.00, Commission: 0.00\n2014-05-30, Close, 39.29\n2014-06-02, Close, 39.24\n2014-06-03, Close, 39.10\n2014-06-03, SELL CREATE, 39.10\n2014-06-04, SELL EXECUTED, Price: 39.08, Cost: 393.50, Stake: -10.00, Commission: 0.00\n2014-06-04, OPERATION PROFIT, GROSS -2.70, NET -2.70\n2014-06-04, Close, 38.99\n2014-06-05, Close, 39.37\n2014-06-05, BUY CREATE, 39.37\n2014-06-06, BUY EXECUTED, Price: 39.54, Cost: 395.40, Stake: 10.00, Commission: 0.00\n2014-06-06, Close, 39.86\n2014-06-09, Close, 39.93\n2014-06-10, Close, 39.89\n2014-06-11, Close, 39.80\n2014-06-12, Close, 39.27\n2014-06-12, SELL CREATE, 39.27\n2014-06-13, SELL EXECUTED, Price: 39.32, Cost: 395.40, Stake: -10.00, Commission: 0.00\n2014-06-13, OPERATION PROFIT, GROSS -2.20, NET -2.20\n2014-06-13, Close, 39.40\n2014-06-16, Close, 39.41\n2014-06-17, Close, 39.57\n2014-06-17, BUY CREATE, 39.57\n2014-06-18, BUY EXECUTED, Price: 39.63, Cost: 396.30, Stake: 10.00, Commission: 0.00\n2014-06-18, Close, 40.03\n2014-06-19, Close, 39.75\n2014-06-20, Close, 38.17\n2014-06-20, SELL CREATE, 38.17\n2014-06-23, SELL EXECUTED, Price: 38.27, Cost: 396.30, Stake: -10.00, Commission: 0.00\n2014-06-23, OPERATION PROFIT, GROSS -13.60, NET -13.60\n2014-06-23, Close, 38.43\n2014-06-24, Close, 38.11\n2014-06-25, Close, 37.83\n2014-06-26, Close, 37.54\n2014-06-27, Close, 37.90\n2014-06-30, Close, 37.90\n2014-06-30, BUY CREATE, 37.90\n2014-07-01, BUY EXECUTED, Price: 37.79, Cost: 377.90, Stake: 10.00, Commission: 0.00\n2014-07-01, Close, 38.12\n2014-07-02, Close, 38.29\n2014-07-03, Close, 38.66\n2014-07-07, Close, 38.35\n2014-07-08, Close, 38.04\n2014-07-08, SELL CREATE, 38.04\n2014-07-09, SELL EXECUTED, Price: 38.08, Cost: 377.90, Stake: -10.00, Commission: 0.00\n2014-07-09, OPERATION PROFIT, GROSS 2.90, NET 2.90\n2014-07-09, Close, 37.76\n2014-07-10, Close, 37.81\n2014-07-11, Close, 37.63\n2014-07-14, Close, 37.97\n2014-07-14, BUY CREATE, 37.97\n2014-07-15, BUY EXECUTED, Price: 37.87, Cost: 378.70, Stake: 10.00, Commission: 0.00\n2014-07-15, Close, 38.02\n2014-07-16, Close, 37.76\n2014-07-16, SELL CREATE, 37.76\n2014-07-17, SELL EXECUTED, Price: 37.71, Cost: 378.70, Stake: -10.00, Commission: 0.00\n2014-07-17, OPERATION PROFIT, GROSS -1.60, NET -1.60\n2014-07-17, Close, 37.43\n2014-07-18, Close, 37.51\n2014-07-21, Close, 37.52\n2014-07-22, Close, 37.92\n2014-07-22, BUY CREATE, 37.92\n2014-07-23, BUY EXECUTED, Price: 37.92, Cost: 379.20, Stake: 10.00, Commission: 0.00\n2014-07-23, Close, 37.80\n2014-07-24, Close, 37.95\n2014-07-25, Close, 37.82\n2014-07-28, Close, 38.03\n2014-07-29, Close, 38.10\n2014-07-30, Close, 38.41\n2014-07-31, Close, 37.88\n2014-07-31, SELL CREATE, 37.88\n2014-08-01, SELL EXECUTED, Price: 37.69, Cost: 379.20, Stake: -10.00, Commission: 0.00\n2014-08-01, OPERATION PROFIT, GROSS -2.30, NET -2.30\n2014-08-01, Close, 37.15\n2014-08-04, Close, 37.61\n2014-08-05, Close, 37.47\n2014-08-06, Close, 37.66\n2014-08-06, BUY CREATE, 37.66\n2014-08-07, BUY EXECUTED, Price: 37.79, Cost: 377.90, Stake: 10.00, Commission: 0.00\n2014-08-07, Close, 37.20\n2014-08-07, SELL CREATE, 37.20\n2014-08-08, SELL EXECUTED, Price: 37.26, Cost: 377.90, Stake: -10.00, Commission: 0.00\n2014-08-08, OPERATION PROFIT, GROSS -5.30, NET -5.30\n2014-08-08, Close, 37.46\n2014-08-11, Close, 37.44\n2014-08-12, Close, 37.42\n2014-08-13, Close, 37.74\n2014-08-13, BUY CREATE, 37.74\n2014-08-14, BUY EXECUTED, Price: 37.78, Cost: 377.80, Stake: 10.00, Commission: 0.00\n2014-08-14, Close, 37.72\n2014-08-15, Close, 37.77\n2014-08-18, Close, 38.11\n2014-08-19, Close, 38.83\n2014-08-20, Close, 38.68\n2014-08-21, Close, 38.99\n2014-08-22, Close, 39.04\n2014-08-25, Close, 39.14\n2014-08-26, Close, 39.24\n2014-08-27, Close, 39.05\n2014-08-27, SELL CREATE, 39.05\n2014-08-28, SELL EXECUTED, Price: 39.08, Cost: 377.80, Stake: -10.00, Commission: 0.00\n2014-08-28, OPERATION PROFIT, GROSS 13.00, NET 13.00\n2014-08-28, Close, 38.70\n2014-08-29, Close, 38.95\n2014-09-02, Close, 39.07\n2014-09-02, BUY CREATE, 39.07\n2014-09-03, BUY EXECUTED, Price: 39.20, Cost: 392.00, Stake: 10.00, Commission: 0.00\n2014-09-03, Close, 39.29\n2014-09-04, Close, 38.97\n2014-09-04, SELL CREATE, 38.97\n2014-09-05, SELL EXECUTED, Price: 39.02, Cost: 392.00, Stake: -10.00, Commission: 0.00\n2014-09-05, OPERATION PROFIT, GROSS -1.80, NET -1.80\n2014-09-05, Close, 38.70\n2014-09-08, Close, 38.11\n2014-09-09, Close, 38.18\n2014-09-10, Close, 38.18\n2014-09-11, Close, 38.15\n2014-09-12, Close, 37.98\n2014-09-15, Close, 38.13\n2014-09-15, BUY CREATE, 38.13\n2014-09-16, BUY EXECUTED, Price: 38.27, Cost: 382.70, Stake: 10.00, Commission: 0.00\n2014-09-16, Close, 38.63\n2014-09-17, Close, 38.58\n2014-09-18, Close, 38.97\n2014-09-19, Close, 37.32\n2014-09-19, SELL CREATE, 37.32\n2014-09-22, SELL EXECUTED, Price: 37.21, Cost: 382.70, Stake: -10.00, Commission: 0.00\n2014-09-22, OPERATION PROFIT, GROSS -10.60, NET -10.60\n2014-09-22, Close, 37.12\n2014-09-23, Close, 36.41\n2014-09-24, Close, 36.97\n2014-09-25, Close, 36.35\n2014-09-26, Close, 36.53\n2014-09-29, Close, 36.05\n2014-09-30, Close, 35.90\n2014-10-01, Close, 35.72\n2014-10-02, Close, 35.89\n2014-10-03, Close, 36.47\n2014-10-03, BUY CREATE, 36.47\n2014-10-06, BUY EXECUTED, Price: 36.66, Cost: 366.60, Stake: 10.00, Commission: 0.00\n2014-10-06, Close, 36.76\n2014-10-07, Close, 36.18\n2014-10-07, SELL CREATE, 36.18\n2014-10-08, SELL EXECUTED, Price: 36.52, Cost: 366.60, Stake: -10.00, Commission: 0.00\n2014-10-08, OPERATION PROFIT, GROSS -1.40, NET -1.40\n2014-10-08, Close, 36.71\n2014-10-08, BUY CREATE, 36.71\n2014-10-09, BUY EXECUTED, Price: 36.68, Cost: 366.80, Stake: 10.00, Commission: 0.00\n2014-10-09, Close, 36.44\n2014-10-09, SELL CREATE, 36.44\n2014-10-10, SELL EXECUTED, Price: 36.37, Cost: 366.80, Stake: -10.00, Commission: 0.00\n2014-10-10, OPERATION PROFIT, GROSS -3.10, NET -3.10\n2014-10-10, Close, 35.84\n2014-10-13, Close, 35.96\n2014-10-14, Close, 36.18\n2014-10-15, Close, 36.03\n2014-10-16, Close, 35.33\n2014-10-17, Close, 35.62\n2014-10-20, Close, 35.56\n2014-10-21, Close, 36.08\n2014-10-21, BUY CREATE, 36.08\n2014-10-22, BUY EXECUTED, Price: 36.09, Cost: 360.90, Stake: 10.00, Commission: 0.00\n2014-10-22, Close, 35.41\n2014-10-22, SELL CREATE, 35.41\n2014-10-23, SELL EXECUTED, Price: 35.82, Cost: 360.90, Stake: -10.00, Commission: 0.00\n2014-10-23, OPERATION PROFIT, GROSS -2.70, NET -2.70\n2014-10-23, Close, 35.96\n2014-10-23, BUY CREATE, 35.96\n2014-10-24, BUY EXECUTED, Price: 36.05, Cost: 360.50, Stake: 10.00, Commission: 0.00\n2014-10-24, Close, 36.43\n2014-10-27, Close, 36.15\n2014-10-28, Close, 36.36\n2014-10-29, Close, 36.29\n2014-10-30, Close, 36.22\n2014-10-30, SELL CREATE, 36.22\n2014-10-31, SELL EXECUTED, Price: 36.57, Cost: 360.50, Stake: -10.00, Commission: 0.00\n2014-10-31, OPERATION PROFIT, GROSS 5.20, NET 5.20\n2014-10-31, Close, 36.73\n2014-10-31, BUY CREATE, 36.73\n2014-11-03, BUY EXECUTED, Price: 36.71, Cost: 367.10, Stake: 10.00, Commission: 0.00\n2014-11-03, Close, 36.68\n2014-11-04, Close, 36.81\n2014-11-05, Close, 36.96\n2014-11-06, Close, 37.45\n2014-11-07, Close, 37.57\n2014-11-10, Close, 38.05\n2014-11-11, Close, 38.07\n2014-11-12, Close, 37.76\n2014-11-12, SELL CREATE, 37.76\n2014-11-13, SELL EXECUTED, Price: 37.79, Cost: 367.10, Stake: -10.00, Commission: 0.00\n2014-11-13, OPERATION PROFIT, GROSS 10.80, NET 10.80\n2014-11-13, Close, 38.31\n2014-11-13, BUY CREATE, 38.31\n2014-11-14, BUY EXECUTED, Price: 38.44, Cost: 384.40, Stake: 10.00, Commission: 0.00\n2014-11-14, Close, 38.42\n2014-11-17, Close, 38.72\n2014-11-18, Close, 38.81\n2014-11-19, Close, 38.49\n2014-11-19, SELL CREATE, 38.49\n2014-11-20, SELL EXECUTED, Price: 38.30, Cost: 384.40, Stake: -10.00, Commission: 0.00\n2014-11-20, OPERATION PROFIT, GROSS -1.40, NET -1.40\n2014-11-20, Close, 38.49\n2014-11-21, Close, 38.98\n2014-11-21, BUY CREATE, 38.98\n2014-11-24, BUY EXECUTED, Price: 39.03, Cost: 390.30, Stake: 10.00, Commission: 0.00\n2014-11-24, Close, 38.97\n2014-11-25, Close, 38.71\n2014-11-25, SELL CREATE, 38.71\n2014-11-26, SELL EXECUTED, Price: 38.74, Cost: 390.30, Stake: -10.00, Commission: 0.00\n2014-11-26, OPERATION PROFIT, GROSS -2.90, NET -2.90\n2014-11-26, Close, 39.39\n2014-11-26, BUY CREATE, 39.39\n2014-11-28, BUY EXECUTED, Price: 39.49, Cost: 394.90, Stake: 10.00, Commission: 0.00\n2014-11-28, Close, 39.89\n2014-12-01, Close, 39.58\n2014-12-02, Close, 39.68\n2014-12-03, Close, 39.57\n2014-12-03, SELL CREATE, 39.57\n2014-12-04, SELL EXECUTED, Price: 39.62, Cost: 394.90, Stake: -10.00, Commission: 0.00\n2014-12-04, OPERATION PROFIT, GROSS 1.30, NET 1.30\n2014-12-04, Close, 39.41\n2014-12-05, Close, 39.44\n2014-12-08, Close, 38.92\n2014-12-09, Close, 39.39\n2014-12-09, BUY CREATE, 39.39\n2014-12-10, BUY EXECUTED, Price: 39.23, Cost: 392.30, Stake: 10.00, Commission: 0.00\n2014-12-10, Close, 38.49\n2014-12-10, SELL CREATE, 38.49\n2014-12-11, SELL EXECUTED, Price: 38.68, Cost: 392.30, Stake: -10.00, Commission: 0.00\n2014-12-11, OPERATION PROFIT, GROSS -5.50, NET -5.50\n2014-12-11, Close, 38.34\n2014-12-12, Close, 37.58\n2014-12-15, Close, 38.67\n2014-12-15, BUY CREATE, 38.67\n2014-12-16, BUY EXECUTED, Price: 38.47, Cost: 384.70, Stake: 10.00, Commission: 0.00\n2014-12-16, Close, 38.22\n2014-12-16, SELL CREATE, 38.22\n2014-12-17, SELL EXECUTED, Price: 38.63, Cost: 384.70, Stake: -10.00, Commission: 0.00\n2014-12-17, OPERATION PROFIT, GROSS 1.60, NET 1.60\n2014-12-17, Close, 38.72\n2014-12-17, BUY CREATE, 38.72\n2014-12-18, BUY EXECUTED, Price: 41.23, Cost: 412.30, Stake: 10.00, Commission: 0.00\n2014-12-18, Close, 42.66\n2014-12-19, Close, 43.27\n2014-12-22, Close, 42.94\n2014-12-23, Close, 43.28\n2014-12-24, Close, 43.49\n2014-12-26, Close, 43.37\n2014-12-29, Close, 42.91\n2014-12-29, SELL CREATE, 42.91\n2014-12-30, SELL EXECUTED, Price: 42.85, Cost: 412.30, Stake: -10.00, Commission: 0.00\n2014-12-30, OPERATION PROFIT, GROSS 16.20, NET 16.20\n2014-12-30, Close, 42.65\nFinal Portfolio Value: 997.20\n"
     ]
    }
   ],
   "source": [
    "#another Test Strategy \n",
    "# (PyAlgoTrade example - using a Simple Moving Average indicator:\n",
    "# - buy if the close is greater than the moving average\n",
    "# - sell if the close is smaller than the moving average\n",
    "#  - (*)only 1 active operation is allowed in the market):\n",
    "\n",
    "class TestStrategy2(bt.Strategy):\n",
    "\n",
    "    def log(self, txt, dt=None):\n",
    "        dt = dt or self.datas[0].datetime.date(0)\n",
    "        print(\"%s, %s\" % (dt.isoformat(), txt))\n",
    "\n",
    "    def __init__(self):\n",
    "        self.dataclose = self.datas[0].close\n",
    "\n",
    "        self.order = None\n",
    "\n",
    "        self.sma = bt.indicators.SimpleMovingAverage(self.datas[0], period=5)\n",
    "\n",
    "    def notify_order(self, order):\n",
    "        if order.status in [order.Submitted, order.Accepted]:\n",
    "            return\n",
    "\n",
    "        if order.status in [order.Completed]:\n",
    "            if order.isbuy():\n",
    "                self.log(\"BUY EXECUTED, Price: %.2f, Cost: %.2f, Stake: %.2f, Commission: %.2f\" % (order.executed.price, order.executed.value, order.executed.size, order.executed.comm))\n",
    "            else:\n",
    "                self.log(\"SELL EXECUTED, Price: %.2f, Cost: %.2f, Stake: %.2f, Commission: %.2f\" % (order.executed.price, order.executed.value, order.executed.size, order.executed.comm))\n",
    "\n",
    "        elif order.status in [ord/er.Canceled, order.Margin, order.Rejected]:\n",
    "            self.log(\"Order Canceled / Margin / Rejected\")\n",
    "        \n",
    "        self.order = None       #remember to signal no pending order now\n",
    "\n",
    "    def notify_trade(self, trade):\n",
    "        if not trade.isclosed:\n",
    "            return\n",
    "        \n",
    "        self.log(\"OPERATION PROFIT, GROSS %.2f, NET %.2f\" % (trade.pnl, trade.pnlcomm))\n",
    "\n",
    "    def next(self):\n",
    "        self.log(\"Close, %.2f\" % self.dataclose[0])\n",
    "    \n",
    "        if self.order:      #if there's a pending order, don't send a 2nd order\n",
    "            return\n",
    "\n",
    "        if not self.position:     #if not yet in the market! -- can only Buy first\n",
    "            if self.dataclose[0] > self.sma[0]:      #if close greater than sma currently --buy!\n",
    "                self.log(\"BUY CREATE, %.2f\" % self.dataclose[0])\n",
    "                self.order = self.buy()      #remember to signal there's a BUY pending order!   \n",
    "        else:    #already in the market\n",
    "            if self.dataclose[0] < self.sma[0]:      #if close smaller than sma currently -- sell!\n",
    "                self.log(\"SELL CREATE, %.2f\" % self.dataclose[0])\n",
    "                self.order = self.sell()     #remember to signal there's a SELL pending order!\n",
    "            \n",
    "if __name__ == \"__main__\":\n",
    "    cerebro = bt.Cerebro()\n",
    "\n",
    "    cerebro.addstrategy(TestStrategy2)\n",
    "\n",
    "    #modpath = os.path.dirname(os.path.abspath(sys.argv[0]))\n",
    "    #datapath = os.path.join(modpath, \"../data/orcl-2014.txt\")\n",
    "    datapath = \"../data/orcl-2014.txt\"\n",
    "    #print(modpath)\n",
    "    print(datapath)\n",
    "\n",
    "    data = bt.feeds.YahooFinanceCSVData(dataname=datapath, fromdate=datetime.datetime(2014, 1, 2), todate=datetime.datetime(2014, 12, 31), reverse=False)\n",
    "\n",
    "    cerebro.adddata(data)\n",
    "\n",
    "    cerebro.broker.setcash(1000.0)\n",
    "\n",
    "    cerebro.addsizer(bt.sizers.FixedSize, stake=10)      #10 'stake' now instead of default 1 'stake'\n",
    "\n",
    "    cerebro.broker.setcommission(commission=0.0)      #mark the broker commission rate here\n",
    "\n",
    "    print(\"Starting Portfolio Value: %.2f\" % cerebro.broker.getvalue())\n",
    "\n",
    "    cerebro.run()\n",
    "\n",
    "    print(\"Final Portfolio Value: %.2f\" % cerebro.broker.getvalue())\n",
    "\n",
    "    #***!!!NOTICE use \"Qt5Agg\" matplotlib backend!!!\n",
    "    matplotlib.use(\"Qt5Agg\")\n",
    "    cerebro.plot(height=30, iplot=False)\n"
   ]
  },
  {
   "cell_type": "code",
   "execution_count": null,
   "metadata": {},
   "outputs": [],
   "source": []
  }
 ],
 "metadata": {
  "kernelspec": {
   "name": "Python 3.7.7 64-bit ('cryptoalgowheel': conda)",
   "display_name": "Python 3.7.7 64-bit ('cryptoalgowheel': conda)",
   "metadata": {
    "interpreter": {
     "hash": "a411e8de9576feb9c368944c47223e861c77b268139bf5dbbae0559e208c4ac5"
    }
   }
  },
  "language_info": {
   "codemirror_mode": {
    "name": "ipython",
    "version": 3
   },
   "file_extension": ".py",
   "mimetype": "text/x-python",
   "name": "python",
   "nbconvert_exporter": "python",
   "pygments_lexer": "ipython3",
   "version": "3.7.7-final"
  }
 },
 "nbformat": 4,
 "nbformat_minor": 2
}