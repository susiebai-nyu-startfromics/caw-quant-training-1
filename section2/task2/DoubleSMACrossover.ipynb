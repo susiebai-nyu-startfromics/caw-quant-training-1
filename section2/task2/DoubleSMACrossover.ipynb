{
 "cells": [
  {
   "cell_type": "code",
   "execution_count": 1,
   "metadata": {},
   "outputs": [],
   "source": [
    "# first, REMEMBER to activate cryptoalgowheel-S2 environment!"
   ]
  },
  {
   "cell_type": "code",
   "execution_count": 2,
   "metadata": {},
   "outputs": [],
   "source": [
    "from __future__ import (absolute_import, division, print_function, unicode_literals)\n",
    "\n",
    "import os\n",
    "import datetime\n",
    "import sys\n",
    "\n",
    "import backtrader as bt\n",
    "import numpy as np\n",
    "import pandas as pd\n",
    "import matplotlib\n",
    "import PyQt5"
   ]
  },
  {
   "cell_type": "code",
   "execution_count": 3,
   "metadata": {},
   "outputs": [],
   "source": [
    "datadir = \"../data\"\n",
    "logdir = \"../log\"\n",
    "reportdir = \"../report\"\n",
    "datafile = \"BTC_USDT_1h.csv\"\n",
    "logfile = \"BTC_USDT_1h_DoubleSMACross_10_20_2020-01-01_2020-04-01.csv\"\n",
    "figfile = \"BTC_USDT_1h_DoubleSMACross_10_20_2020-01-01_2020-04-01.png\"\n",
    "from_datetime = \"2020-01-01 00:00:00\"\n",
    "to_datetime = \"2020-04-01 00:00:00\""
   ]
  },
  {
   "cell_type": "code",
   "execution_count": 4,
   "metadata": {},
   "outputs": [],
   "source": [
    "class DoubleSMACross(bt.Strategy):\n",
    "    #***IMPORTANT: \"parameters collection\" that can be changed through passing-in later when \"adding strategy\";\n",
    "    #usage of this \"parameters collection\" later: use \"self.params.xxx\"!\n",
    "    params = (\n",
    "    #***\"pfast\" and \"pslow\" are parameters for \"bt.ind.SMA\" instance (the SMA indicator object in the package)!!\n",
    "        (\"pfast\", 10),       # \"pfast\": 'fast' moving average\n",
    "        (\"pslow\", 20),       # \"pslow\": 'slow' moving average\n",
    "    )\n",
    "\n",
    "    def __init__(self):\n",
    "        self.dataclose = self.datas[0].close\n",
    "\n",
    "        #add both \"fast\" and \"slow\" SimpleMovingAverage indicators\n",
    "        self.fastsma = bt.indicators.SimpleMovingAverage(self.datas[0], period=self.params.pfast)\n",
    "        self.slowsma = bt.indicators.SimpleMovingAverage(self.datas[0], period=self.params.pslow)\n",
    "\n",
    "    def next(self):      #similar to naive HelloWorld strategy written last time\n",
    "\n",
    "        if not self.position:      #not yet in market\n",
    "            if (self.fastsma[-1] <= self.slowsma[-1]) and (self.fastsma[0] > self.slowsma[0]):     # When the \"fast\" SMA line crosses over the \"slow\" SMA line 'from below' -- buy!\n",
    "                self.buy()\n",
    "        else:      #already in market\n",
    "            if (self.fastsma[-1] >= self.slowsma[-1]) and (self.fastsma[0] < self.slowsma[0]):     #when \n",
    "                self.sell()"
   ]
  },
  {
   "cell_type": "code",
   "execution_count": 5,
   "metadata": {},
   "outputs": [],
   "source": [
    "cerebro = bt.Cerebro()\n",
    "\n",
    "#feed data:\n",
    "data = pd.read_csv(os.path.join(datadir, datafile), index_col=\"datetime\", parse_dates=True)     #***IMPORTANT DETAIL: Must set \"datetime\" columm as the \"index\" of the pandas DataFrame!!!\n",
    "data = data.loc[(data.index >= pd.to_datetime(from_datetime)) & (data.index <= pd.to_datetime(to_datetime))]    #(datafile already corresponding to the required time-frame: just in case here)\n",
    "datafeed = bt.feeds.PandasData(dataname=data, timeframe=bt.TimeFrame.Minutes, compression=60)\n",
    "cerebro.adddata(datafeed)\n",
    "\n",
    "#add strategy:\n",
    "cerebro.addstrategy(DoubleSMACross)\n",
    "\n",
    "cerebro.addsizer(bt.sizers.PercentSizer, percents=99) #this PercentSizer sizer object returns percents of available cash\n",
    "#* here, parameter \"percents=99\" means using 99% of all currently available cash (to trade) (not completely \"All-In\"(100%))\n",
    "\n",
    "cerebro.broker.set_cash(10000)\n",
    "cerebro.broker.setcommission(commission=0.001)\n",
    "\n",
    "#add logger\n",
    "cerebro.addwriter(bt.WriterFile, out=os.path.join(logdir, logfile), csv=True)       #there is only a single Writer defined called WriterFile, which can be added to the system\n",
    "#by calling cerebro.addwriter(writerclass, **kwargs), writerclass will be instantiated during backtesting execution with the given kwargs\n",
    "#[documentation: https://www.backtrader.com/docu/writer/]\n",
    "\n",
    "#run\n",
    "cerebro.run()\n",
    "\n",
    "#save graph report\n",
    "#(*! use PyQt5 backend on matplotlib here (Mac)!!)\n",
    "matplotlib.use(\"Qt5Agg\")\n",
    "fig = cerebro.plot(height=30, style=\"candlestick\", barup=\"green\", bardown=\"red\", iplot=False)\n",
    "fig[0][0].savefig(os.path.join(reportdir, figfile), dpi=480)\n",
    "#cerebro.plot(height=30, width=60, style=\"candlestick\", barup=\"green\", bardown=\"red\", iplot=False)\n"
   ]
  },
  {
   "cell_type": "code",
   "execution_count": 6,
   "metadata": {},
   "outputs": [
    {
     "output_type": "stream",
     "name": "stdout",
     "text": [
      "<class '__main__.DoubleSMACross'>\n"
     ]
    }
   ],
   "source": [
    "print(cerebro.strats[0][0][0])\n",
    "#Note: this shows the specific strategy class created here"
   ]
  },
  {
   "cell_type": "code",
   "execution_count": 7,
   "metadata": {},
   "outputs": [
    {
     "output_type": "stream",
     "name": "stdout",
     "text": [
      "{'__module__': 'backtrader.metabase', '__doc__': None, '_getpairsbase': <classmethod object at 0x7ff87881d050>, '_getpairs': <classmethod object at 0x7ff87881d090>, '_getrecurse': <classmethod object at 0x7ff87881d150>, 'pfast': 10, 'pslow': 20}\n"
     ]
    }
   ],
   "source": [
    "print(cerebro.strats[0][0][0].params.__dict__)\n",
    "#Note: this shows all the parameter values specified for the strategy class\n",
    "#(shown at the end of the parameter dictionary)"
   ]
  },
  {
   "cell_type": "code",
   "execution_count": 8,
   "metadata": {},
   "outputs": [
    {
     "output_type": "stream",
     "name": "stdout",
     "text": [
      "pfast: 10\npslow: 20\n"
     ]
    }
   ],
   "source": [
    "#display corresponding parameter & value:\n",
    "print(\"pfast:\", cerebro.strats[0][0][0].params.__dict__[\"pfast\"])\n",
    "print(\"pslow:\", cerebro.strats[0][0][0].params.__dict__[\"pslow\"])\n"
   ]
  },
  {
   "cell_type": "code",
   "execution_count": null,
   "metadata": {},
   "outputs": [],
   "source": []
  }
 ],
 "metadata": {
  "kernelspec": {
   "name": "Python 3.7.7 64-bit ('cryptoalgowheel-S2': conda)",
   "display_name": "Python 3.7.7 64-bit ('cryptoalgowheel-S2': conda)",
   "metadata": {
    "interpreter": {
     "hash": "98c52a0100ece2bad51af4eca15b1d63f28e59f13e2f363876bc8388e45f1936"
    }
   }
  },
  "language_info": {
   "codemirror_mode": {
    "name": "ipython",
    "version": 3
   },
   "file_extension": ".py",
   "mimetype": "text/x-python",
   "name": "python",
   "nbconvert_exporter": "python",
   "pygments_lexer": "ipython3",
   "version": "3.7.7-final"
  }
 },
 "nbformat": 4,
 "nbformat_minor": 2
}